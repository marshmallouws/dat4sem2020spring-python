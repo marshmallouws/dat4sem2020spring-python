{
 "cells": [
  {
   "cell_type": "code",
   "execution_count": null,
   "metadata": {},
   "outputs": [],
   "source": [
    "import warnings\n",
    "warnings.filterwarnings('ignore')"
   ]
  },
  {
   "cell_type": "markdown",
   "metadata": {
    "slideshow": {
     "slide_type": "slide"
    }
   },
   "source": [
    "# HTML Refresher\n",
    "This part is based on chapter 11 of *Automate the Boring Stuff with Python* by Al Sweigart\n",
    "\n",
    "HTML files are plain text files containing *tags*, which are words enclosed in angle brackets. Tags tell the browser how to format the web page. A starting tag and closing tag can enclose some text to form an element. The text (or inner HTML) is the content between the starting and closing tags.\n",
    "\n",
    "There are many different tags in HTML. Some of these tags have extra properties in the form of attributes within the angle brackets. For example, the `<a>` tag encloses text that should be a link.\n",
    "\n",
    "Some elements have an `id` attribute that is used to uniquely identify the element in the page. You will often instruct your programs to seek out an element by its id attribute, so figuring out an element’s id attribute using the browser’s developer tools is a common task in writing web scraping programs."
   ]
  },
  {
   "cell_type": "code",
   "execution_count": 1,
   "metadata": {},
   "outputs": [],
   "source": [
    "%%bash\n",
    "cat << EOF > example.html\n",
    "<!DOCTYPE html>\n",
    "<html>\n",
    "<head>\n",
    "<title>Hello!</title>\n",
    "</head>\n",
    "<body>\n",
    "<h1>Hello World!</h1>\n",
    "You are extremely welcome!<br>\n",
    "<br>\n",
    "The <a href=\\\"https://github.com/datsoftlyngby/dat4sem2019spring-python-materials\\\">Lecture Notes</a>.<br>\n",
    "<div>\n",
    "<p>paragraph 1</p>\n",
    "<p>and paragraph 2: <span id=\"span01\">This is span 1</span id=\"span02\"><span id=\"span03\">Second span element</span>\n",
    "<span class=\"red_border\">Here is the third span</span>\n",
    "</p>\n",
    "</div>\n",
    "</body>\n",
    "</html>\n",
    "EOF"
   ]
  },
  {
   "cell_type": "code",
   "execution_count": 2,
   "metadata": {
    "slideshow": {
     "slide_type": "-"
    }
   },
   "outputs": [],
   "source": [
    "%%bash\n",
    "xdg-open example.html"
   ]
  },
  {
   "cell_type": "markdown",
   "metadata": {
    "slideshow": {
     "slide_type": "slide"
    }
   },
   "source": [
    "# View a Page's HTML Sources\n",
    "\n",
    "Here, I will only describe how to use Firefox' development features.\n",
    "\n",
    "To view a page's sources right click on it and choose **View page source** which opens a new tab with the HTML sources.\n",
    "\n",
    "<img src=\"images/view_source_small.png\" width=\"500\"> "
   ]
  },
  {
   "cell_type": "markdown",
   "metadata": {
    "slideshow": {
     "slide_type": "slide"
    }
   },
   "source": [
    "In Firefox, you can bring up the Web Developer Tools Inspector by pressing `CTRL-SHIFT-C` on Windows and Linux or by `CMD-OPTION-C` on OS X.\n",
    "\n",
    "<img src=\"images/inspector_small.png\" width=\"600\"> "
   ]
  },
  {
   "cell_type": "markdown",
   "metadata": {
    "slideshow": {
     "slide_type": "slide"
    }
   },
   "source": [
    "# Parsing HTML with BeautifulSoup\n",
    "\n",
    "BeautifulSoup is a module for parsing and extracting information from HTML sources. The module’s name is bs4. In case it is not already installed on your machine:\n",
    "- install it with `pip install beautifulsoup4`. While beautifulsoup4 is the name used for installation, \n",
    "- to import BeautifulSoup you have to use `import bs4`.\n",
    "\n",
    "According to its documentation (https://www.crummy.com/software/BeautifulSoup/) *\"Beautiful Soup parses anything you give it, and does the tree traversal stuff for you. You can tell it \"Find all the links\", or \"Find all the links of class externalLink\", or \"Find all the links whose urls match \"foo.com\", or \"Find the table heading that's got bold text, then give me that text.\"\"*"
   ]
  },
  {
   "cell_type": "markdown",
   "metadata": {
    "slideshow": {
     "slide_type": "slide"
    }
   },
   "source": [
    "## Creating a BeautifulSoup Object from a Local HTML File\n",
    "\n",
    "- The `bs4.BeautifulSoup()` function needs to be called with a string containing the HTML it will parse. \n",
    "- The `bs4.BeautifulSoup()` function returns is a `BeautifulSoup` object.\n",
    "\n",
    "You can load a local HTML file and pass a file object to `bs4.BeautifulSoup()`."
   ]
  },
  {
   "cell_type": "code",
   "execution_count": 3,
   "metadata": {
    "slideshow": {
     "slide_type": "slide"
    }
   },
   "outputs": [
    {
     "name": "stdout",
     "output_type": "stream",
     "text": [
      "<class 'bs4.BeautifulSoup'>\n",
      "<!DOCTYPE html>\n",
      "<html>\n",
      " <head>\n",
      "  <title>\n",
      "   Hello!\n",
      "  </title>\n",
      " </head>\n",
      " <body>\n",
      "  <h1>\n",
      "   Hello World!\n",
      "  </h1>\n",
      "  You are extremely welcome!\n",
      "  <br/>\n",
      "  <br/>\n",
      "  The\n",
      "  <a href='\\\"https://github.com/datsoftlyngby/dat4sem2019spring-python-materials\\\"'>\n",
      "   Lecture Notes\n",
      "  </a>\n",
      "  .\n",
      "  <br/>\n",
      "  <div>\n",
      "   <p>\n",
      "    paragraph 1\n",
      "   </p>\n",
      "   <p>\n",
      "    and paragraph 2:\n",
      "    <span id=\"span01\">\n",
      "     This is span 1\n",
      "    </span>\n",
      "    <span id=\"span03\">\n",
      "     Second span element\n",
      "    </span>\n",
      "    <span class=\"red_border\">\n",
      "     Here is the third span\n",
      "    </span>\n",
      "   </p>\n",
      "  </div>\n",
      " </body>\n",
      "</html>\n",
      "\n"
     ]
    }
   ],
   "source": [
    "import bs4\n",
    "\n",
    "with open('./example.html') as f:\n",
    "    example_html = f.read()\n",
    "    \n",
    "soup = bs4.BeautifulSoup(example_html)\n",
    "print(type(soup))\n",
    "print(soup.prettify())"
   ]
  },
  {
   "cell_type": "markdown",
   "metadata": {
    "slideshow": {
     "slide_type": "slide"
    }
   },
   "source": [
    "## Creating a BeautifulSoup Object from a Remote HTML File\n",
    "\n"
   ]
  },
  {
   "cell_type": "code",
   "execution_count": 1,
   "metadata": {
    "slideshow": {
     "slide_type": "slide"
    }
   },
   "outputs": [
    {
     "name": "stdout",
     "output_type": "stream",
     "text": [
      "<!DOCTYPE html>\n",
      "<html lang=\"en\">\n",
      " <head>\n",
      "  <meta charset=\"utf-8\"/>\n",
      "  <link href=\"https://github.githubassets.com\" rel=\"dns-prefetch\"/>\n",
      "  <link href=\"https://avatars0.githubusercontent.com\" rel=\"dns-prefetch\"/>\n",
      "  <link href=\"https://avatars1.githubusercontent.com\" rel=\"dns-prefetch\"/>\n",
      "  <link href=\"https://avatars2.githubusercontent.com\" rel=\"dns-prefetch\"/>\n",
      "  <link href=\"https://avatars3.githubusercontent.com\" rel=\"dns-prefetch\"/>\n",
      "  <link href=\"https://github-cloud.s3.amazonaws.com\" rel=\"dns-prefetch\"/>\n",
      "  <link href=\"https://user-images.githubusercontent.com/\" rel=\"dns-prefetch\"/>\n",
      "  <link crossorigin=\"anonymous\" href=\"https://github.githubassets.com/assets/frameworks-7b00555b34e27547e4200fc646d0f990.css\" integrity=\"sha512-ewBVWzTidUfkIA/GRtD5kGS5AtVPpm8zpUXbCgMZ6xOI8wSa6QT6psJ9FNdwKsZ+PNVNncnR4YJcxrUlJ+/8LQ==\" media=\"all\" rel=\"stylesheet\">\n",
      "   <link crossorigin=\"anonymous\" href=\"https://github.githubassets.com/assets/site-db5797d9868460861af755858749976b.css\" integrity=\"sha512-21eX2YaEYIYa91WFh0mXaxJ3wLQxy2ldlpRbyuCueK3MvqHGEzmXYPkMQ4XBtASauZXKlL1hPxQQU9g28R03wQ==\" media=\"all\" rel=\"stylesheet\">\n",
      "    <link crossorigin=\"anonymous\" href=\"https://github.githubassets.com/assets/github-cf76c0d32d2339066765a3b53a4a84d4.css\" integrity=\"sha512-z3bA0y0jOQZnZaO1OkqE1OKr/DTmEmOfJyEblXESzZdzbQPHGcLe4mB8askHLbD6qV9IbKltKwwSw9svSeC0mA==\" media=\"all\" rel=\"stylesheet\">\n",
      "     <meta content=\"width=device-width\" name=\"viewport\"/>\n",
      "     <title>\n",
      "      GitHub - datsoftlyngby/dat4sem2020spring-python: E\n"
     ]
    }
   ],
   "source": [
    "import bs4\n",
    "import requests\n",
    "\n",
    "\n",
    "r = requests.get('https://github.com/datsoftlyngby/dat4sem2020spring-python')\n",
    "r.raise_for_status()\n",
    "soup = bs4.BeautifulSoup(r.text, 'html.parser')\n",
    "\n",
    "print(soup.prettify()[:1500])"
   ]
  },
  {
   "cell_type": "markdown",
   "metadata": {
    "slideshow": {
     "slide_type": "slide"
    }
   },
   "source": [
    "## Finding an Element with the `select()` Method\n",
    "\n",
    "You can retrieve HTML elements from a `BeautifulSoup` object by calling the `select()` method and passing a string of a CSS selector for the element you are looking for. Selectors are like regular expressions: They specify a pattern to look for, in this case, in HTML pages instead of general text strings.\n",
    "\n",
    "Common CSS selector patterns include:\n",
    "\n",
    "  * `soup.select('div')` ... selects all elements named `<div>`\n",
    "  * `soup.select('#lecturer')`  ... selects the element with an id attribute of author\n",
    "  * `soup.select('.notice')` ... selects all elements that use a CSS class attribute named notice\n",
    "  * `soup.select('div span')` ... selects all elements named `<span>` that are within an element named `<div>`\n",
    "  * `soup.select('div > span')` ... selects all elements named `<span>` that are directly within an element named `<div>`, with no other element in between\n",
    "  * `soup.select('input[name]')` ... selects all elements named `<input>` that have a name attribute with any value\n",
    "  * `soup.select('input[type=\"button\"]')` ... selects all elements named `<input>` that have an attribute named type with value button\n",
    "  \n",
    "See more in the documentation: https://www.crummy.com/software/BeautifulSoup/bs4/doc/#css-selectors"
   ]
  },
  {
   "cell_type": "code",
   "execution_count": 13,
   "metadata": {
    "slideshow": {
     "slide_type": "slide"
    }
   },
   "outputs": [
    {
     "name": "stdout",
     "output_type": "stream",
     "text": [
      "1: return type of select() <class 'list'>\n",
      "2: length of the returned list 1\n",
      "3: type of elements in the list <class 'bs4.element.Tag'>\n",
      "4: get text from the element \n",
      "Hello World!\n",
      "You are extremely welcome!\n",
      "5: string representation of an element:  <body id=\"html_body\">\n",
      "<h1>Hello World!</h1>\n",
      "You are extremely welcome!<br/>\n",
      "<br/>\n",
      "The <a href='\\\"https://github.com/datsoftlyngby/dat4sem2019spring-python-materials\\\"'>Lecture Notes</a>.<br/>\n",
      "<div>\n",
      "<p>paragraph 1</p>\n",
      "<p>and paragraph 2: <span id=\"span01\">This is span 1</span><span id=\"span03\">Second span element</span>\n",
      "<span class=\"red_border\">Here is the third span</span>\n",
      "</p>\n",
      "</div>\n",
      "</body>\n",
      "6: the attributes of the element:  {'id': 'html_body'}\n"
     ]
    }
   ],
   "source": [
    "import bs4\n",
    "\n",
    "\n",
    "with open('./example.html') as f:\n",
    "    example_html = f.read()\n",
    "\n",
    "soup = bs4.BeautifulSoup(example_html, 'html.parser')\n",
    "\n",
    "elems = soup.select('body')\n",
    "\n",
    "#print(soup.prettify())\n",
    "print('1: return type of select()',type(elems))\n",
    "print('2: length of the returned list',len(elems))\n",
    "print('3: type of elements in the list',type(elems[0]))\n",
    "print('4: get text from the element',elems[0].getText()[:40])\n",
    "print('5: string representation of an element: ',str(elems[0]))\n",
    "print('6: the attributes of the element: ',elems[0].attrs)"
   ]
  },
  {
   "cell_type": "code",
   "execution_count": 14,
   "metadata": {
    "slideshow": {
     "slide_type": "slide"
    }
   },
   "outputs": [
    {
     "name": "stdout",
     "output_type": "stream",
     "text": [
      "<p>paragraph 1</p>\n",
      "paragraph 1\n",
      "------------\n",
      "<p>and paragraph 2: <span id=\"span01\">This is span 1</span><span id=\"span03\">Second span element</span>\n",
      "<span class=\"red_border\">Here is the third span</span>\n",
      "</p>\n",
      "and paragraph 2: This is span 1Second span element\n",
      "Here is the third span\n",
      "\n",
      "------------\n"
     ]
    }
   ],
   "source": [
    "p_elems = soup.select('p')\n",
    "\n",
    "for el in p_elems:\n",
    "    print(str(el))\n",
    "    print(el.getText())\n",
    "    print('------------')"
   ]
  },
  {
   "cell_type": "markdown",
   "metadata": {
    "slideshow": {
     "slide_type": "slide"
    }
   },
   "source": [
    "## Getting Data from an Element’s Attributes\n",
    "\n",
    "The `get()` method for Tag objects makes it simple to access attribute values from an element. The method is passed a string of an attribute name and returns that attribute’s value."
   ]
  },
  {
   "cell_type": "code",
   "execution_count": 18,
   "metadata": {
    "slideshow": {
     "slide_type": "slide"
    }
   },
   "outputs": [
    {
     "data": {
      "text/plain": [
       "'lecturer'"
      ]
     },
     "execution_count": 18,
     "metadata": {},
     "output_type": "execute_result"
    }
   ],
   "source": [
    "{'id': 'lecturer'}.get('id')"
   ]
  },
  {
   "cell_type": "code",
   "execution_count": 4,
   "metadata": {
    "slideshow": {
     "slide_type": "slide"
    }
   },
   "outputs": [
    {
     "name": "stdout",
     "output_type": "stream",
     "text": [
      "<span id=\"span01\">This is span 1</span>\n",
      "span01\n",
      "True\n",
      "{'id': 'span01'}\n"
     ]
    }
   ],
   "source": [
    "import bs4\n",
    "\n",
    "with open('./example.html') as f:\n",
    "    example_html = f.read()\n",
    "    \n",
    "soup = bs4.BeautifulSoup(example_html, 'html.parser')\n",
    "# soup.find_all?\n",
    "span_elem = soup.select('span')[0]\n",
    "print(str(span_elem))\n",
    "print(span_elem.get('id'))\n",
    "print(span_elem.get('some_nonexistent_addr') == None)\n",
    "print(span_elem.attrs)"
   ]
  },
  {
   "cell_type": "markdown",
   "metadata": {
    "slideshow": {
     "slide_type": "slide"
    }
   },
   "source": [
    "### What is the difference between the `select` and the `find`/`find_all` functions?\n",
    "\n",
    "You are not the first ones wondering about this... See:\n",
    "https://stackoverflow.com/questions/38028384/beautifulsoup-is-there-a-difference-between-find-and-select-python-3-x#38033910"
   ]
  },
  {
   "cell_type": "markdown",
   "metadata": {
    "slideshow": {
     "slide_type": "slide"
    }
   },
   "source": [
    "# Example Scraping Events from a Page\n",
    "\n",
    "\n",
    "Ususally, you will use web scraping to collect information, which you cannot gather otherwise. \n",
    "For example, let's imagine we want to do some statistics about:\n",
    "- concerts in Copenhagen, \n",
    "- their start times and \n",
    "- their door prices.\n",
    "\n",
    "Since we cannot find an API or any other open dataset, we decide to scrape the publicly available homepage www.kultunaut.dk, \n",
    "\n",
    "The website lists all possible events in Denmark. \n",
    "Concerts in Copenhagen are for example accessible here: \n",
    "- http://www.kultunaut.dk/perl/arrlist/type-nynaut/UK?showmap=&Area=Kbh.+og+Frederiksberg&periode=&Genre=Musik\n",
    "\n",
    "**OBS** Many web pages are not built to support high traffic or they exlicitely discourage automatic access. Keep this in mind when writing your scraping tool.\n",
    "- from time import sleep\n",
    "- sleep(3) # sleep 3 seconds\n",
    "\n",
    "\n",
    "Considering our example:\n",
    "- we have to first figure out how many events there are at all. \n",
    "- We need this information, as events are given paginated, i.e., twenty events per page.\n",
    "- The link given above only returns the link to the first page with the first twenty events. \n",
    "- Out of the total amount of events we can generate the URLs for the subsequent results."
   ]
  },
  {
   "cell_type": "code",
   "execution_count": 22,
   "metadata": {
    "slideshow": {
     "slide_type": "slide"
    }
   },
   "outputs": [
    {
     "name": "stdout",
     "output_type": "stream",
     "text": [
      "<b>Showing 1-20 of 1365\r\n",
      "events  in Cph. and Frederiksberg <span style=\"white-space: nowrap;\"> from/after 9 Mar 2020</span> </b>\n"
     ]
    }
   ],
   "source": [
    "r = requests.get('http://www.kultunaut.dk/perl/arrlist/type-nynaut/UK?showmap=&Area=Kbh.+og+Frederiksberg&periode=&Genre=Musik')\n",
    "r.raise_for_status()\n",
    "soup = bs4.BeautifulSoup(r.text, 'html.parser')\n",
    "\n",
    "elems = soup.find_all('td', attrs={'style': 'background-color:#CBDCEE;color:#324669'})[0]\n",
    "b_el = elems.find('b')\n",
    "print(b_el)"
   ]
  },
  {
   "cell_type": "code",
   "execution_count": 23,
   "metadata": {
    "slideshow": {
     "slide_type": "slide"
    }
   },
   "outputs": [
    {
     "name": "stdout",
     "output_type": "stream",
     "text": [
      "1365\r\n",
      "events\n",
      "1365\n"
     ]
    }
   ],
   "source": [
    "# extract from text (the hard way)\n",
    "\n",
    "import bs4\n",
    "import requests\n",
    "\n",
    "\n",
    "r = requests.get('http://www.kultunaut.dk/perl/arrlist/type-nynaut/UK?showmap=&Area=Kbh.+og+Frederiksberg&periode=&Genre=Musik')\n",
    "r.raise_for_status\n",
    "soup = bs4.BeautifulSoup(r.text, 'html.parser')\n",
    "\n",
    "elems = soup.find_all('td', {'style': 'background-color:#CBDCEE;color:#324669'})\n",
    "el0 = elems[0]\n",
    "\n",
    "fifth = str(el0).split(' ')[5]\n",
    "print(fifth)\n",
    "number = int(str(fifth.split('\\n')[0]))\n",
    "#print(el0)\n",
    "#print(fifth)\n",
    "print(number)"
   ]
  },
  {
   "cell_type": "markdown",
   "metadata": {},
   "source": [
    "### Looking at the browser inspector pane:\n",
    "\n",
    "<img src=\"images/inspect_element.png\" width=\"500\">\n",
    "\n",
    "We can see that the desired element is hiding in a structure like: a b-tag inside a h3-tag inside a td-tag or:\n",
    "- `('td h3 b')`"
   ]
  },
  {
   "cell_type": "code",
   "execution_count": 21,
   "metadata": {
    "slideshow": {
     "slide_type": "slide"
    }
   },
   "outputs": [
    {
     "name": "stdout",
     "output_type": "stream",
     "text": [
      "number of events is 20\n",
      "Jane og Shane - søndagsmatine.\n",
      "Giant Steps i Børnehøjde m/Carl Quist-Møller & Thomas Sandberg Rytmevæsenet.\n",
      "Sankt Petri Menighed 445 år.\n",
      "Søndage med Jazz i Pakhuset.\n",
      "Loppemarked.\n",
      "Matiné i kirken.\n",
      "Matiné-koncert.\n",
      "Menighedsplejens årsmøde.\n",
      "Koncert.\n",
      "Jazz Cafe med \"Amanda J / Rikke\".\n",
      "Erik Satie konkurrence for unge musikere og sangere.\n",
      "Plademarked.\n",
      "Maries Festival Band - Store ørehængere.\n",
      "Koncert med Jeannet Ulrikkeholm.\n",
      "Koncert.\n",
      "Haletudserne.\n",
      "Søndagsjazz - RiverJazz & Blues Band - Dronning Louises Jazzklub.\n",
      "Hyldestkoncert til Benny Andersen.\n",
      "Cantarellerne giver koncert i Karlebo Kirke.\n",
      "Alsang i domkirken.\n"
     ]
    }
   ],
   "source": [
    "# use select with css-selectors rather than find_all\n",
    "import bs4\n",
    "import requests\n",
    "html = requests.get('http://www.kultunaut.dk/perl/arrlist/type-nynaut?Area=&ArrStartday=22&ArrStartmonth=Marts&ArrStartyear=2020&ArrSlutday=29&ArrSlutmonth=Marts&ArrSlutyear=2020&ArrMaalgruppe=&DefaultGenre=Musik&ArrKunstner=')\n",
    "txt = html.text\n",
    "soup = bs4.BeautifulSoup(txt, 'html.parser')\n",
    "events = soup.select('td h3 b')\n",
    "print('number of events is {}'.format(len(events)))\n",
    "for e in events:\n",
    "    print(e.getText())"
   ]
  },
  {
   "cell_type": "code",
   "execution_count": 24,
   "metadata": {},
   "outputs": [
    {
     "name": "stdout",
     "output_type": "stream",
     "text": [
      "<!DOCTYPE html>\n",
      "<html lang=\"en\">\n",
      " <!-- Initalize title and data source variables -->\n",
      " <head>\n",
      "  <!--\n",
      "\n",
      "------------------------\n",
      "/\n",
      "#explanation\n",
      "https://analytics.usa.gov/data/\n",
      "https://open.gsa.gov/api/dap/\n",
      "data/\n",
      "#top-pages-realtime\n",
      "#top-pages-7-days\n",
      "#top-pages-30-days\n",
      "https://analytics.usa.gov/data/live/all-pages-realtime.csv\n",
      "https://analytics.usa.gov/data/live/all-domains-30-days.csv\n",
      "https://www.digitalgov.gov/services/dap/\n",
      "https://www.digitalgov.gov/services/dap/common-questions-about-dap-faq/#part-4\n",
      "https://support.google.com/analytics/answer/2763052?hl=en\n",
      "https://analytics.usa.gov/data/live/second-level-domains.csv\n",
      "https://analytics.usa.gov/data/live/sites.csv\n",
      "mailto:DAP@support.digitalgov.gov\n",
      "https://analytics.usa.gov/data/\n",
      "https://open.gsa.gov/api/dap/\n",
      "mailto:DAP@support.digitalgov.gov\n",
      "https://github.com/GSA/analytics.usa.gov/issues\n",
      "https://github.com/GSA/analytics.usa.gov\n",
      "https://github.com/18F/analytics-reporter\n",
      "http://www.gsa.gov/\n",
      "https://www.digitalgov.gov/services/dap/\n",
      "https://cloud.gov/\n"
     ]
    }
   ],
   "source": [
    "# Get all the links in a document\n",
    "import requests\n",
    "from bs4 import BeautifulSoup\n",
    "gov = requests.get('https://analytics.usa.gov')\n",
    "soup = BeautifulSoup(gov.text, 'lxml')\n",
    "print(soup.prettify()[:100])\n",
    "print('------------------------')\n",
    "for link in soup.find_all('a'):\n",
    "    print(link.get('href'))"
   ]
  },
  {
   "cell_type": "code",
   "execution_count": 9,
   "metadata": {
    "slideshow": {
     "slide_type": "slide"
    }
   },
   "outputs": [
    {
     "name": "stdout",
     "output_type": "stream",
     "text": [
      "Showing 1-20 of 1379\r\n",
      "events  in Cph. and Frederiksberg  from/after 8 Mar 2020  <class 'str'> <class 'bs4.element.Tag'>\n",
      "Events:  1379\n"
     ]
    }
   ],
   "source": [
    "# using elems.text to get a string from the bs4.element.Tag object\n",
    "r = requests.get('http://www.kultunaut.dk/perl/arrlist/type-nynaut/UK?showmap=&Area=Kbh.+og+Frederiksberg&periode=&Genre=Musik')\n",
    "r.raise_for_status()\n",
    "soup = bs4.BeautifulSoup(r.text, 'html.parser')\n",
    "\n",
    "elems = soup.find_all('td', attrs={'style': 'background-color:#CBDCEE;color:#324669'})[0].find('b')\n",
    "print(elems.text, type(elems.text), type(elems))\n",
    "no_events = elems.text.split(' ')[3].split('\\r\\n')[0]\n",
    "no_events = int(no_events)\n",
    "print('Events: ',no_events)"
   ]
  },
  {
   "cell_type": "markdown",
   "metadata": {
    "slideshow": {
     "slide_type": "slide"
    }
   },
   "source": [
    "Now, we can scrape the events per page. Observe, that now, out `base_url` http://www.kultunaut.dk/perl/arrlist/type-nynaut/UK?Startnr={}&showmap=&Area=Kbh.%20og%20Frederiksberg&periode=&Genre=Musik& has a placeholder for the paginated results (`Startnr=`).\n",
    "\n",
    "Consequently, we scrape each page separately, see the function on the next slide: `scrape_events_per_page`. From examining the page's source code, we know that events are all given as table entries with a corresponding header. We iterate over each of the table cells and extract the strings for dates and prices if they exist."
   ]
  },
  {
   "cell_type": "code",
   "execution_count": 25,
   "metadata": {
    "slideshow": {
     "slide_type": "slide"
    }
   },
   "outputs": [
    {
     "name": "stderr",
     "output_type": "stream",
     "text": [
      "100%|██████████| 69/69 [00:55<00:00,  1.25it/s]\n"
     ]
    }
   ],
   "source": [
    "from tqdm import tqdm\n",
    "\n",
    "    \n",
    "def scrape_events_per_page(url):\n",
    "    \"\"\"\n",
    "    returns:\n",
    "        A list of tuples of strings holding title, place, date, and price\n",
    "        for concerts in Copenhagen scraped from Kulturnaut.dk\n",
    "    \"\"\"\n",
    "    r = requests.get(url)\n",
    "    r.raise_for_status()\n",
    "\n",
    "    soup = bs4.BeautifulSoup(r.text, 'html.parser')\n",
    "    event_cells = soup.find_all('td', {'align' : 'top'})\n",
    "    #print('size',len(event_cells))\n",
    "    scraped_events_per_page = []\n",
    "    \n",
    "    for event_cell in event_cells:\n",
    "        try:\n",
    "            title = event_cell.find('b').text\n",
    "            spans = event_cell.find_all('span')\n",
    "            place = spans[3].text\n",
    "            try:\n",
    "                date, price = spans[0].text.splitlines()\n",
    "            except ValueError as e:\n",
    "                date = spans[0].text.splitlines()[0]\n",
    "                price = ''\n",
    "        except Exception as e:\n",
    "            print(e)\n",
    "            \n",
    "        scraped_events_per_page.append((title, place, date, price))\n",
    "        \n",
    "    return scraped_events_per_page\n",
    "\n",
    "\n",
    "base_url = 'http://www.kultunaut.dk/perl/arrlist/type-nynaut/UK?Startnr={}&showmap=&Area=Kbh.%20og%20Frederiksberg&periode=&Genre=Musik&'\n",
    "\n",
    "scraped_events = []\n",
    "indexes = list(range(1, no_events, 20))\n",
    "indexes[0] = 0\n",
    "\n",
    "for idx in tqdm(indexes):\n",
    "    scrape_url = base_url.format(idx)\n",
    "    #print(scrape_url)\n",
    "    scraped_events += scrape_events_per_page(scrape_url)"
   ]
  },
  {
   "cell_type": "code",
   "execution_count": 27,
   "metadata": {},
   "outputs": [
    {
     "data": {
      "text/plain": [
       "[('Københavns Kammerkor øver.',\n",
       "  'Davidskirken, Koldinggade 11, Copenhagen Ø',\n",
       "  'Monday 12 October 2020, 6 pm.',\n",
       "  ''),\n",
       " ('Åben kirke.',\n",
       "  'Mariakirken, Istedgade 20, Copenhagen V',\n",
       "  'Tuesday 15 October 2020, 7 pm.',\n",
       "  ''),\n",
       " ('Arena (UK).',\n",
       "  'Beta, Øresundsvej 6, Copenhagen S',\n",
       "  'Friday 16 October 2020, 8 pm.',\n",
       "  '(Entrance fee)'),\n",
       " ('Sweet og Slade dobbeltkoncert.',\n",
       "  'Docken København, Nordhavnen, Færgehavnsvej 35, Nordhavn',\n",
       "  'Friday 16 October 2020, 8 pm.',\n",
       "  '(Entrance fee)'),\n",
       " ('Beethoven festival.',\n",
       "  'Ansgarkirken, Mågevej 33, Copenhagen NV',\n",
       "  'Monday 12 October 2020 to Friday 16 October 2020, 7.30 pm.',\n",
       "  '(Free admission)'),\n",
       " (\"Gilbert O'Sullivan.\",\n",
       "  'Docken København, Nordhavnen, Færgehavnsvej 35, Nordhavn',\n",
       "  'Saturday 17 October 2020, 8 pm.',\n",
       "  '(Entrance fee)'),\n",
       " ('Clawfinger (SE).',\n",
       "  'Amager Bio, Øresundsvej 6, Copenhagen S',\n",
       "  'Saturday 17 October 2020, 9 pm.',\n",
       "  '(Entrance fee)'),\n",
       " ('Barok-koncert.',\n",
       "  'Godthaabskirken, Nyelandsvej 51A, Frederiksberg',\n",
       "  'Sunday 18 October 2020, 4 pm.',\n",
       "  ''),\n",
       " ('Københavns Kammerkor øver.',\n",
       "  'Davidskirken, Koldinggade 11, Copenhagen Ø',\n",
       "  'Monday 19 October 2020, 6 pm.',\n",
       "  ''),\n",
       " ('Club Klondyke.',\n",
       "  'Kulturhuset Krudttønden, Serridslevvej 2, Copenhagen Ø',\n",
       "  'Monday 19 October 2020, 8 pm.',\n",
       "  '(Entrance fee: 180 DKK)'),\n",
       " ('Claus Hempler - solo.',\n",
       "  'Hotel Cecil, Niels Hemmingsens Gade 10, Copenhagen K',\n",
       "  'Tuesday 20 October 2020, 8 pm.',\n",
       "  '(Entrance fee)'),\n",
       " ('Tommy Emmanuel C.G.P.',\n",
       "  'Amager Bio, Øresundsvej 6, Copenhagen S',\n",
       "  'Tuesday 20 October 2020, 8 pm.',\n",
       "  '(Entrance fee)'),\n",
       " ('Orgel-musikkens kvarter.',\n",
       "  'Kristkirken, Enghave Plads 18, Copenhagen V',\n",
       "  'Wednesday 21 October 2020, 5 pm.',\n",
       "  ''),\n",
       " ('Claus Hempler - solo.',\n",
       "  'Hotel Cecil, Niels Hemmingsens Gade 10, Copenhagen K',\n",
       "  'Wednesday 21 October 2020, 8 pm.',\n",
       "  '(Entrance fee)'),\n",
       " ('Åben kirke.',\n",
       "  'Mariakirken, Istedgade 20, Copenhagen V',\n",
       "  'Tuesday 22 October 2020, 7 pm.',\n",
       "  ''),\n",
       " ('Klaveraften - Beethoven sonater!',\n",
       "  'Lindevang Kirke, Hattensens Allé 12, Frederiksberg',\n",
       "  'Tuesday 22 October 2020, 7.30 pm.',\n",
       "  ''),\n",
       " ('Orgel-musikkens kvarter.',\n",
       "  'Kristkirken, Enghave Plads 18, Copenhagen V',\n",
       "  'Friday 23 October 2020, 4 pm.',\n",
       "  ''),\n",
       " ('Malurt - K.B. Hallen.',\n",
       "  'KB Hallen, Peter Bangs Vej 147, Frederiksberg',\n",
       "  'Friday 23 October 2020, 8 pm.',\n",
       "  '(Entrance fee: 445 DKK)'),\n",
       " ('Faun.',\n",
       "  'Pumpehuset, Studiestræde 52, Copenhagen V',\n",
       "  'Friday 23 October 2020, 9 pm.',\n",
       "  '(Entrance fee)'),\n",
       " ('Beethoven symfonier nr. 1 & 5.',\n",
       "  'Det kgl. Danske Musikkonservatoriums Koncertsal, Julius Thomsensgade 1, Frederiksberg C',\n",
       "  'Saturday 24 October 2020, 4 pm.',\n",
       "  '(Entrance fee: 245-365)')]"
      ]
     },
     "execution_count": 27,
     "metadata": {},
     "output_type": "execute_result"
    }
   ],
   "source": [
    "result = scrape_events_per_page('http://www.kultunaut.dk/perl/arrlist/type-nynaut/UK?Startnr=1200&showmap=&Area=Kbh.%20og%20Frederiksberg&periode=&Genre=Musik&')\n",
    "result"
   ]
  },
  {
   "cell_type": "markdown",
   "metadata": {
    "slideshow": {
     "slide_type": "slide"
    }
   },
   "source": [
    "### What do we have so far?\n",
    "\n",
    "Now, you can see that we extracted a list of four element string tuples consisting of the title of the event, its location, a date and a time, and an entrance fee."
   ]
  },
  {
   "cell_type": "code",
   "execution_count": 28,
   "metadata": {
    "slideshow": {
     "slide_type": "slide"
    }
   },
   "outputs": [
    {
     "data": {
      "text/plain": [
       "[('The Marcus King Band (us) - Udsolgt.',\n",
       "  'VEGA, Enghavevej 40, Copenhagen V',\n",
       "  'Monday 9 March 2020, 8 pm.',\n",
       "  '(Entrance fee: 225 DKK)'),\n",
       " ('Ginne Marker.',\n",
       "  'Jazzhus Montmartre, Store Regnegade 19A, Copenhagen K',\n",
       "  'Monday 9 March 2020, 8 pm.',\n",
       "  '(Entrance fee: 110 DKK + evt. gebyr)'),\n",
       " ('Med på Noderne.',\n",
       "  'Drop Inn, Kompagnistræde 34, Copenhagen K',\n",
       "  'Monday 9 March 2020, 8 pm.',\n",
       "  '(Free admission)'),\n",
       " ('Princess nokia (US).',\n",
       "  'Pumpehuset, Studiestræde 52, Copenhagen V',\n",
       "  'Monday 9 March 2020, 8 pm.',\n",
       "  '(Entrance fee: 290 DKK)'),\n",
       " ('Baby lydplaneter.',\n",
       "  'Osramhuset, Valhalsgade 4, Copenhagen N',\n",
       "  'Tuesday 10 March 2020, 12 am.',\n",
       "  '(Entrance fee: 50 DKK + Gebyr)'),\n",
       " ('Stemme og Chakra Frekvenser: Solar plexus.',\n",
       "  'Metronomen, Godthåbsvej 33, Frederiksberg',\n",
       "  'Tuesday 10 March 2020, 7 pm.',\n",
       "  '(Entrance fee: 50 DKK)'),\n",
       " ('Dr Pigekorets Forår Udsolgt.',\n",
       "  'Holmens Kirkegård, Dag Hammarskjölds Allé 35, Copenhagen Ø',\n",
       "  'Tuesday 10 March 2020, 7.30 pm.',\n",
       "  '(Entrance fee: 210 DKK)'),\n",
       " ('Ginne Marker.',\n",
       "  'Jazzhus Montmartre, Store Regnegade 19A, Copenhagen K',\n",
       "  'Tuesday 10 March 2020, 8 pm.',\n",
       "  '(Entrance fee: 110 DKK + evt. gebyr)'),\n",
       " ('Simple Minds 2020 - 40th Anniversary Tour - Udsolgt/venteliste.',\n",
       "  'VEGA, Enghavevej 40, Copenhagen V',\n",
       "  'Tuesday 10 March 2020, 8 pm.',\n",
       "  '(Entrance fee)'),\n",
       " ('Little Dragon (se) - Udsolgt.',\n",
       "  'VEGA, Enghavevej 40, Copenhagen V',\n",
       "  'Tuesday 10 March 2020, 8 pm.',\n",
       "  '(Entrance fee: 255 DKK)'),\n",
       " ('Crazy Ivans.',\n",
       "  'Kulturhuset Pilegården, Brønshøjvej 17, Brønshøj',\n",
       "  'Tuesday 10 March 2020, 8 pm.',\n",
       "  '(Entrance fee: 140 DKK)'),\n",
       " ('Torres (US) + Harkin (UK).',\n",
       "  'Loppen, Christiania, Bådsmandsstræde 43, Copenhagen K',\n",
       "  'Tuesday 10 March 2020, 8.30 pm.',\n",
       "  '(Entrance fee: 140 DKK)'),\n",
       " ('Moseholm SuperBand.',\n",
       "  'Huset KBH - Stardust, Rådhusstræde 13, 1. tv., Copenhagen K',\n",
       "  'Tuesday 10 March 2020, 9 pm  - 11.30 pm.',\n",
       "  '(Entrance fee: 150 DKK + gebyr)'),\n",
       " ('Morgensang på Hovedbiblioteket #233.',\n",
       "  'Københavns Hovedbibliotek, Krystalgade 15, Copenhagen K',\n",
       "  'Wednesday 11 March 2020, 8.30 am  - 8.50 am.',\n",
       "  ''),\n",
       " ('Klassiske minikoncerter for små lyttere (0-2 år).',\n",
       "  'K-I-B, Kulturhuset Islands Brygge, Islands Brygge 18, Copenhagen S',\n",
       "  'Wednesday 11 March 2020, 1 pm.',\n",
       "  '(Entrance fee: 40 DKK pr. voksen og pr. barn)'),\n",
       " ('Klassiske minikoncerter for små lyttere (0-2 år).',\n",
       "  'K-I-B, Kulturhuset Islands Brygge, Islands Brygge 18, Copenhagen S',\n",
       "  'Wednesday 11 March 2020, 2 pm.',\n",
       "  '(Entrance fee: 40 DKK pr. voksen og pr. barn)'),\n",
       " ('18. novembers sangkor.',\n",
       "  'Helligaandshuset, Valkendorfsgade  23, 1. sal, Copenhagen K',\n",
       "  'Wednesday 11 March 2020, 4 pm.',\n",
       "  '(Free admission)'),\n",
       " ('Fyraftenskoncert - klaver og oplæsning ved Maria Bundgård.',\n",
       "  'Sions Kirke, Østerbrogade 192, Copenhagen Ø',\n",
       "  'Wednesday 11 March 2020, 5 pm.',\n",
       "  ''),\n",
       " ('Aftenmusik i fastetiden v/ organist Lars Sømod.',\n",
       "  'Vor Frelsers Kirke, Sankt Annæ Gade 29, Copenhagen K',\n",
       "  'Wednesday 11 March 2020, 5.30 pm.',\n",
       "  ''),\n",
       " ('Ung Jam.',\n",
       "  'Drop Inn, Kompagnistræde 34, Copenhagen K',\n",
       "  'Wednesday 11 March 2020, 7 pm.',\n",
       "  '(Free admission)')]"
      ]
     },
     "execution_count": 28,
     "metadata": {},
     "output_type": "execute_result"
    }
   ],
   "source": [
    "scraped_events[:20]"
   ]
  },
  {
   "cell_type": "markdown",
   "metadata": {},
   "source": [
    "## Exercise with beautifulSoup\n",
    "Use BeautifulSoup to extract all titles on all radio programs https://www.dr.dk/radio/programmer\n",
    "1. First find how many pages there are\n",
    "2. Then find all titles on https://www.dr.dk/radio/programmer?side=1\n",
    "3. Then find all titles on all pages\n"
   ]
  },
  {
   "cell_type": "markdown",
   "metadata": {
    "slideshow": {
     "slide_type": "slide"
    }
   },
   "source": [
    "### How to Extract Dates and Prices from Strings.\n",
    "\n",
    "Remember, the raw data, which we extracted from the web pages is all of type `str`. To do statistics about possible correlation of start times and entry fees, we need to convert the corresponding tuple fields into datetimes and integers respectively.\n",
    "\n",
    "\n",
    "Since dates given on the web do not necessarily conform to standardized time formats, we can apply the `dateparser` (https://pypi.python.org/pypi/dateparser) module, which tries to parse arbitrary strings into datetimes.\n",
    "\n",
    "You can install the module via:\n",
    "\n",
    "```bash\n",
    "pip install dateparser\n",
    "```\n",
    "\n",
    "You can read more about the module and its capabilities https://dateparser.readthedocs.io/en/latest/."
   ]
  },
  {
   "cell_type": "code",
   "execution_count": 61,
   "metadata": {},
   "outputs": [
    {
     "name": "stdout",
     "output_type": "stream",
     "text": [
      "Collecting dateparser\n",
      "  Downloading https://files.pythonhosted.org/packages/82/9d/51126ac615bbc4418478d725a5fa1a0f112059f6f111e4b48cfbe17ef9d0/dateparser-0.7.2-py2.py3-none-any.whl (352kB)\n",
      "Requirement already satisfied: pytz in /home/tha/.anaconda3/lib/python3.7/site-packages (from dateparser) (2019.3)\n",
      "Collecting tzlocal (from dateparser)\n",
      "  Downloading https://files.pythonhosted.org/packages/ef/99/53bd1ac9349262f59c1c421d8fcc2559ae8a5eeffed9202684756b648d33/tzlocal-2.0.0-py2.py3-none-any.whl\n",
      "Collecting regex (from dateparser)\n",
      "  Downloading https://files.pythonhosted.org/packages/97/6e/2f8d8e86621ab6eb84a2200c78b24343f74dd722f493a7fbbac37036dc13/regex-2020.1.8-cp37-cp37m-manylinux2010_x86_64.whl (690kB)\n",
      "Requirement already satisfied: python-dateutil in /home/tha/.anaconda3/lib/python3.7/site-packages (from dateparser) (2.8.0)\n",
      "Requirement already satisfied: six>=1.5 in /home/tha/.anaconda3/lib/python3.7/site-packages (from python-dateutil->dateparser) (1.12.0)\n",
      "Installing collected packages: tzlocal, regex, dateparser\n",
      "Successfully installed dateparser-0.7.2 regex-2020.1.8 tzlocal-2.0.0\n"
     ]
    }
   ],
   "source": [
    "%%bash\n",
    "#pip install dateparser"
   ]
  },
  {
   "cell_type": "code",
   "execution_count": 93,
   "metadata": {
    "scrolled": true,
    "slideshow": {
     "slide_type": "slide"
    }
   },
   "outputs": [
    {
     "name": "stderr",
     "output_type": "stream",
     "text": [
      "\n",
      "  0%|          | 0/1514 [00:00<?, ?it/s]\u001b[A\n",
      "  1%|▏         | 22/1514 [00:00<00:06, 216.73it/s]\u001b[A\n",
      "  3%|▎         | 44/1514 [00:07<02:31,  9.68it/s] \u001b[A\n",
      "  4%|▍         | 64/1514 [00:07<01:47, 13.55it/s]\u001b[A\n",
      "  6%|▌         | 88/1514 [00:07<01:15, 18.88it/s]\u001b[A\n",
      "  7%|▋         | 110/1514 [00:07<00:54, 25.99it/s]\u001b[A\n",
      "  8%|▊         | 126/1514 [00:07<00:43, 31.73it/s]\u001b[A\n",
      " 10%|█         | 152/1514 [00:08<00:31, 43.08it/s]\u001b[A\n",
      " 12%|█▏        | 177/1514 [00:08<00:23, 57.28it/s]\u001b[A\n",
      " 13%|█▎        | 204/1514 [00:08<00:17, 74.84it/s]\u001b[A\n",
      " 15%|█▍        | 226/1514 [00:16<02:27,  8.71it/s]\u001b[A\n",
      " 17%|█▋        | 254/1514 [00:16<01:42, 12.27it/s]\u001b[A\n",
      " 19%|█▊        | 281/1514 [00:16<01:11, 17.19it/s]\u001b[A\n",
      " 20%|██        | 309/1514 [00:16<00:50, 23.91it/s]\u001b[A\n",
      " 22%|██▏       | 333/1514 [00:16<00:42, 27.49it/s]\u001b[A\n",
      " 24%|██▎       | 356/1514 [00:17<00:31, 37.35it/s]\u001b[A\n",
      " 25%|██▌       | 384/1514 [00:17<00:22, 50.42it/s]\u001b[A\n",
      " 27%|██▋       | 409/1514 [00:17<00:16, 66.21it/s]\u001b[A\n",
      " 29%|██▉       | 437/1514 [00:17<00:12, 85.82it/s]\u001b[A\n",
      " 31%|███       | 462/1514 [00:17<00:09, 106.70it/s]\u001b[A\n",
      " 32%|███▏      | 487/1514 [00:17<00:08, 126.50it/s]\u001b[A\n",
      " 34%|███▍      | 511/1514 [00:28<02:18,  7.23it/s] \u001b[A\n",
      " 35%|███▌      | 530/1514 [00:28<01:36, 10.16it/s]\u001b[A\n",
      " 36%|███▌      | 546/1514 [00:28<01:15, 12.88it/s]\u001b[A\n",
      " 38%|███▊      | 571/1514 [00:28<00:52, 18.00it/s]\u001b[A\n",
      " 39%|███▉      | 594/1514 [00:28<00:36, 24.87it/s]\u001b[A\n",
      " 41%|████      | 618/1514 [00:29<00:26, 34.00it/s]\u001b[A\n",
      " 42%|████▏     | 642/1514 [00:29<00:19, 45.73it/s]\u001b[A\n",
      " 44%|████▍     | 666/1514 [00:29<00:14, 60.34it/s]\u001b[A\n",
      " 46%|████▌     | 691/1514 [00:29<00:10, 77.98it/s]\u001b[A\n",
      " 47%|████▋     | 716/1514 [00:29<00:08, 97.98it/s]\u001b[A\n",
      " 49%|████▉     | 739/1514 [00:29<00:06, 117.10it/s]\u001b[A\n",
      " 50%|█████     | 764/1514 [00:29<00:05, 139.22it/s]\u001b[A\n",
      " 52%|█████▏    | 789/1514 [00:29<00:04, 160.04it/s]\u001b[A\n",
      " 54%|█████▍    | 816/1514 [00:29<00:03, 181.71it/s]\u001b[A\n",
      " 56%|█████▌    | 841/1514 [00:29<00:03, 196.82it/s]\u001b[A\n",
      " 57%|█████▋    | 866/1514 [00:30<00:03, 207.41it/s]\u001b[A\n",
      " 59%|█████▉    | 893/1514 [00:30<00:02, 221.03it/s]\u001b[A\n",
      " 61%|██████    | 920/1514 [00:30<00:02, 232.84it/s]\u001b[A\n",
      " 63%|██████▎   | 947/1514 [00:30<00:02, 242.16it/s]\u001b[A\n",
      " 64%|██████▍   | 973/1514 [00:30<00:02, 242.56it/s]\u001b[A\n",
      " 66%|██████▌   | 999/1514 [00:30<00:02, 230.33it/s]\u001b[A\n",
      " 68%|██████▊   | 1026/1514 [00:30<00:02, 238.84it/s]\u001b[A\n",
      " 70%|██████▉   | 1053/1514 [00:30<00:01, 246.51it/s]\u001b[A\n",
      " 71%|███████▏  | 1080/1514 [00:30<00:01, 249.44it/s]\u001b[A\n",
      " 73%|███████▎  | 1106/1514 [00:31<00:01, 244.41it/s]\u001b[A\n",
      " 75%|███████▍  | 1131/1514 [00:31<00:01, 240.12it/s]\u001b[A\n",
      " 76%|███████▋  | 1156/1514 [00:31<00:01, 235.84it/s]\u001b[A\n",
      " 78%|███████▊  | 1180/1514 [00:31<00:01, 229.36it/s]\u001b[A\n",
      " 80%|███████▉  | 1204/1514 [00:31<00:01, 217.05it/s]\u001b[A\n",
      " 81%|████████  | 1226/1514 [00:32<00:04, 71.63it/s] \u001b[A\n",
      " 83%|████████▎ | 1253/1514 [00:32<00:02, 91.78it/s]\u001b[A\n",
      " 84%|████████▍ | 1273/1514 [00:33<00:07, 33.45it/s]\u001b[A\n",
      " 86%|████████▌ | 1298/1514 [00:33<00:04, 45.19it/s]\u001b[A\n",
      " 87%|████████▋ | 1323/1514 [00:34<00:03, 59.79it/s]\u001b[A\n",
      " 89%|████████▉ | 1350/1514 [00:34<00:02, 77.79it/s]\u001b[A\n",
      " 91%|█████████ | 1377/1514 [00:34<00:01, 98.76it/s]\u001b[A\n",
      " 93%|█████████▎| 1404/1514 [00:34<00:00, 121.40it/s]\u001b[A\n",
      " 93%|█████████▎| 1404/1514 [00:46<00:00, 121.40it/s]\u001b[A\n",
      " 94%|█████████▎| 1417/1514 [00:49<00:35,  2.77it/s] \u001b[A\n",
      " 95%|█████████▍| 1438/1514 [00:49<00:19,  3.93it/s]\u001b[A\n",
      " 96%|█████████▌| 1457/1514 [00:49<00:10,  5.57it/s]\u001b[A\n",
      " 98%|█████████▊| 1478/1514 [00:50<00:04,  7.86it/s]\u001b[A\n",
      "100%|██████████| 1514/1514 [00:50<00:00, 30.14it/s]\u001b[A\n"
     ]
    }
   ],
   "source": [
    "from tqdm import tqdm\n",
    "import re\n",
    "from dateparser import parse\n",
    "\n",
    "\n",
    "def get_dates_and_prices(scraped_events):\n",
    "    \"\"\"\n",
    "    Cleanup the data. Get price as integer and date as date.\n",
    "    \n",
    "    returns:\n",
    "        A two-element tuple with a datetime representing the start \n",
    "        time of an event and an integer representing the price in Dkk.\n",
    "    \"\"\"\n",
    "\n",
    "    price_regexp = r\"(?P<price>\\d+)\" #initial ? is a lookbehind. r() r is for raw text, P<some pattern> is to give a pattern name to refer to. \\d is numeric digit, + is for 1 or more.\n",
    "\n",
    "    data_points = []\n",
    "    three_at_night = datetime.now().replace(hour=3, minute=0, second=0, microsecond=0).time()\n",
    "    for event_data in tqdm(scraped_events):\n",
    "        title_str, place_str, date_str, price_str = event_data\n",
    "        \n",
    "        if 'Free admission' in price_str:\n",
    "            price = 0\n",
    "        else:\n",
    "            m = re.search(price_regexp, price_str) # m is the Match object returned from re.search (might be None)\n",
    "            try:\n",
    "                price = int(m.group('price')) # if price can be converted to int then we do it else return 0.\n",
    "            except:\n",
    "                price = 0\n",
    "\n",
    "        date_str = date_str.strip().strip('.')\n",
    "        if '&' in date_str:\n",
    "            date_str = date_str.split('&')[0]\n",
    "        if '-' in date_str:\n",
    "            date_str = date_str.split('-')[0]\n",
    "        if '.' in date_str:\n",
    "            date_str = date_str.replace('.', ':')\n",
    "        \n",
    "        date = parse(date_str)\n",
    "        if date and date.time() > three_at_night:\n",
    "            data_points.append((date, price))\n",
    "            \n",
    "    return data_points\n",
    "\n",
    "\n",
    "dates_and_prices = get_dates_and_prices(scraped_events)"
   ]
  },
  {
   "cell_type": "code",
   "execution_count": 64,
   "metadata": {
    "slideshow": {
     "slide_type": "slide"
    }
   },
   "outputs": [
    {
     "data": {
      "text/plain": [
       "[(datetime.datetime(2020, 1, 24, 19, 30), 130),\n",
       " (datetime.datetime(2020, 1, 24, 19, 30), 400),\n",
       " (datetime.datetime(2020, 1, 24, 19, 30), 0),\n",
       " (datetime.datetime(2020, 1, 24, 20, 0), 100),\n",
       " (datetime.datetime(2020, 1, 24, 20, 0), 225),\n",
       " (datetime.datetime(2020, 1, 24, 20, 0), 0),\n",
       " (datetime.datetime(2020, 1, 24, 20, 30), 170),\n",
       " (datetime.datetime(2020, 1, 24, 21, 0), 0),\n",
       " (datetime.datetime(2020, 1, 24, 21, 0), 70),\n",
       " (datetime.datetime(2020, 1, 24, 21, 0), 120)]"
      ]
     },
     "execution_count": 64,
     "metadata": {},
     "output_type": "execute_result"
    }
   ],
   "source": [
    "dates_and_prices[10:20]"
   ]
  },
  {
   "cell_type": "markdown",
   "metadata": {
    "slideshow": {
     "slide_type": "slide"
    }
   },
   "source": [
    "### Plotting Times vs. Prices"
   ]
  },
  {
   "cell_type": "code",
   "execution_count": 94,
   "metadata": {
    "slideshow": {
     "slide_type": "slide"
    }
   },
   "outputs": [
    {
     "name": "stdout",
     "output_type": "stream",
     "text": [
      "[datetime.time(7, 30), datetime.time(17, 0), datetime.time(18, 0), datetime.time(19, 30), datetime.time(20, 0), datetime.time(20, 0), datetime.time(15, 30), datetime.time(16, 30), datetime.time(18, 0), datetime.time(18, 0)]\n"
     ]
    },
    {
     "data": {
      "application/javascript": [
       "/* Put everything inside the global mpl namespace */\n",
       "window.mpl = {};\n",
       "\n",
       "\n",
       "mpl.get_websocket_type = function() {\n",
       "    if (typeof(WebSocket) !== 'undefined') {\n",
       "        return WebSocket;\n",
       "    } else if (typeof(MozWebSocket) !== 'undefined') {\n",
       "        return MozWebSocket;\n",
       "    } else {\n",
       "        alert('Your browser does not have WebSocket support. ' +\n",
       "              'Please try Chrome, Safari or Firefox ≥ 6. ' +\n",
       "              'Firefox 4 and 5 are also supported but you ' +\n",
       "              'have to enable WebSockets in about:config.');\n",
       "    };\n",
       "}\n",
       "\n",
       "mpl.figure = function(figure_id, websocket, ondownload, parent_element) {\n",
       "    this.id = figure_id;\n",
       "\n",
       "    this.ws = websocket;\n",
       "\n",
       "    this.supports_binary = (this.ws.binaryType != undefined);\n",
       "\n",
       "    if (!this.supports_binary) {\n",
       "        var warnings = document.getElementById(\"mpl-warnings\");\n",
       "        if (warnings) {\n",
       "            warnings.style.display = 'block';\n",
       "            warnings.textContent = (\n",
       "                \"This browser does not support binary websocket messages. \" +\n",
       "                    \"Performance may be slow.\");\n",
       "        }\n",
       "    }\n",
       "\n",
       "    this.imageObj = new Image();\n",
       "\n",
       "    this.context = undefined;\n",
       "    this.message = undefined;\n",
       "    this.canvas = undefined;\n",
       "    this.rubberband_canvas = undefined;\n",
       "    this.rubberband_context = undefined;\n",
       "    this.format_dropdown = undefined;\n",
       "\n",
       "    this.image_mode = 'full';\n",
       "\n",
       "    this.root = $('<div/>');\n",
       "    this._root_extra_style(this.root)\n",
       "    this.root.attr('style', 'display: inline-block');\n",
       "\n",
       "    $(parent_element).append(this.root);\n",
       "\n",
       "    this._init_header(this);\n",
       "    this._init_canvas(this);\n",
       "    this._init_toolbar(this);\n",
       "\n",
       "    var fig = this;\n",
       "\n",
       "    this.waiting = false;\n",
       "\n",
       "    this.ws.onopen =  function () {\n",
       "            fig.send_message(\"supports_binary\", {value: fig.supports_binary});\n",
       "            fig.send_message(\"send_image_mode\", {});\n",
       "            if (mpl.ratio != 1) {\n",
       "                fig.send_message(\"set_dpi_ratio\", {'dpi_ratio': mpl.ratio});\n",
       "            }\n",
       "            fig.send_message(\"refresh\", {});\n",
       "        }\n",
       "\n",
       "    this.imageObj.onload = function() {\n",
       "            if (fig.image_mode == 'full') {\n",
       "                // Full images could contain transparency (where diff images\n",
       "                // almost always do), so we need to clear the canvas so that\n",
       "                // there is no ghosting.\n",
       "                fig.context.clearRect(0, 0, fig.canvas.width, fig.canvas.height);\n",
       "            }\n",
       "            fig.context.drawImage(fig.imageObj, 0, 0);\n",
       "        };\n",
       "\n",
       "    this.imageObj.onunload = function() {\n",
       "        fig.ws.close();\n",
       "    }\n",
       "\n",
       "    this.ws.onmessage = this._make_on_message_function(this);\n",
       "\n",
       "    this.ondownload = ondownload;\n",
       "}\n",
       "\n",
       "mpl.figure.prototype._init_header = function() {\n",
       "    var titlebar = $(\n",
       "        '<div class=\"ui-dialog-titlebar ui-widget-header ui-corner-all ' +\n",
       "        'ui-helper-clearfix\"/>');\n",
       "    var titletext = $(\n",
       "        '<div class=\"ui-dialog-title\" style=\"width: 100%; ' +\n",
       "        'text-align: center; padding: 3px;\"/>');\n",
       "    titlebar.append(titletext)\n",
       "    this.root.append(titlebar);\n",
       "    this.header = titletext[0];\n",
       "}\n",
       "\n",
       "\n",
       "\n",
       "mpl.figure.prototype._canvas_extra_style = function(canvas_div) {\n",
       "\n",
       "}\n",
       "\n",
       "\n",
       "mpl.figure.prototype._root_extra_style = function(canvas_div) {\n",
       "\n",
       "}\n",
       "\n",
       "mpl.figure.prototype._init_canvas = function() {\n",
       "    var fig = this;\n",
       "\n",
       "    var canvas_div = $('<div/>');\n",
       "\n",
       "    canvas_div.attr('style', 'position: relative; clear: both; outline: 0');\n",
       "\n",
       "    function canvas_keyboard_event(event) {\n",
       "        return fig.key_event(event, event['data']);\n",
       "    }\n",
       "\n",
       "    canvas_div.keydown('key_press', canvas_keyboard_event);\n",
       "    canvas_div.keyup('key_release', canvas_keyboard_event);\n",
       "    this.canvas_div = canvas_div\n",
       "    this._canvas_extra_style(canvas_div)\n",
       "    this.root.append(canvas_div);\n",
       "\n",
       "    var canvas = $('<canvas/>');\n",
       "    canvas.addClass('mpl-canvas');\n",
       "    canvas.attr('style', \"left: 0; top: 0; z-index: 0; outline: 0\")\n",
       "\n",
       "    this.canvas = canvas[0];\n",
       "    this.context = canvas[0].getContext(\"2d\");\n",
       "\n",
       "    var backingStore = this.context.backingStorePixelRatio ||\n",
       "\tthis.context.webkitBackingStorePixelRatio ||\n",
       "\tthis.context.mozBackingStorePixelRatio ||\n",
       "\tthis.context.msBackingStorePixelRatio ||\n",
       "\tthis.context.oBackingStorePixelRatio ||\n",
       "\tthis.context.backingStorePixelRatio || 1;\n",
       "\n",
       "    mpl.ratio = (window.devicePixelRatio || 1) / backingStore;\n",
       "\n",
       "    var rubberband = $('<canvas/>');\n",
       "    rubberband.attr('style', \"position: absolute; left: 0; top: 0; z-index: 1;\")\n",
       "\n",
       "    var pass_mouse_events = true;\n",
       "\n",
       "    canvas_div.resizable({\n",
       "        start: function(event, ui) {\n",
       "            pass_mouse_events = false;\n",
       "        },\n",
       "        resize: function(event, ui) {\n",
       "            fig.request_resize(ui.size.width, ui.size.height);\n",
       "        },\n",
       "        stop: function(event, ui) {\n",
       "            pass_mouse_events = true;\n",
       "            fig.request_resize(ui.size.width, ui.size.height);\n",
       "        },\n",
       "    });\n",
       "\n",
       "    function mouse_event_fn(event) {\n",
       "        if (pass_mouse_events)\n",
       "            return fig.mouse_event(event, event['data']);\n",
       "    }\n",
       "\n",
       "    rubberband.mousedown('button_press', mouse_event_fn);\n",
       "    rubberband.mouseup('button_release', mouse_event_fn);\n",
       "    // Throttle sequential mouse events to 1 every 20ms.\n",
       "    rubberband.mousemove('motion_notify', mouse_event_fn);\n",
       "\n",
       "    rubberband.mouseenter('figure_enter', mouse_event_fn);\n",
       "    rubberband.mouseleave('figure_leave', mouse_event_fn);\n",
       "\n",
       "    canvas_div.on(\"wheel\", function (event) {\n",
       "        event = event.originalEvent;\n",
       "        event['data'] = 'scroll'\n",
       "        if (event.deltaY < 0) {\n",
       "            event.step = 1;\n",
       "        } else {\n",
       "            event.step = -1;\n",
       "        }\n",
       "        mouse_event_fn(event);\n",
       "    });\n",
       "\n",
       "    canvas_div.append(canvas);\n",
       "    canvas_div.append(rubberband);\n",
       "\n",
       "    this.rubberband = rubberband;\n",
       "    this.rubberband_canvas = rubberband[0];\n",
       "    this.rubberband_context = rubberband[0].getContext(\"2d\");\n",
       "    this.rubberband_context.strokeStyle = \"#000000\";\n",
       "\n",
       "    this._resize_canvas = function(width, height) {\n",
       "        // Keep the size of the canvas, canvas container, and rubber band\n",
       "        // canvas in synch.\n",
       "        canvas_div.css('width', width)\n",
       "        canvas_div.css('height', height)\n",
       "\n",
       "        canvas.attr('width', width * mpl.ratio);\n",
       "        canvas.attr('height', height * mpl.ratio);\n",
       "        canvas.attr('style', 'width: ' + width + 'px; height: ' + height + 'px;');\n",
       "\n",
       "        rubberband.attr('width', width);\n",
       "        rubberband.attr('height', height);\n",
       "    }\n",
       "\n",
       "    // Set the figure to an initial 600x600px, this will subsequently be updated\n",
       "    // upon first draw.\n",
       "    this._resize_canvas(600, 600);\n",
       "\n",
       "    // Disable right mouse context menu.\n",
       "    $(this.rubberband_canvas).bind(\"contextmenu\",function(e){\n",
       "        return false;\n",
       "    });\n",
       "\n",
       "    function set_focus () {\n",
       "        canvas.focus();\n",
       "        canvas_div.focus();\n",
       "    }\n",
       "\n",
       "    window.setTimeout(set_focus, 100);\n",
       "}\n",
       "\n",
       "mpl.figure.prototype._init_toolbar = function() {\n",
       "    var fig = this;\n",
       "\n",
       "    var nav_element = $('<div/>');\n",
       "    nav_element.attr('style', 'width: 100%');\n",
       "    this.root.append(nav_element);\n",
       "\n",
       "    // Define a callback function for later on.\n",
       "    function toolbar_event(event) {\n",
       "        return fig.toolbar_button_onclick(event['data']);\n",
       "    }\n",
       "    function toolbar_mouse_event(event) {\n",
       "        return fig.toolbar_button_onmouseover(event['data']);\n",
       "    }\n",
       "\n",
       "    for(var toolbar_ind in mpl.toolbar_items) {\n",
       "        var name = mpl.toolbar_items[toolbar_ind][0];\n",
       "        var tooltip = mpl.toolbar_items[toolbar_ind][1];\n",
       "        var image = mpl.toolbar_items[toolbar_ind][2];\n",
       "        var method_name = mpl.toolbar_items[toolbar_ind][3];\n",
       "\n",
       "        if (!name) {\n",
       "            // put a spacer in here.\n",
       "            continue;\n",
       "        }\n",
       "        var button = $('<button/>');\n",
       "        button.addClass('ui-button ui-widget ui-state-default ui-corner-all ' +\n",
       "                        'ui-button-icon-only');\n",
       "        button.attr('role', 'button');\n",
       "        button.attr('aria-disabled', 'false');\n",
       "        button.click(method_name, toolbar_event);\n",
       "        button.mouseover(tooltip, toolbar_mouse_event);\n",
       "\n",
       "        var icon_img = $('<span/>');\n",
       "        icon_img.addClass('ui-button-icon-primary ui-icon');\n",
       "        icon_img.addClass(image);\n",
       "        icon_img.addClass('ui-corner-all');\n",
       "\n",
       "        var tooltip_span = $('<span/>');\n",
       "        tooltip_span.addClass('ui-button-text');\n",
       "        tooltip_span.html(tooltip);\n",
       "\n",
       "        button.append(icon_img);\n",
       "        button.append(tooltip_span);\n",
       "\n",
       "        nav_element.append(button);\n",
       "    }\n",
       "\n",
       "    var fmt_picker_span = $('<span/>');\n",
       "\n",
       "    var fmt_picker = $('<select/>');\n",
       "    fmt_picker.addClass('mpl-toolbar-option ui-widget ui-widget-content');\n",
       "    fmt_picker_span.append(fmt_picker);\n",
       "    nav_element.append(fmt_picker_span);\n",
       "    this.format_dropdown = fmt_picker[0];\n",
       "\n",
       "    for (var ind in mpl.extensions) {\n",
       "        var fmt = mpl.extensions[ind];\n",
       "        var option = $(\n",
       "            '<option/>', {selected: fmt === mpl.default_extension}).html(fmt);\n",
       "        fmt_picker.append(option);\n",
       "    }\n",
       "\n",
       "    // Add hover states to the ui-buttons\n",
       "    $( \".ui-button\" ).hover(\n",
       "        function() { $(this).addClass(\"ui-state-hover\");},\n",
       "        function() { $(this).removeClass(\"ui-state-hover\");}\n",
       "    );\n",
       "\n",
       "    var status_bar = $('<span class=\"mpl-message\"/>');\n",
       "    nav_element.append(status_bar);\n",
       "    this.message = status_bar[0];\n",
       "}\n",
       "\n",
       "mpl.figure.prototype.request_resize = function(x_pixels, y_pixels) {\n",
       "    // Request matplotlib to resize the figure. Matplotlib will then trigger a resize in the client,\n",
       "    // which will in turn request a refresh of the image.\n",
       "    this.send_message('resize', {'width': x_pixels, 'height': y_pixels});\n",
       "}\n",
       "\n",
       "mpl.figure.prototype.send_message = function(type, properties) {\n",
       "    properties['type'] = type;\n",
       "    properties['figure_id'] = this.id;\n",
       "    this.ws.send(JSON.stringify(properties));\n",
       "}\n",
       "\n",
       "mpl.figure.prototype.send_draw_message = function() {\n",
       "    if (!this.waiting) {\n",
       "        this.waiting = true;\n",
       "        this.ws.send(JSON.stringify({type: \"draw\", figure_id: this.id}));\n",
       "    }\n",
       "}\n",
       "\n",
       "\n",
       "mpl.figure.prototype.handle_save = function(fig, msg) {\n",
       "    var format_dropdown = fig.format_dropdown;\n",
       "    var format = format_dropdown.options[format_dropdown.selectedIndex].value;\n",
       "    fig.ondownload(fig, format);\n",
       "}\n",
       "\n",
       "\n",
       "mpl.figure.prototype.handle_resize = function(fig, msg) {\n",
       "    var size = msg['size'];\n",
       "    if (size[0] != fig.canvas.width || size[1] != fig.canvas.height) {\n",
       "        fig._resize_canvas(size[0], size[1]);\n",
       "        fig.send_message(\"refresh\", {});\n",
       "    };\n",
       "}\n",
       "\n",
       "mpl.figure.prototype.handle_rubberband = function(fig, msg) {\n",
       "    var x0 = msg['x0'] / mpl.ratio;\n",
       "    var y0 = (fig.canvas.height - msg['y0']) / mpl.ratio;\n",
       "    var x1 = msg['x1'] / mpl.ratio;\n",
       "    var y1 = (fig.canvas.height - msg['y1']) / mpl.ratio;\n",
       "    x0 = Math.floor(x0) + 0.5;\n",
       "    y0 = Math.floor(y0) + 0.5;\n",
       "    x1 = Math.floor(x1) + 0.5;\n",
       "    y1 = Math.floor(y1) + 0.5;\n",
       "    var min_x = Math.min(x0, x1);\n",
       "    var min_y = Math.min(y0, y1);\n",
       "    var width = Math.abs(x1 - x0);\n",
       "    var height = Math.abs(y1 - y0);\n",
       "\n",
       "    fig.rubberband_context.clearRect(\n",
       "        0, 0, fig.canvas.width / mpl.ratio, fig.canvas.height / mpl.ratio);\n",
       "\n",
       "    fig.rubberband_context.strokeRect(min_x, min_y, width, height);\n",
       "}\n",
       "\n",
       "mpl.figure.prototype.handle_figure_label = function(fig, msg) {\n",
       "    // Updates the figure title.\n",
       "    fig.header.textContent = msg['label'];\n",
       "}\n",
       "\n",
       "mpl.figure.prototype.handle_cursor = function(fig, msg) {\n",
       "    var cursor = msg['cursor'];\n",
       "    switch(cursor)\n",
       "    {\n",
       "    case 0:\n",
       "        cursor = 'pointer';\n",
       "        break;\n",
       "    case 1:\n",
       "        cursor = 'default';\n",
       "        break;\n",
       "    case 2:\n",
       "        cursor = 'crosshair';\n",
       "        break;\n",
       "    case 3:\n",
       "        cursor = 'move';\n",
       "        break;\n",
       "    }\n",
       "    fig.rubberband_canvas.style.cursor = cursor;\n",
       "}\n",
       "\n",
       "mpl.figure.prototype.handle_message = function(fig, msg) {\n",
       "    fig.message.textContent = msg['message'];\n",
       "}\n",
       "\n",
       "mpl.figure.prototype.handle_draw = function(fig, msg) {\n",
       "    // Request the server to send over a new figure.\n",
       "    fig.send_draw_message();\n",
       "}\n",
       "\n",
       "mpl.figure.prototype.handle_image_mode = function(fig, msg) {\n",
       "    fig.image_mode = msg['mode'];\n",
       "}\n",
       "\n",
       "mpl.figure.prototype.updated_canvas_event = function() {\n",
       "    // Called whenever the canvas gets updated.\n",
       "    this.send_message(\"ack\", {});\n",
       "}\n",
       "\n",
       "// A function to construct a web socket function for onmessage handling.\n",
       "// Called in the figure constructor.\n",
       "mpl.figure.prototype._make_on_message_function = function(fig) {\n",
       "    return function socket_on_message(evt) {\n",
       "        if (evt.data instanceof Blob) {\n",
       "            /* FIXME: We get \"Resource interpreted as Image but\n",
       "             * transferred with MIME type text/plain:\" errors on\n",
       "             * Chrome.  But how to set the MIME type?  It doesn't seem\n",
       "             * to be part of the websocket stream */\n",
       "            evt.data.type = \"image/png\";\n",
       "\n",
       "            /* Free the memory for the previous frames */\n",
       "            if (fig.imageObj.src) {\n",
       "                (window.URL || window.webkitURL).revokeObjectURL(\n",
       "                    fig.imageObj.src);\n",
       "            }\n",
       "\n",
       "            fig.imageObj.src = (window.URL || window.webkitURL).createObjectURL(\n",
       "                evt.data);\n",
       "            fig.updated_canvas_event();\n",
       "            fig.waiting = false;\n",
       "            return;\n",
       "        }\n",
       "        else if (typeof evt.data === 'string' && evt.data.slice(0, 21) == \"data:image/png;base64\") {\n",
       "            fig.imageObj.src = evt.data;\n",
       "            fig.updated_canvas_event();\n",
       "            fig.waiting = false;\n",
       "            return;\n",
       "        }\n",
       "\n",
       "        var msg = JSON.parse(evt.data);\n",
       "        var msg_type = msg['type'];\n",
       "\n",
       "        // Call the  \"handle_{type}\" callback, which takes\n",
       "        // the figure and JSON message as its only arguments.\n",
       "        try {\n",
       "            var callback = fig[\"handle_\" + msg_type];\n",
       "        } catch (e) {\n",
       "            console.log(\"No handler for the '\" + msg_type + \"' message type: \", msg);\n",
       "            return;\n",
       "        }\n",
       "\n",
       "        if (callback) {\n",
       "            try {\n",
       "                // console.log(\"Handling '\" + msg_type + \"' message: \", msg);\n",
       "                callback(fig, msg);\n",
       "            } catch (e) {\n",
       "                console.log(\"Exception inside the 'handler_\" + msg_type + \"' callback:\", e, e.stack, msg);\n",
       "            }\n",
       "        }\n",
       "    };\n",
       "}\n",
       "\n",
       "// from http://stackoverflow.com/questions/1114465/getting-mouse-location-in-canvas\n",
       "mpl.findpos = function(e) {\n",
       "    //this section is from http://www.quirksmode.org/js/events_properties.html\n",
       "    var targ;\n",
       "    if (!e)\n",
       "        e = window.event;\n",
       "    if (e.target)\n",
       "        targ = e.target;\n",
       "    else if (e.srcElement)\n",
       "        targ = e.srcElement;\n",
       "    if (targ.nodeType == 3) // defeat Safari bug\n",
       "        targ = targ.parentNode;\n",
       "\n",
       "    // jQuery normalizes the pageX and pageY\n",
       "    // pageX,Y are the mouse positions relative to the document\n",
       "    // offset() returns the position of the element relative to the document\n",
       "    var x = e.pageX - $(targ).offset().left;\n",
       "    var y = e.pageY - $(targ).offset().top;\n",
       "\n",
       "    return {\"x\": x, \"y\": y};\n",
       "};\n",
       "\n",
       "/*\n",
       " * return a copy of an object with only non-object keys\n",
       " * we need this to avoid circular references\n",
       " * http://stackoverflow.com/a/24161582/3208463\n",
       " */\n",
       "function simpleKeys (original) {\n",
       "  return Object.keys(original).reduce(function (obj, key) {\n",
       "    if (typeof original[key] !== 'object')\n",
       "        obj[key] = original[key]\n",
       "    return obj;\n",
       "  }, {});\n",
       "}\n",
       "\n",
       "mpl.figure.prototype.mouse_event = function(event, name) {\n",
       "    var canvas_pos = mpl.findpos(event)\n",
       "\n",
       "    if (name === 'button_press')\n",
       "    {\n",
       "        this.canvas.focus();\n",
       "        this.canvas_div.focus();\n",
       "    }\n",
       "\n",
       "    var x = canvas_pos.x * mpl.ratio;\n",
       "    var y = canvas_pos.y * mpl.ratio;\n",
       "\n",
       "    this.send_message(name, {x: x, y: y, button: event.button,\n",
       "                             step: event.step,\n",
       "                             guiEvent: simpleKeys(event)});\n",
       "\n",
       "    /* This prevents the web browser from automatically changing to\n",
       "     * the text insertion cursor when the button is pressed.  We want\n",
       "     * to control all of the cursor setting manually through the\n",
       "     * 'cursor' event from matplotlib */\n",
       "    event.preventDefault();\n",
       "    return false;\n",
       "}\n",
       "\n",
       "mpl.figure.prototype._key_event_extra = function(event, name) {\n",
       "    // Handle any extra behaviour associated with a key event\n",
       "}\n",
       "\n",
       "mpl.figure.prototype.key_event = function(event, name) {\n",
       "\n",
       "    // Prevent repeat events\n",
       "    if (name == 'key_press')\n",
       "    {\n",
       "        if (event.which === this._key)\n",
       "            return;\n",
       "        else\n",
       "            this._key = event.which;\n",
       "    }\n",
       "    if (name == 'key_release')\n",
       "        this._key = null;\n",
       "\n",
       "    var value = '';\n",
       "    if (event.ctrlKey && event.which != 17)\n",
       "        value += \"ctrl+\";\n",
       "    if (event.altKey && event.which != 18)\n",
       "        value += \"alt+\";\n",
       "    if (event.shiftKey && event.which != 16)\n",
       "        value += \"shift+\";\n",
       "\n",
       "    value += 'k';\n",
       "    value += event.which.toString();\n",
       "\n",
       "    this._key_event_extra(event, name);\n",
       "\n",
       "    this.send_message(name, {key: value,\n",
       "                             guiEvent: simpleKeys(event)});\n",
       "    return false;\n",
       "}\n",
       "\n",
       "mpl.figure.prototype.toolbar_button_onclick = function(name) {\n",
       "    if (name == 'download') {\n",
       "        this.handle_save(this, null);\n",
       "    } else {\n",
       "        this.send_message(\"toolbar_button\", {name: name});\n",
       "    }\n",
       "};\n",
       "\n",
       "mpl.figure.prototype.toolbar_button_onmouseover = function(tooltip) {\n",
       "    this.message.textContent = tooltip;\n",
       "};\n",
       "mpl.toolbar_items = [[\"Home\", \"Reset original view\", \"fa fa-home icon-home\", \"home\"], [\"Back\", \"Back to previous view\", \"fa fa-arrow-left icon-arrow-left\", \"back\"], [\"Forward\", \"Forward to next view\", \"fa fa-arrow-right icon-arrow-right\", \"forward\"], [\"\", \"\", \"\", \"\"], [\"Pan\", \"Pan axes with left mouse, zoom with right\", \"fa fa-arrows icon-move\", \"pan\"], [\"Zoom\", \"Zoom to rectangle\", \"fa fa-square-o icon-check-empty\", \"zoom\"], [\"\", \"\", \"\", \"\"], [\"Download\", \"Download plot\", \"fa fa-floppy-o icon-save\", \"download\"]];\n",
       "\n",
       "mpl.extensions = [\"eps\", \"jpeg\", \"pdf\", \"png\", \"ps\", \"raw\", \"svg\", \"tif\"];\n",
       "\n",
       "mpl.default_extension = \"png\";var comm_websocket_adapter = function(comm) {\n",
       "    // Create a \"websocket\"-like object which calls the given IPython comm\n",
       "    // object with the appropriate methods. Currently this is a non binary\n",
       "    // socket, so there is still some room for performance tuning.\n",
       "    var ws = {};\n",
       "\n",
       "    ws.close = function() {\n",
       "        comm.close()\n",
       "    };\n",
       "    ws.send = function(m) {\n",
       "        //console.log('sending', m);\n",
       "        comm.send(m);\n",
       "    };\n",
       "    // Register the callback with on_msg.\n",
       "    comm.on_msg(function(msg) {\n",
       "        //console.log('receiving', msg['content']['data'], msg);\n",
       "        // Pass the mpl event to the overridden (by mpl) onmessage function.\n",
       "        ws.onmessage(msg['content']['data'])\n",
       "    });\n",
       "    return ws;\n",
       "}\n",
       "\n",
       "mpl.mpl_figure_comm = function(comm, msg) {\n",
       "    // This is the function which gets called when the mpl process\n",
       "    // starts-up an IPython Comm through the \"matplotlib\" channel.\n",
       "\n",
       "    var id = msg.content.data.id;\n",
       "    // Get hold of the div created by the display call when the Comm\n",
       "    // socket was opened in Python.\n",
       "    var element = $(\"#\" + id);\n",
       "    var ws_proxy = comm_websocket_adapter(comm)\n",
       "\n",
       "    function ondownload(figure, format) {\n",
       "        window.open(figure.imageObj.src);\n",
       "    }\n",
       "\n",
       "    var fig = new mpl.figure(id, ws_proxy,\n",
       "                           ondownload,\n",
       "                           element.get(0));\n",
       "\n",
       "    // Call onopen now - mpl needs it, as it is assuming we've passed it a real\n",
       "    // web socket which is closed, not our websocket->open comm proxy.\n",
       "    ws_proxy.onopen();\n",
       "\n",
       "    fig.parent_element = element.get(0);\n",
       "    fig.cell_info = mpl.find_output_cell(\"<div id='\" + id + \"'></div>\");\n",
       "    if (!fig.cell_info) {\n",
       "        console.error(\"Failed to find cell for figure\", id, fig);\n",
       "        return;\n",
       "    }\n",
       "\n",
       "    var output_index = fig.cell_info[2]\n",
       "    var cell = fig.cell_info[0];\n",
       "\n",
       "};\n",
       "\n",
       "mpl.figure.prototype.handle_close = function(fig, msg) {\n",
       "    var width = fig.canvas.width/mpl.ratio\n",
       "    fig.root.unbind('remove')\n",
       "\n",
       "    // Update the output cell to use the data from the current canvas.\n",
       "    fig.push_to_output();\n",
       "    var dataURL = fig.canvas.toDataURL();\n",
       "    // Re-enable the keyboard manager in IPython - without this line, in FF,\n",
       "    // the notebook keyboard shortcuts fail.\n",
       "    IPython.keyboard_manager.enable()\n",
       "    $(fig.parent_element).html('<img src=\"' + dataURL + '\" width=\"' + width + '\">');\n",
       "    fig.close_ws(fig, msg);\n",
       "}\n",
       "\n",
       "mpl.figure.prototype.close_ws = function(fig, msg){\n",
       "    fig.send_message('closing', msg);\n",
       "    // fig.ws.close()\n",
       "}\n",
       "\n",
       "mpl.figure.prototype.push_to_output = function(remove_interactive) {\n",
       "    // Turn the data on the canvas into data in the output cell.\n",
       "    var width = this.canvas.width/mpl.ratio\n",
       "    var dataURL = this.canvas.toDataURL();\n",
       "    this.cell_info[1]['text/html'] = '<img src=\"' + dataURL + '\" width=\"' + width + '\">';\n",
       "}\n",
       "\n",
       "mpl.figure.prototype.updated_canvas_event = function() {\n",
       "    // Tell IPython that the notebook contents must change.\n",
       "    IPython.notebook.set_dirty(true);\n",
       "    this.send_message(\"ack\", {});\n",
       "    var fig = this;\n",
       "    // Wait a second, then push the new image to the DOM so\n",
       "    // that it is saved nicely (might be nice to debounce this).\n",
       "    setTimeout(function () { fig.push_to_output() }, 1000);\n",
       "}\n",
       "\n",
       "mpl.figure.prototype._init_toolbar = function() {\n",
       "    var fig = this;\n",
       "\n",
       "    var nav_element = $('<div/>');\n",
       "    nav_element.attr('style', 'width: 100%');\n",
       "    this.root.append(nav_element);\n",
       "\n",
       "    // Define a callback function for later on.\n",
       "    function toolbar_event(event) {\n",
       "        return fig.toolbar_button_onclick(event['data']);\n",
       "    }\n",
       "    function toolbar_mouse_event(event) {\n",
       "        return fig.toolbar_button_onmouseover(event['data']);\n",
       "    }\n",
       "\n",
       "    for(var toolbar_ind in mpl.toolbar_items){\n",
       "        var name = mpl.toolbar_items[toolbar_ind][0];\n",
       "        var tooltip = mpl.toolbar_items[toolbar_ind][1];\n",
       "        var image = mpl.toolbar_items[toolbar_ind][2];\n",
       "        var method_name = mpl.toolbar_items[toolbar_ind][3];\n",
       "\n",
       "        if (!name) { continue; };\n",
       "\n",
       "        var button = $('<button class=\"btn btn-default\" href=\"#\" title=\"' + name + '\"><i class=\"fa ' + image + ' fa-lg\"></i></button>');\n",
       "        button.click(method_name, toolbar_event);\n",
       "        button.mouseover(tooltip, toolbar_mouse_event);\n",
       "        nav_element.append(button);\n",
       "    }\n",
       "\n",
       "    // Add the status bar.\n",
       "    var status_bar = $('<span class=\"mpl-message\" style=\"text-align:right; float: right;\"/>');\n",
       "    nav_element.append(status_bar);\n",
       "    this.message = status_bar[0];\n",
       "\n",
       "    // Add the close button to the window.\n",
       "    var buttongrp = $('<div class=\"btn-group inline pull-right\"></div>');\n",
       "    var button = $('<button class=\"btn btn-mini btn-primary\" href=\"#\" title=\"Stop Interaction\"><i class=\"fa fa-power-off icon-remove icon-large\"></i></button>');\n",
       "    button.click(function (evt) { fig.handle_close(fig, {}); } );\n",
       "    button.mouseover('Stop Interaction', toolbar_mouse_event);\n",
       "    buttongrp.append(button);\n",
       "    var titlebar = this.root.find($('.ui-dialog-titlebar'));\n",
       "    titlebar.prepend(buttongrp);\n",
       "}\n",
       "\n",
       "mpl.figure.prototype._root_extra_style = function(el){\n",
       "    var fig = this\n",
       "    el.on(\"remove\", function(){\n",
       "\tfig.close_ws(fig, {});\n",
       "    });\n",
       "}\n",
       "\n",
       "mpl.figure.prototype._canvas_extra_style = function(el){\n",
       "    // this is important to make the div 'focusable\n",
       "    el.attr('tabindex', 0)\n",
       "    // reach out to IPython and tell the keyboard manager to turn it's self\n",
       "    // off when our div gets focus\n",
       "\n",
       "    // location in version 3\n",
       "    if (IPython.notebook.keyboard_manager) {\n",
       "        IPython.notebook.keyboard_manager.register_events(el);\n",
       "    }\n",
       "    else {\n",
       "        // location in version 2\n",
       "        IPython.keyboard_manager.register_events(el);\n",
       "    }\n",
       "\n",
       "}\n",
       "\n",
       "mpl.figure.prototype._key_event_extra = function(event, name) {\n",
       "    var manager = IPython.notebook.keyboard_manager;\n",
       "    if (!manager)\n",
       "        manager = IPython.keyboard_manager;\n",
       "\n",
       "    // Check for shift+enter\n",
       "    if (event.shiftKey && event.which == 13) {\n",
       "        this.canvas_div.blur();\n",
       "        event.shiftKey = false;\n",
       "        // Send a \"J\" for go to next cell\n",
       "        event.which = 74;\n",
       "        event.keyCode = 74;\n",
       "        manager.command_mode();\n",
       "        manager.handle_keydown(event);\n",
       "    }\n",
       "}\n",
       "\n",
       "mpl.figure.prototype.handle_save = function(fig, msg) {\n",
       "    fig.ondownload(fig, null);\n",
       "}\n",
       "\n",
       "\n",
       "mpl.find_output_cell = function(html_output) {\n",
       "    // Return the cell and output element which can be found *uniquely* in the notebook.\n",
       "    // Note - this is a bit hacky, but it is done because the \"notebook_saving.Notebook\"\n",
       "    // IPython event is triggered only after the cells have been serialised, which for\n",
       "    // our purposes (turning an active figure into a static one), is too late.\n",
       "    var cells = IPython.notebook.get_cells();\n",
       "    var ncells = cells.length;\n",
       "    for (var i=0; i<ncells; i++) {\n",
       "        var cell = cells[i];\n",
       "        if (cell.cell_type === 'code'){\n",
       "            for (var j=0; j<cell.output_area.outputs.length; j++) {\n",
       "                var data = cell.output_area.outputs[j];\n",
       "                if (data.data) {\n",
       "                    // IPython >= 3 moved mimebundle to data attribute of output\n",
       "                    data = data.data;\n",
       "                }\n",
       "                if (data['text/html'] == html_output) {\n",
       "                    return [cell, data, j];\n",
       "                }\n",
       "            }\n",
       "        }\n",
       "    }\n",
       "}\n",
       "\n",
       "// Register the function which deals with the matplotlib target/channel.\n",
       "// The kernel may be null if the page has been refreshed.\n",
       "if (IPython.notebook.kernel != null) {\n",
       "    IPython.notebook.kernel.comm_manager.register_target('matplotlib', mpl.mpl_figure_comm);\n",
       "}\n"
      ],
      "text/plain": [
       "<IPython.core.display.Javascript object>"
      ]
     },
     "metadata": {},
     "output_type": "display_data"
    },
    {
     "data": {
      "text/html": [
       "<img src=\"data:image/png;base64,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\" width=\"639.8333333333334\">"
      ],
      "text/plain": [
       "<IPython.core.display.HTML object>"
      ]
     },
     "metadata": {},
     "output_type": "display_data"
    }
   ],
   "source": [
    "%matplotlib notebook \n",
    "from datetime import datetime\n",
    "import matplotlib.pyplot as plt\n",
    "\n",
    "\n",
    "dates, prices = zip(*dates_and_prices) # See zip example with * here: https://www.programiz.com/python-programming/online-compiler/?ref=2390fcb4\"\n",
    "print([d.time() for d in dates][:10])\n",
    "ref_day = datetime.today()\n",
    "times = [datetime.combine(ref_day, t.time()) for t in dates] # get the time intervals for today\n",
    "\n",
    "# plot\n",
    "plt.plot(times, prices, 'ro')\n",
    "#plt.plot(dates, prices, 'ro')\n",
    "# beautify the x-labels\n",
    "plt.gcf().autofmt_xdate()\n",
    "\n",
    "plt.show()"
   ]
  },
  {
   "cell_type": "markdown",
   "metadata": {
    "slideshow": {
     "slide_type": "slide"
    }
   },
   "source": [
    "### The Pearson Correlation Coefficient\n",
    "\n",
    "The Pearson correlation coefficient measures the linear relationship\n",
    "between two datasets. Like other correlation coefficients, this one varies between -1 and +1\n",
    "with 0 implying no correlation. Correlations of -1 or +1 imply an exact\n",
    "linear relationship. Positive correlations imply that as x increases, so\n",
    "does y. Negative correlations imply that as x increases, y decreases.\n",
    "\n",
    "The p-value roughly indicates the probability of an uncorrelated system\n",
    "producing datasets that have a Pearson correlation at least as extreme\n",
    "as the one computed from these datasets."
   ]
  },
  {
   "cell_type": "code",
   "execution_count": 95,
   "metadata": {
    "slideshow": {
     "slide_type": "slide"
    }
   },
   "outputs": [
    {
     "data": {
      "text/plain": [
       "(-0.17679229321634257, 1.4160407547246473e-11)"
      ]
     },
     "execution_count": 95,
     "metadata": {},
     "output_type": "execute_result"
    }
   ],
   "source": [
    "import matplotlib\n",
    "from scipy.stats.stats import pearsonr\n",
    "\n",
    "\n",
    "x, y = zip(*dates_and_prices)\n",
    "x = matplotlib.dates.date2num(x)\n",
    "\n",
    "pearsonr(x, y)"
   ]
  },
  {
   "cell_type": "markdown",
   "metadata": {
    "slideshow": {
     "slide_type": "slide"
    }
   },
   "source": [
    "Consequently, since our Pearson Correlation Coefficient is quite close to zero, there is likely no correlation between the start time of a concert and the price you have to pay for it."
   ]
  },
  {
   "cell_type": "markdown",
   "metadata": {
    "slideshow": {
     "slide_type": "slide"
    }
   },
   "source": [
    "# Class exercise: Scraping Images from a Page\n",
    "\n",
    "In the following code you will use Beautiful Soup to extract all links to images, which are in `img` tags on a web page."
   ]
  },
  {
   "cell_type": "code",
   "execution_count": 79,
   "metadata": {
    "scrolled": true,
    "slideshow": {
     "slide_type": "slide"
    }
   },
   "outputs": [],
   "source": [
    "import bs4\n",
    "import os\n",
    "import sys\n",
    "import requests\n",
    "import shutil\n",
    "\n",
    "\n",
    "def collect_img_links(url):\n",
    "    \"\"\"based on a url returns a list of image links contained in the requested page\"\"\"\n",
    "    r = requests.get(url)\n",
    "    r.raise_for_status()\n",
    "    soup = bs4.BeautifulSoup(r.text, 'html.parser')\n",
    "    #print(soup.select('img'))\n",
    "    return [img.get('src') for img in soup.select('img') \n",
    "            if img.get('src') and img.get('src').startswith('http')]\n",
    "\n",
    "\n",
    "def download_imgs(links, out_folder=\"./test/\"):\n",
    "    \"\"\"download all images from a list of image links. \n",
    "    Requires a folder named: test to be there\"\"\"\n",
    "    img_no = 0\n",
    "    for l in links:\n",
    "        img_no += 1\n",
    "        r = requests.get(l, stream=True)\n",
    "        with open(out_folder+'img'+str(img_no)+'.jpg', 'wb') as f:\n",
    "            r.raw.decode_content = True\n",
    "            shutil.copyfileobj(r.raw, f)     \n",
    "        \n",
    "links = collect_img_links('https://www.google.dk/search?site=&tbm=isch&source=hp&biw=1163&bih=812&q=minions&oq=minions')\n",
    "links\n",
    "download_imgs(links)"
   ]
  },
  {
   "cell_type": "markdown",
   "metadata": {
    "slideshow": {
     "slide_type": "slide"
    }
   },
   "source": [
    "# Exercise 2: Writing a Simple Web Crawler\n",
    "\n",
    "Write a simple web crawler. More precisely, a program that extracts recursively all links from web pages. The result of running the web crawler is a dictionary, were the key-value pairs correspond to outgoiung links from a web page with the URL, which is stored in the key.\n",
    "\n",
    "\n",
    "In case a page returns a status code, which is not `200` we just disregard this page. See https://en.wikipedia.org/wiki/List_of_HTTP_status_codes for more detailes on the various HTTP status codes."
   ]
  },
  {
   "cell_type": "code",
   "execution_count": 77,
   "metadata": {
    "slideshow": {
     "slide_type": "slide"
    }
   },
   "outputs": [],
   "source": [
    "def scrape_links(from_url, for_depth, all_links={}):\n",
    "    # This is what the exercise below asks you to implement!\n",
    "    pass\n",
    "\n",
    "\n",
    "start_url = 'https://www.version2.dk/artikel/google-deepmind-vi-oeger-sikkerheden-mod-misbrug-sundhedsdata-1074452'\n",
    "\n",
    "link_dict = scrape_links(from_url=start_url, for_depth=2)"
   ]
  },
  {
   "cell_type": "markdown",
   "metadata": {
    "slideshow": {
     "slide_type": "slide"
    }
   },
   "source": [
    "The web crawler that you wrote above is perhaps not the most performant. If you are interested in more web scraping and application of crawlers have a look at the `scrapy` module (https://scrapy.org)"
   ]
  }
 ],
 "metadata": {
  "celltoolbar": "Slideshow",
  "kernelspec": {
   "display_name": "Python 3",
   "language": "python",
   "name": "python3"
  },
  "language_info": {
   "codemirror_mode": {
    "name": "ipython",
    "version": 3
   },
   "file_extension": ".py",
   "mimetype": "text/x-python",
   "name": "python",
   "nbconvert_exporter": "python",
   "pygments_lexer": "ipython3",
   "version": "3.7.4"
  },
  "varInspector": {
   "cols": {
    "lenName": 16,
    "lenType": 16,
    "lenVar": 40
   },
   "kernels_config": {
    "python": {
     "delete_cmd_postfix": "",
     "delete_cmd_prefix": "del ",
     "library": "var_list.py",
     "varRefreshCmd": "print(var_dic_list())"
    },
    "r": {
     "delete_cmd_postfix": ") ",
     "delete_cmd_prefix": "rm(",
     "library": "var_list.r",
     "varRefreshCmd": "cat(var_dic_list()) "
    }
   },
   "types_to_exclude": [
    "module",
    "function",
    "builtin_function_or_method",
    "instance",
    "_Feature"
   ],
   "window_display": false
  }
 },
 "nbformat": 4,
 "nbformat_minor": 2
}
