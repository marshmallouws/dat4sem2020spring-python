{
 "cells": [
  {
   "cell_type": "markdown",
   "metadata": {
    "slideshow": {
     "slide_type": "subslide"
    }
   },
   "source": [
    "## Sets"
   ]
  },
  {
   "cell_type": "markdown",
   "metadata": {
    "slideshow": {
     "slide_type": "subslide"
    }
   },
   "source": [
    "* Empty set: $Ø = \\{\\}$\n",
    "* Non-empty set: $\\{1\\}$\n",
    "* Non-empty set: $\\{Red, Green\\}$\n",
    "* Distinct\n",
    "  * Set of the list $[1, 2, 2, 3]$ is $\\{1, 2, 3\\}$\n",
    "  * Set of $[Red, Green, Yellow, Green]$ is $\\{Red, Green, Yellow\\}$\n",
    "* Order doesn't matter\n",
    "  * $\\{Red, Green\\} == \\{Green, Red\\}$"
   ]
  },
  {
   "cell_type": "markdown",
   "metadata": {
    "slideshow": {
     "slide_type": "subslide"
    }
   },
   "source": [
    "## Different sets\n",
    "\n",
    "* The empty set, $Ø = \\{\\}$\n",
    "* All the students in this class\n",
    "* All the natural numbers, $\\mathbb{N} = \\{0, 1, 2, 3, 4 \\dots\\}$"
   ]
  },
  {
   "cell_type": "markdown",
   "metadata": {
    "slideshow": {
     "slide_type": "fragment"
    }
   },
   "source": [
    "\n",
    "* All the integers, $\\mathbb{Z} = \\{-\\infty, \\dots, -1, 0, 1, \\dots, \\infty\\}$\n",
    "* All the rational numbers $\\mathbb{Q} = \\{0, -2, 10, \\frac{-2832}{123}, \\frac{72}{1923892}, \\frac{67821}{1298732}, \\dots \\}$\n",
    "* All the real numbers, $\\mathbb{R} = \\{0, -2, 10, \\frac{-2832}{123}, \\frac{72}{1923892}, \\frac{67821}{1298732}, \\sqrt 2, \\pi, \\dots, \\infty\\}$"
   ]
  },
  {
   "cell_type": "markdown",
   "metadata": {
    "slideshow": {
     "slide_type": "subslide"
    }
   },
   "source": [
    "## Set membership\n",
    "\n",
    "* $4 \\in \\{1, 2, 3, 4, 5\\}$\n",
    "  * 4 **is a member of** the set $\\{1, 2, 3, 4, 5\\}$\n",
    "* $7 \\notin \\{1, 2, 3, 4, 5\\}$\n",
    "  * 7 **is not a member of** the set $\\{1, 2, 3, 4, 5\\}$"
   ]
  },
  {
   "cell_type": "markdown",
   "metadata": {
    "slideshow": {
     "slide_type": "subslide"
    }
   },
   "source": [
    "## Exercise on sets\n",
    "<table>\n",
    "<tr><td>\n",
    "  \n",
    "</td><td><img src=\"images/numbersystem.png\"/></td>\n",
    "</tr>\n",
    "</table>\n",
    "\n",
    "\n",
    "**Which expressions are true:?**\n",
    "<u>\n",
    "    <li>$4 \\in \\mathbb{R}$</li>\n",
    "    <li>$\\pi \\in \\mathbb{Q}$</li>\n",
    "    <li>$\\frac{2}{3} \\in \\mathbb{R}$</li>\n",
    "    <li>$\\sqrt 2 \\notin \\mathbb{Q}$</li>\n",
    "    <li>$-5 \\in \\mathbb{N}$</li>\n",
    "    <li>$log(7) \\notin \\mathbb{Q}$</li>\n",
    "</u>"
   ]
  }
 ],
 "metadata": {
  "celltoolbar": "Slideshow",
  "kernelspec": {
   "display_name": "Python 3",
   "language": "python",
   "name": "python3"
  },
  "language_info": {
   "codemirror_mode": {
    "name": "ipython",
    "version": 3
   },
   "file_extension": ".py",
   "mimetype": "text/x-python",
   "name": "python",
   "nbconvert_exporter": "python",
   "pygments_lexer": "ipython3",
   "version": "3.7.4"
  },
  "varInspector": {
   "cols": {
    "lenName": 16,
    "lenType": 16,
    "lenVar": 40
   },
   "kernels_config": {
    "python": {
     "delete_cmd_postfix": "",
     "delete_cmd_prefix": "del ",
     "library": "var_list.py",
     "varRefreshCmd": "print(var_dic_list())"
    },
    "r": {
     "delete_cmd_postfix": ") ",
     "delete_cmd_prefix": "rm(",
     "library": "var_list.r",
     "varRefreshCmd": "cat(var_dic_list()) "
    }
   },
   "types_to_exclude": [
    "module",
    "function",
    "builtin_function_or_method",
    "instance",
    "_Feature"
   ],
   "window_display": false
  }
 },
 "nbformat": 4,
 "nbformat_minor": 2
}
