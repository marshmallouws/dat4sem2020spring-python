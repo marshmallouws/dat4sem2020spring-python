{
 "cells": [
  {
   "cell_type": "markdown",
   "metadata": {},
   "source": [
    "# Python and databases"
   ]
  },
  {
   "cell_type": "markdown",
   "metadata": {},
   "source": [
    "### Download and install the mysql 8.0 connector:\n",
    "https://dev.mysql.com/downloads/connector/python/"
   ]
  },
  {
   "cell_type": "markdown",
   "metadata": {},
   "source": [
    "## Documentation on the connector if you have trouble\n",
    "https://dev.mysql.com/doc/connector-python/en/connector-python-installation.html"
   ]
  },
  {
   "cell_type": "code",
   "execution_count": 22,
   "metadata": {},
   "outputs": [],
   "source": [
    "%config IPCompleter.greedy=True"
   ]
  },
  {
   "cell_type": "code",
   "execution_count": 23,
   "metadata": {},
   "outputs": [
    {
     "name": "stdout",
     "output_type": "stream",
     "text": [
      "Preben Kallesen hired from 1990-02-02 to 1991-01-01 is paid: 2000 DKR pr month\n",
      "Hanne Jespersen hired from 1965-01-12 to 1967-02-28 is paid: 3100 DKR pr month\n",
      "Karim Cuhen hired from 2001-04-11 to None is paid: 5019 DKR pr month\n"
     ]
    }
   ],
   "source": [
    "## import mysql.connector\n",
    "import datetime\n",
    "import mysql.connector\n",
    "cnx = mysql.connector.connect(user='dev', password='ax2',\n",
    "                              host='127.0.0.1',\n",
    "                              port='3307',\n",
    "                              database='test',\n",
    "                              use_pure=True) # use_pure is necessary when open_ssl package is from python 3.7 :-( \n",
    "cursor = cnx.cursor()\n",
    "\n",
    "query = (\"SELECT firstname, lastname, startdate, enddate, salary FROM pythondemo WHERE startdate BETWEEN %s AND %s\")\n",
    "\n",
    "hire_start = datetime.date(1960, 1, 1)\n",
    "hire_end = datetime.date(2004, 12, 31)\n",
    "\n",
    "cursor.execute(query, (hire_start, hire_end))\n",
    "\n",
    "for (firstname, lastname, startdate, enddate, salary) in cursor:\n",
    "  print(\"{} {} hired from {} to {} is paid: {} DKR pr month\".format(firstname, lastname, startdate, enddate, salary))\n",
    "\n",
    "cursor.close()\n",
    "cnx.close()"
   ]
  },
  {
   "cell_type": "code",
   "execution_count": 11,
   "metadata": {},
   "outputs": [],
   "source": [
    "# insert, update, delete\n",
    "from __future__ import print_function\n",
    "\n",
    "from decimal import Decimal\n",
    "from datetime import datetime, date, timedelta\n",
    "\n",
    "import mysql.connector\n",
    "\n",
    "# Connect with the MySQL Server\n",
    "cnx = mysql.connector.connect(user='dev', password='ax2',\n",
    "                              host='127.0.0.1',\n",
    "                              port='3307',\n",
    "                              database='test',\n",
    "                              use_pure=True) # use_pure is necessary when open_ssl package is from python 3.7 :-( \n",
    "cursor = cnx.cursor()\n",
    "# Get two buffered cursors\n",
    "curA = cnx.cursor(buffered=True)\n",
    "curB = cnx.cursor(buffered=True)\n",
    "\n",
    "# Query to get employees who joined in a period defined by two dates\n",
    "query = (\"SELECT id, salary FROM pythondemo WHERE enddate IS NULL\")\n",
    "\n",
    "# UPDATE and INSERT statements for the old and new salary\n",
    "update_old_salary = (\n",
    "  \"UPDATE pythondemo SET salary = %s \"\n",
    "  \"WHERE id = %s\")\n",
    "\n",
    "# Select the employees getting a raise (all that are still employed)\n",
    "curA.execute(query)\n",
    "\n",
    "# Iterate through the result of curA\n",
    "for (id, salary) in curA:\n",
    "  # Update the old and insert the new salary\n",
    "  new_salary = int(round(Decimal(salary) * Decimal('1.15')))\n",
    "  curB.execute(update_old_salary, (new_salary, id))\n",
    "  # Commit the changes\n",
    "  cnx.commit()\n",
    "cursor.close()\n",
    "curA.close()\n",
    "curB.close()\n",
    "cnx.close()\n"
   ]
  },
  {
   "cell_type": "code",
   "execution_count": 16,
   "metadata": {},
   "outputs": [
    {
     "name": "stdout",
     "output_type": "stream",
     "text": [
      "SHOWALL: [{'firstname': 'Preben', 'lastname': 'Kallesen', 'startdate': datetime.date(1990, 2, 2), 'enddate': datetime.date(1991, 1, 1), 'salary': Decimal('2000')}, {'firstname': 'Hanne', 'lastname': 'Jespersen', 'startdate': datetime.date(1965, 1, 12), 'enddate': datetime.date(1967, 2, 28), 'salary': Decimal('3100')}, {'firstname': 'Karim', 'lastname': 'Cuhen', 'startdate': datetime.date(2001, 4, 11), 'enddate': None, 'salary': Decimal('5019')}, {'firstname': 'Aishe', 'lastname': 'Zulima', 'startdate': datetime.date(2012, 2, 18), 'enddate': None, 'salary': Decimal('6844')}]\n",
      "COLUMNS: ('firstname', 'lastname', 'startdate', 'enddate', 'salary')\n",
      "\n",
      "ALL: []\n"
     ]
    }
   ],
   "source": [
    "# Fetch as dictionary\n",
    "import mysql.connector\n",
    "class Dict_Cursor(mysql.connector.cursor.MySQLCursor):\n",
    "    def fetchone(self):\n",
    "        row=self._fetch_row()\n",
    "        if row:\n",
    "            return dict(zip(self.column_names, row))\n",
    "        return None\n",
    "    \n",
    "    def fetchall(self):\n",
    "        result = []\n",
    "        while(True):\n",
    "            try:\n",
    "                row = self._fetch_row()\n",
    "                if(row == None):\n",
    "                    break\n",
    "                row = dict(zip(self.column_names, row))\n",
    "                result.append(row)\n",
    "            except:\n",
    "                print('DONE')\n",
    "        return result\n",
    "            \n",
    "            \n",
    "            \n",
    "cnx = mysql.connector.connect(user='dev', password='ax2',\n",
    "                              host='127.0.0.1',\n",
    "                              port='3307',\n",
    "                              database='test',\n",
    "                              use_pure=True) # use_pure is necessary when open_ssl package is from python 3.7 :-( \n",
    "\n",
    "cursor = cnx.cursor(cursor_class=Dict_Cursor)\n",
    "\n",
    "query = (\"SELECT firstname, lastname, startdate, enddate, salary FROM pythondemo\")\n",
    "\n",
    "cursor.execute(query)\n",
    "showall = cursor.fetchall()\n",
    "print('SHOWALL:',showall)\n",
    "columns = tuple([d[0] for d in cursor.description] )\n",
    "print('COLUMNS:',columns)\n",
    "all = []\n",
    "for (row) in cursor:\n",
    "    all.append(row)\n",
    "print('\\nALL:',all)\n",
    "\n",
    "cursor.close()\n",
    "cnx.close()"
   ]
  },
  {
   "cell_type": "code",
   "execution_count": 19,
   "metadata": {},
   "outputs": [
    {
     "data": {
      "text/plain": [
       "[{'firstname': 'Preben',\n",
       "  'lastname': 'Kallesen',\n",
       "  'startdate': datetime.date(1990, 2, 2),\n",
       "  'enddate': datetime.date(1991, 1, 1),\n",
       "  'salary': Decimal('2000')},\n",
       " {'firstname': 'Hanne',\n",
       "  'lastname': 'Jespersen',\n",
       "  'startdate': datetime.date(1965, 1, 12),\n",
       "  'enddate': datetime.date(1967, 2, 28),\n",
       "  'salary': Decimal('3100')},\n",
       " {'firstname': 'Karim',\n",
       "  'lastname': 'Cuhen',\n",
       "  'startdate': datetime.date(2001, 4, 11),\n",
       "  'enddate': None,\n",
       "  'salary': Decimal('5019')},\n",
       " {'firstname': 'Aishe',\n",
       "  'lastname': 'Zulima',\n",
       "  'startdate': datetime.date(2012, 2, 18),\n",
       "  'enddate': None,\n",
       "  'salary': Decimal('6844')}]"
      ]
     },
     "execution_count": 19,
     "metadata": {},
     "output_type": "execute_result"
    }
   ],
   "source": [
    "# with the build in MysqlCursorDict cursor\n",
    "cnx = mysql.connector.connect(user='dev', password='ax2',\n",
    "                              host='127.0.0.1',\n",
    "                              port='3307',\n",
    "                              database='test',\n",
    "                              use_pure=True) # use_pure is necessary when open_ssl package is from python 3.7 :-( \n",
    "\n",
    "cursor = cnx.cursor(dictionary=True, buffered=True) # dict and buffered cursor\n",
    "\n",
    "query = (\"SELECT firstname, lastname, startdate, enddate, salary FROM pythondemo\")\n",
    "\n",
    "cursor.execute(query)\n",
    "cursor.fetchall()"
   ]
  },
  {
   "cell_type": "markdown",
   "metadata": {},
   "source": [
    "## Exercise\n",
    "Create a function that can take a dict and a table name and persist all values of the dict into the table columns corresponding to the dict keys."
   ]
  }
 ],
 "metadata": {
  "kernelspec": {
   "display_name": "Python 3",
   "language": "python",
   "name": "python3"
  },
  "language_info": {
   "codemirror_mode": {
    "name": "ipython",
    "version": 3
   },
   "file_extension": ".py",
   "mimetype": "text/x-python",
   "name": "python",
   "nbconvert_exporter": "python",
   "pygments_lexer": "ipython3",
   "version": "3.7.4"
  },
  "varInspector": {
   "cols": {
    "lenName": 16,
    "lenType": 16,
    "lenVar": 40
   },
   "kernels_config": {
    "python": {
     "delete_cmd_postfix": "",
     "delete_cmd_prefix": "del ",
     "library": "var_list.py",
     "varRefreshCmd": "print(var_dic_list())"
    },
    "r": {
     "delete_cmd_postfix": ") ",
     "delete_cmd_prefix": "rm(",
     "library": "var_list.r",
     "varRefreshCmd": "cat(var_dic_list()) "
    }
   },
   "types_to_exclude": [
    "module",
    "function",
    "builtin_function_or_method",
    "instance",
    "_Feature"
   ],
   "window_display": false
  }
 },
 "nbformat": 4,
 "nbformat_minor": 2
}
