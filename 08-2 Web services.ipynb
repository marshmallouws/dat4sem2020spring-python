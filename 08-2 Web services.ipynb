{
 "cells": [
  {
   "cell_type": "markdown",
   "metadata": {},
   "source": [
    "# Web services with Flask\n",
    "\n",
    "Content is based on these ressources:  \n",
    "https://blog.miguelgrinberg.com/post/designing-a-restful-api-with-python-and-flask   \n",
    "https://blog.miguelgrinberg.com/post/restful-authentication-with-flask"
   ]
  },
  {
   "cell_type": "markdown",
   "metadata": {},
   "source": [
    "## To deploy flask to production env\n",
    "This is outside the scope of this course   \n",
    "\n",
    "https://www.digitalocean.com/community/tutorials/how-to-serve-flask-applications-with-uswgi-and-nginx-on-ubuntu-18-04"
   ]
  },
  {
   "cell_type": "markdown",
   "metadata": {},
   "source": [
    "# Flask intro\n",
    "With Anaconda we got Flask installed allready (check with `conda list` from inside your project folder).  \n",
    "The following example is the most basic implementation of a flask rest service:  \n",
    "```python\n",
    "#!flask/bin/python\n",
    "from flask import Flask\n",
    "\n",
    "app = Flask(__name__)\n",
    "\n",
    "@app.route('/')\n",
    "def index():\n",
    "    return \"Hello, World from flask server!\"\n",
    "\n",
    "if __name__ == '__main__':\n",
    "    app.run(debug=True)\n",
    "```\n",
    "Save it in a file: app.py and run it from cli  \n",
    "You can now access in browser from `http://127.0.0.1:5000/`"
   ]
  },
  {
   "cell_type": "markdown",
   "metadata": {},
   "source": [
    "## Flask extended\n",
    "Add more http methods in the @app.route configuration\n",
    "\n",
    "```python\n",
    "#!flask/bin/python\n",
    "from flask import Flask, jsonify, abort, request\n",
    "\n",
    "\n",
    "app = Flask(__name__)\n",
    "\n",
    "tasks = [\n",
    "    {\n",
    "        'id': 1,\n",
    "        'title': u'Buy groceries',\n",
    "        'description': u'Milk, Cheese, Pizza, Fruit, Tylenol', \n",
    "        'done': False\n",
    "    },\n",
    "    {\n",
    "        'id': 2,\n",
    "        'title': u'Learn Python',\n",
    "        'description': u'Need to find a good Python tutorial on the web', \n",
    "        'done': False\n",
    "    }\n",
    "]\n",
    "\n",
    "\n",
    "@app.route('/todo/api/v1.0/tasks', methods=['GET'])\n",
    "def get_tasks():\n",
    "    return jsonify({'tasks': tasks})\n",
    "\n",
    "\n",
    "@app.route('/todo/api/v1.0/tasks/<int:task_id>', methods=['GET'])\n",
    "def get_task(task_id):\n",
    "    task = [task for task in tasks if task['id'] == task_id]\n",
    "    if len(task) == 0:\n",
    "        abort(404)\n",
    "    return jsonify({'task': task[0]})\n",
    "\n",
    "if __name__ == '__main__':\n",
    "    app.run(debug=True)\n",
    "\n",
    "@app.route('/todo/api/v1.0/tasks', methods=['POST'])\n",
    "def create_task():\n",
    "    if not request.json or not 'title' in request.json:\n",
    "        abort(400)\n",
    "    task = {\n",
    "        'id': tasks[-1]['id'] + 1,\n",
    "        'title': request.json['title'],\n",
    "        'description': request.json.get('description', \"\"),\n",
    "        'done': False\n",
    "    }\n",
    "    tasks.append(task)\n",
    "    return jsonify({'task': task}), 201\n",
    "\n",
    "@app.route('/todo/api/v1.0/tasks/<int:task_id>', methods=['PUT'])\n",
    "def update_task(task_id):\n",
    "    task = [task for task in tasks if task['id'] == task_id]\n",
    "    if len(task) == 0:\n",
    "        abort(404)\n",
    "    if not request.json:\n",
    "        abort(400)\n",
    "    if 'title' in request.json and type(request.json['title']) != unicode:\n",
    "        abort(400)\n",
    "    if 'description' in request.json and type(request.json['description']) is not unicode:\n",
    "        abort(400)\n",
    "    if 'done' in request.json and type(request.json['done']) is not bool:\n",
    "        abort(400)\n",
    "    task[0]['title'] = request.json.get('title', task[0]['title'])\n",
    "    task[0]['description'] = request.json.get('description', task[0]['description'])\n",
    "    task[0]['done'] = request.json.get('done', task[0]['done'])\n",
    "    return jsonify({'task': task[0]})\n",
    "\n",
    "@app.route('/todo/api/v1.0/tasks/<int:task_id>', methods=['DELETE'])\n",
    "def delete_task(task_id):\n",
    "    task = [task for task in tasks if task['id'] == task_id]\n",
    "    if len(task) == 0:\n",
    "        abort(404)\n",
    "    tasks.remove(task[0])\n",
    "    return jsonify({'result': True})\n",
    "\n",
    "```"
   ]
  },
  {
   "cell_type": "markdown",
   "metadata": {},
   "source": [
    "## Exercise\n",
    "1. Create a restful webservice that can respond to the following requests:  \n",
    "\n",
    "|Method|URL|Example|Response|Description|\n",
    "|--|--|--|--|--|\n",
    "|GET|/datagenerator/api/person/{no}|/datagenerator/api/person/100|[{\"id\":1,\"name\":\"Holger\"},{},{}]|Returns 100 person objects|\n",
    "|POST|datagenerator/api/person|POST json: {\"name\":\"Henrietta\"}|{\"id\":101,\"name\":\"Henrietta\"}|Adds a new Person object to the list of persons on the server|\n",
    "\n",
    "2. Use a Mysql table to store Person objects"
   ]
  }
 ],
 "metadata": {
  "kernelspec": {
   "display_name": "Python 3",
   "language": "python",
   "name": "python3"
  },
  "language_info": {
   "codemirror_mode": {
    "name": "ipython",
    "version": 3
   },
   "file_extension": ".py",
   "mimetype": "text/x-python",
   "name": "python",
   "nbconvert_exporter": "python",
   "pygments_lexer": "ipython3",
   "version": "3.7.4"
  },
  "varInspector": {
   "cols": {
    "lenName": 16,
    "lenType": 16,
    "lenVar": 40
   },
   "kernels_config": {
    "python": {
     "delete_cmd_postfix": "",
     "delete_cmd_prefix": "del ",
     "library": "var_list.py",
     "varRefreshCmd": "print(var_dic_list())"
    },
    "r": {
     "delete_cmd_postfix": ") ",
     "delete_cmd_prefix": "rm(",
     "library": "var_list.r",
     "varRefreshCmd": "cat(var_dic_list()) "
    }
   },
   "types_to_exclude": [
    "module",
    "function",
    "builtin_function_or_method",
    "instance",
    "_Feature"
   ],
   "window_display": false
  }
 },
 "nbformat": 4,
 "nbformat_minor": 2
}
