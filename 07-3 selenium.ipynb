{
 "cells": [
  {
   "cell_type": "markdown",
   "metadata": {
    "slideshow": {
     "slide_type": "slide"
    }
   },
   "source": [
    "# Selenium\n",
    "\n",
    "\n",
    "Where did the names and addresses in the previous exercise come from?\n",
    "\n",
    "**They are scraped from the web via a small Selenium script**\n",
    "\n",
    "A similar program, that would allow us to receive all URLs from www.kulturnaut.dk by clicking on the *\"Next page...\"* links, is here: [selenium_clicker.py](selenium_clicker.py). \n"
   ]
  },
  {
   "cell_type": "markdown",
   "metadata": {
    "slideshow": {
     "slide_type": "slide"
    }
   },
   "source": [
    "## What is Selenium?\n",
    "\n",
    "> Selenium automates browsers. That's it! What you do with that power is entirely up to you. Primarily, it is for automating web applications for testing purposes, but is certainly not limited to just that. Boring web-based administration tasks can (and should!) also be automated as well.\n",
    "http://docs.seleniumhq.org\n",
    "\n"
   ]
  },
  {
   "cell_type": "markdown",
   "metadata": {
    "slideshow": {
     "slide_type": "slide"
    }
   },
   "source": [
    "## Install Selenium\n",
    "\n",
    "```bash\n",
    "conda install selenium\n",
    "```\n",
    "or\n",
    "```bash\n",
    "pip install selenium\n",
    "```\n",
    "#### Download and register the geckodriver\n",
    "[see short guide here](https://stackoverflow.com/questions/40208051/selenium-using-python-geckodriver-executable-needs-to-be-in-path)"
   ]
  },
  {
   "cell_type": "markdown",
   "metadata": {
    "slideshow": {
     "slide_type": "slide"
    }
   },
   "source": [
    "## Automatically Finding Names, addresses and numbers\n",
    "\n",
    "If you run the [selenium_krak.py](selenium_krak.py) script from the command line, you will observe, that it opens a Firefox window, enters a search string (*\"Møller\"*), clicks the links *\"Personer\"* to search for persons only, and finally it prints the HTML sources of the page.\n"
   ]
  },
  {
   "cell_type": "code",
   "execution_count": 5,
   "metadata": {},
   "outputs": [
    {
     "name": "stdout",
     "output_type": "stream",
     "text": [
      "[<selenium.webdriver.firefox.webelement.FirefoxWebElement (session=\"81f87395-e0a1-4d03-9894-eff02170c92d\", element=\"770a3acb-6beb-4a83-9d24-63654033c03c\")>]\n"
     ]
    },
    {
     "data": {
      "text/plain": [
       "['A Hartmann\\n Præstehusene 124 \\n 2620 Albertslund \\n43 45 25...\\n',\n",
       " 'Aage Frederik Hartmann Ditlevsen\\n Højmose Vænge 25, 2. tv \\n 2970 Hørsholm \\n29 82 73...\\n',\n",
       " 'Aase Hartmann Kromann-Olsen\\n Elmholt 11 \\n 9560 Hadsund \\n61 81 03...\\n',\n",
       " 'Adam Hartmann-Petersen\\n Enghavevej 28 \\n 5290 Marslev \\n29 89 81...\\n',\n",
       " 'Agnethe Hartmann Hansen\\n Skovsyrevej 66 \\n 4700 Næstved \\n40 63 19...\\n',\n",
       " 'Aiya Reginalda Hartmann Jensen\\n Mosestræde 26 \\n Thurø \\n21 33 29...\\n',\n",
       " 'Alberte Hartmann Bertelsen\\n Gugvej 123 \\n 9210 Aalborg SØ \\n25 80 90...\\n',\n",
       " 'Alex Hartmann\\n Fuglebakken 9 \\n Brylle \\n22 94 00...\\n',\n",
       " 'Alex Hartmann\\n Skæring Havvej 129 \\n 8250 Egå \\n40 32 02...\\n',\n",
       " 'Alexander Hartmann\\n Strandgaardsvej 38 \\n 7120 Vejle Øst \\n26 17 61...3\\n',\n",
       " 'Alexander Sune Hartmann\\n Inger Christensens Gade 24, 3. tv \\n 8220 Brabrand \\n42 63 99...\\n',\n",
       " 'Alexandra Tatiana-Louise Hartmann\\n Enighedsvej 6E, 4. tv \\n 2920 Charlottenlund \\n42 26 06...\\n',\n",
       " 'Alf Hartmann\\n Ølandsvej 35 \\n 4681 Herfølge \\n21 28 21...\\n',\n",
       " 'Alf Hartmann Sørensen\\n Ølandsvej 35 \\n 4681 Herfølge \\n21 28 21...\\n',\n",
       " 'Alice Hartmann Bladt\\n Folevej 60 \\n Fole \\n74 82 21...\\n',\n",
       " 'Alice Hartmann Bladt Boisen\\n Folevej 60 \\n Fole \\n30 49 60...4\\n',\n",
       " 'Allan Hartmann\\n Tinghøjvej 57A, 3. th \\n 2860 Søborg \\n40 54 40...\\n',\n",
       " 'Allan Hartmann Andersen\\n Skovbrynet 30 \\n 8500 Grenaa \\n21 42 54...3\\n',\n",
       " 'Allan Hartmann Bech\\n Kuhlaus Vej 13 \\n 9900 Frederikshavn \\n41 29 43...\\n',\n",
       " 'Allan Hartmann Ditlevsen\\n Rydevænget 75, 3. tv \\n 8210 Aarhus V \\n60 93 93...\\n',\n",
       " 'Allan Hartmann Haandbæk\\n Lykkesminde 5 \\n 5330 Munkebo \\n51 30 15...\\n',\n",
       " 'Allan Hartmann Hansen\\n Eskærhøjvej 58 \\n 6100 Haderslev \\n29 82 32...\\n',\n",
       " 'Allan Hartmann Larsen\\n Perlestikkervej 4, tv \\n 2400 København NV \\n25 75 99...\\n',\n",
       " 'Alma Howland Hartmann\\n Højskolevej 12 \\n Snoghøj \\n27 58 07...\\n',\n",
       " 'Amalie Hartmann Levå Hansen\\n\\n40 41 61...Vis nummer\\n40 41 61...\\n']"
      ]
     },
     "execution_count": 5,
     "metadata": {},
     "output_type": "execute_result"
    }
   ],
   "source": [
    "import selenium_krak\n",
    "res = selenium_krak.get_info('Hartmann')\n",
    "res"
   ]
  },
  {
   "cell_type": "code",
   "execution_count": 4,
   "metadata": {},
   "outputs": [
    {
     "data": {
      "text/plain": [
       "'There were 25 Hartmanns on the first page'"
      ]
     },
     "execution_count": 4,
     "metadata": {},
     "output_type": "execute_result"
    }
   ],
   "source": [
    "'There were {} Hartmanns on the first page'.format(len(res)) "
   ]
  },
  {
   "cell_type": "markdown",
   "metadata": {
    "slideshow": {
     "slide_type": "slide"
    }
   },
   "source": [
    "## Controlling the Browser with the `selenium` Module\n",
    "\n",
    "The `selenium` module lets Python directly control the browser by programatically clicking links and filling in login information, almost as though there is a human user interacting with the page. Selenium allows you to interact with web pages in a much more advanced way than Requests and Beautiful Soup; but because it launches a web browser, it is a bit slower and hard to run in the background if, say, you just need to download some files from the Web.\n"
   ]
  },
  {
   "cell_type": "markdown",
   "metadata": {
    "slideshow": {
     "slide_type": "slide"
    }
   },
   "source": [
    "### Starting a Selenium-Controlled Browser\n",
    "\n",
    "```python\n",
    "from selenium import webdriver\n",
    "\n",
    "\n",
    "browser = webdriver.Firefox()\n",
    "browser.get('http://www.krak.dk')\n",
    "```"
   ]
  },
  {
   "cell_type": "markdown",
   "metadata": {
    "slideshow": {
     "slide_type": "slide"
    }
   },
   "source": [
    "### Finding Elements on the Page\n",
    "\n",
    "WebDriver objects have quite a few methods for finding elements on a page. They are divided into the `find_element_*` and `find_elements_*` methods. The `find_element_*` methods return a single `WebElement` object, representing the first element on the page that matches your query. The `find_elements_*` methods return a list of `WebElement_*` objects for every matching element on the page. For example, in the following are some common methods given, which find multiple elements on the page:\n",
    "\n",
    "\n",
    "  * `browser.find_elements_by_class_name(name)` ... finds elements that use the CSS class\n",
    "name\n",
    "  * `browser.find_elements_by_css_selector(selector)` ... finds elements that match the CSS\n",
    "selector\n",
    "  * `browser.find_elements_by_id(id)` ... finds elements with a matching id attribute value\n",
    "  * `browser.find_elements_by_link_text(text)` ... finds `<a>` elements that completely\n",
    "match the text provided\n",
    "  * `browser.find_elements_by_partial_link_text(text)` ... finds `<a>` elements that contain the text\n",
    "provided\n",
    "  * `browser.find_elements_by_name(name)` ... finds elements with a matching name attribute value\n",
    "  * `browser.find_elements_by_tag_name(tagname)` ... finds elements with a matching tag name (case insensitive; an `<a>` element is matched by 'a' and 'A')\n",
    "  \n",
    "For more information on finding elements on a page, see http://selenium-python.readthedocs.io/locating-elements.html#\n",
    "  \n"
   ]
  },
  {
   "cell_type": "markdown",
   "metadata": {
    "slideshow": {
     "slide_type": "slide"
    }
   },
   "source": [
    "### Clicking the Page\n",
    "\n",
    "`WebElement` objects returned from the `find_element_*` and `find_elements_*` methods have a `click()` method that simulates a mouse click on that element. This method can be used to follow a link, make a selection on a radio button, click a Submit button, or trigger whatever else might happen when the element is clicked by the mouse.\n",
    "\n",
    "```python\n",
    "    base_url = 'http://www.krak.dk'\n",
    "    browser = webdriver.Firefox() \n",
    "    browser.get(base_url)\n",
    "    browser.implicitly_wait(3)\n",
    "\n",
    "    link_to_persons = browser.find_elements_by_link_text('Personer')\n",
    "    link_to_persons[0].click()\n",
    "```\n"
   ]
  },
  {
   "cell_type": "markdown",
   "metadata": {
    "slideshow": {
     "slide_type": "slide"
    }
   },
   "source": [
    "### Filling Out and Submitting Forms\n",
    "Sending keystrokes to text fields on a web page is a matter of finding the `<input>` or `<textarea>` element for that text field and then calling the `send_keys()` method. \n",
    "\n",
    "\n",
    "```python\n",
    "    base_url = 'http://www.krak.dk'\n",
    "    browser = webdriver.Firefox() # or use driver = webdriver.PhantomJS() which will do the same without the overhead of a GUI. http://phantomjs.org/download.html\n",
    "    browser.implicitly_wait(3)\n",
    "\n",
    "    search_field = browser.find_element_by_name('searchQuery')\n",
    "    search_field.send_keys('Møller')\n",
    "    search_field.submit()\n",
    "```"
   ]
  },
  {
   "cell_type": "markdown",
   "metadata": {
    "slideshow": {
     "slide_type": "slide"
    }
   },
   "source": [
    "## Class exercise\n",
    "Find a web site to interact with and fill out a form to get some information back.  \n",
    "Examples could be https://www.jobindex.dk/,    \n",
    "https://google.com or   \n",
    "https://www.ikea.com/dk/da/"
   ]
  }
 ],
 "metadata": {
  "celltoolbar": "Slideshow",
  "kernelspec": {
   "display_name": "Python 3",
   "language": "python",
   "name": "python3"
  },
  "language_info": {
   "codemirror_mode": {
    "name": "ipython",
    "version": 3
   },
   "file_extension": ".py",
   "mimetype": "text/x-python",
   "name": "python",
   "nbconvert_exporter": "python",
   "pygments_lexer": "ipython3",
   "version": "3.7.4"
  },
  "varInspector": {
   "cols": {
    "lenName": 16,
    "lenType": 16,
    "lenVar": 40
   },
   "kernels_config": {
    "python": {
     "delete_cmd_postfix": "",
     "delete_cmd_prefix": "del ",
     "library": "var_list.py",
     "varRefreshCmd": "print(var_dic_list())"
    },
    "r": {
     "delete_cmd_postfix": ") ",
     "delete_cmd_prefix": "rm(",
     "library": "var_list.r",
     "varRefreshCmd": "cat(var_dic_list()) "
    }
   },
   "types_to_exclude": [
    "module",
    "function",
    "builtin_function_or_method",
    "instance",
    "_Feature"
   ],
   "window_display": false
  }
 },
 "nbformat": 4,
 "nbformat_minor": 2
}
