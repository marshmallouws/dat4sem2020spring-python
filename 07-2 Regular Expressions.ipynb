{
 "cells": [
  {
   "cell_type": "markdown",
   "metadata": {
    "slideshow": {
     "slide_type": "slide"
    }
   },
   "source": [
    "# Regular Expressions\n",
    "\n",
    "Reg_exp tester: https://regex101.com/\n",
    "\n",
    "This tutorial is based on chapter 7 \"Pattern Matching With Regular Expressions\" of the book *Automate The Boring Stuff The Boring Stuff With Python* by Al Sweigart.\n",
    "\n",
    "\n",
    "\n",
    "***Regular expressions*** allow you to specify a **pattern of text** to search for.\n",
    "\n",
    "Regular expressions are huge time-savers, not just for software users but also for programmers. In fact, tech writer Cory Doctorow argues that even before teaching programming, we should be teaching regular expressions:\n",
    "\n",
    "> Knowing [regular expressions] can mean the difference between solving a problem in 3 steps and solving it in 3,000 steps. When you’re a nerd, you forget that the problems you solve with a couple keystrokes can take other people days of tedious, error-prone work to slog through.\n",
    "https://www.theguardian.com/technology/2012/dec/04/ict-teach-kids-regular-expressions\n"
   ]
  },
  {
   "cell_type": "markdown",
   "metadata": {
    "slideshow": {
     "slide_type": "slide"
    }
   },
   "source": [
    "\n",
    "\n",
    "## Finding Patterns of Text with Regular Expressions\n",
    "\n",
    "Regular expressions, called regexes for short, are descriptions for a pattern of text. For example, a `\\d` in a regex stands for a digit character, that is, any single numeral `0` to `9`. The regex `\\d\\d \\d\\d \\d\\d \\d\\d` could be used  by Python to match a Danish phone number, a string of eight numbers separated by whitespaces.\n",
    "\n",
    "But regular expressions can be much more sophisticated. For example, adding a `2` in curly brackets (`{2}`) after a pattern is like saying, \"Match this pattern two times.\" So the regex `\\d{2} \\d{2} \\d{2} \\d{2}` also matches the correct phone number format. It could be shortened even more to `(\\d{2} ){3}\\d{2}`.\n",
    "\n"
   ]
  },
  {
   "cell_type": "markdown",
   "metadata": {
    "slideshow": {
     "slide_type": "slide"
    }
   },
   "source": [
    "### Creating Regex Objects with raw string\n",
    "\n",
    "All the regex functions in Python are in the `re` module.\n",
    "\n",
    "Passing a string value representing your regular expression to `re.compile()` returns a Regex pattern object (or simply, a Regex object). Note, since regular expressions frequently use backslashes in them, it is convenient to pass raw strings to the `re.compile()` function instead of typing extra backslashes. Typing `r'\\d{2} \\d{2} \\d{2} \\d{2}'` is much easier than typing `'\\\\d{2} \\\\d{2} \\\\d{2} \\\\d{2}'`."
   ]
  },
  {
   "cell_type": "code",
   "execution_count": 2,
   "metadata": {
    "slideshow": {
     "slide_type": "slide"
    }
   },
   "outputs": [],
   "source": [
    "import re\n",
    "\n",
    "phone_num_reg_ex_pattern_obj = re.compile(r'\\d{2} \\d{2} \\d{2} \\d{2}')"
   ]
  },
  {
   "cell_type": "markdown",
   "metadata": {
    "slideshow": {
     "slide_type": "slide"
    }
   },
   "source": [
    "### Matching Regex Objects\n",
    "\n",
    "A Regex Pattern object’s `search()` method searches the string it is passed for any matches to the regex. \n",
    "`re.compile(r'pattern').search(string_to_search_through)`\n",
    "\n",
    "The `search()` method will return **`None`** if the regex pattern is not found in the string.   \n",
    "The `search()` method returns a `Match` object if the pattern is found.   \n",
    "\n",
    "`Match` objects have a `group()` method that will return the actual matched text from the searched string."
   ]
  },
  {
   "cell_type": "code",
   "execution_count": 5,
   "metadata": {
    "slideshow": {
     "slide_type": "slide"
    }
   },
   "outputs": [
    {
     "name": "stdout",
     "output_type": "stream",
     "text": [
      "<class 're.Pattern'>\n",
      "<re.Match object; span=(48, 59), match='61 69 03 76'>\n",
      "61 69 03 76\n"
     ]
    }
   ],
   "source": [
    "import re\n",
    "\n",
    "\n",
    "phone_num_reg = re.compile(r'\\d{2} \\d{2} \\d{2} \\d{2}')\n",
    "print(type(phone_num_reg))\n",
    "address_entry = \"\"\"\n",
    "A Helge Gamborg Møller\n",
    "Klostergade 28\n",
    "6760 Ribe\n",
    "61 69 03 76\"\"\"\n",
    "\n",
    "match_obj = phone_num_reg.search(address_entry)\n",
    "print(match_obj)\n",
    "print(match_obj.group())\n",
    "\n"
   ]
  },
  {
   "cell_type": "markdown",
   "metadata": {
    "slideshow": {
     "slide_type": "slide"
    }
   },
   "source": [
    "### Grouping with Parentheses\n",
    "\n",
    "\n",
    "- Adding parentheses will create groups in the regex:   \n",
    "  - `r'(\\d{4})\\n(Nykøbing F)'`. \n",
    "\n",
    "- Then you can use the `group()` match object method to grab the matching text from just one group.   \n",
    "- The first set of **parentheses** in a regex string will be group 1. \n",
    "- The second set will be group 2. By passing the integer 1 or 2 to the `group()` match object method, you can grab different parts of the matched text. \n",
    "\n",
    "Passing 0 or nothing to the `group()` method will **return the entire matched text.**\n"
   ]
  },
  {
   "cell_type": "code",
   "execution_count": 10,
   "metadata": {
    "slideshow": {
     "slide_type": "slide"
    }
   },
   "outputs": [
    {
     "name": "stdout",
     "output_type": "stream",
     "text": [
      "Group 0:  6760 Ribe\n",
      "Group 1:  6760\n",
      "Group 2:  Ribe\n"
     ]
    },
    {
     "data": {
      "text/plain": [
       "('6760', 'Ribe')"
      ]
     },
     "execution_count": 10,
     "metadata": {},
     "output_type": "execute_result"
    }
   ],
   "source": [
    "city_reg = re.compile(r'(\\d{4}) (\\w+)')\n",
    "\n",
    "address_entry = \"\"\"A Henning Gamborg Møller\n",
    "Klostergade 28\n",
    "6760 Ribe\n",
    "61 69 03 76\"\"\"\n",
    "\n",
    "mo = city_reg.search(address_entry)\n",
    "print('Group 0: ', mo.group(0))\n",
    "print('Group 1: ', mo.group(1))\n",
    "print('Group 2: ', mo.group(2))\n",
    "mo.groups()"
   ]
  },
  {
   "cell_type": "code",
   "execution_count": 3,
   "metadata": {},
   "outputs": [
    {
     "name": "stdout",
     "output_type": "stream",
     "text": [
      "Hans\n"
     ]
    }
   ],
   "source": [
    "import re \n",
    "p = re.compile(r'Hans')\n",
    "txt = 'Der bor en mand der hedder Hans i det blå hus'\n",
    "m = p.search(txt)\n",
    "print(m.group(0)) "
   ]
  },
  {
   "cell_type": "code",
   "execution_count": 11,
   "metadata": {},
   "outputs": [
    {
     "data": {
      "text/plain": "['Peter Hansen', 'Peter Beier', 'Peter Jensen', 'Peter Kold', 'Peter Harold']"
     },
     "execution_count": 11,
     "metadata": {},
     "output_type": "execute_result"
    }
   ],
   "source": [
    "import re\n",
    "peter_reg = re.compile(r'Peter \\w+') # Hvis man sætter parantes omkring (Peter) og (\\w+), ville resultatet returneres som tre grupper: Hele navnet, fornavn, efternavn\n",
    "peter_str = 'Peter Hansen was meeting up with Jacob Fransen for a quick lunch, but first he had to go by Peter Beier to pick up some chokolate for his wife. Meanwhile Pastor Peter Jensen was going to church to give his sermon for the same 3 people in his parish. Those were Peter Kold and Henrik Halberg plus a third person who had recently moved here from Norway called Peter Harold'\n",
    "res = peter_reg.findall(peter_str)\n",
    "res"
   ]
  },
  {
   "cell_type": "markdown",
   "metadata": {
    "slideshow": {
     "slide_type": "slide"
    }
   },
   "source": [
    "### The `findall()` Method\n",
    "\n",
    "In addition to the `search()` method, Regex objects also have a `findall()` method. While `search()` will return a Match object of the first matched text in the searched string, the `findall()` method will **return the strings** of every match in the searched string. \n",
    "\n",
    "\n",
    "If there are groups in the regular expression, then **findall() will return a list of tuples**."
   ]
  },
  {
   "cell_type": "markdown",
   "metadata": {},
   "source": [
    "## Exercise with search\n",
    "In the following text find all the family names of everyone with first name Peter:\n",
    "\n",
    "\"Peter Hansen was meeting up with Jacob Fransen for a quick lunch, but first he had to go by Peter Beier to pick up some chokolate for his wife. Meanwhile Pastor Peter Jensen was going to church to give his sermon for the same 3 people in his parish. Those were Peter Kold and Henrik Halberg plus a third person who had recently moved here from Norway called Peter Harold\"."
   ]
  },
  {
   "cell_type": "markdown",
   "metadata": {},
   "source": [
    "### The finditer() method\n",
    "Will return an iterator that will provide all non overlapping match objects"
   ]
  },
  {
   "cell_type": "code",
   "execution_count": 4,
   "metadata": {
    "slideshow": {
     "slide_type": "slide"
    }
   },
   "outputs": [
    {
     "name": "stdout",
     "output_type": "stream",
     "text": [
      "All matches: ['61 69 03 76', '75 50 75 14', '86 45 44 36', '76 42 00 81', '86 13 22 99', '97 95 20 01']\n",
      "First match: 61 69 03 76\n"
     ]
    }
   ],
   "source": [
    "phone_num_reg = re.compile(r'\\d{2} \\d{2} \\d{2} \\d{2}')\n",
    "\n",
    "address_entry = \"\"\"\n",
    "\n",
    "A Henning Gamborg Møller\n",
    "Klostergade 28\n",
    "6760 Ribe\n",
    "61 69 03 76\n",
    "\n",
    "A K Møller\n",
    "Bregnerødvej 75, st. 0002\n",
    "3460 Birkerød\n",
    "75 50 75 14\n",
    "\n",
    "A Møller\n",
    "Violvej 3\n",
    "Ø. Bjerregrav\n",
    "8920 Randers NV\n",
    "86 45 44 36\n",
    "\n",
    "A Møller\n",
    "Hyrdevej 16A\n",
    "7000 Fredericia\n",
    "76 42 00 81\n",
    "\n",
    "A Møller\n",
    "Brammersgade 45\n",
    "8000 Aarhus C\n",
    "86 13 22 99\n",
    "\n",
    "A Møller\n",
    "Dalstræde 11\n",
    "Heltborg\n",
    "7760 Hurup Thy\n",
    "97 95 20 01\n",
    "\"\"\"\n",
    "\n",
    "numbers = phone_num_reg.findall(address_entry)\n",
    "print('All matches: {}'.format(numbers))\n",
    "\n",
    "mo = phone_num_reg.search(address_entry)\n",
    "print('First match: {}'.format(mo.group()))"
   ]
  },
  {
   "cell_type": "markdown",
   "metadata": {
    "slideshow": {
     "slide_type": "slide"
    }
   },
   "source": [
    "## Most common patterns\n",
    "\n",
    "|No|**Symbol**|**Effect**|\n",
    "|--|--|--|\n",
    "|1|.|dot matches any character except newline|\n",
    "|2|\\w|matches any word character i.e alphanumeric (letters, digits) and underscore ( _ )|\n",
    "|3|\\W|matches non word characters|\n",
    "|4|\\d|matches a single digit|\n",
    "|5|\\D|matches a single character that is not a digit|\n",
    "|6|\\s|matches any white-spaces character like \\t and \\n|\n",
    "|7|\\S|matches single non white space character|\n",
    "|8|[abc]|matches single character in the set i.e either match a, b or c|\n",
    "|9|[^abc]|match a single character other than a, b and c|\n",
    "|10|[a-z]|match a single character in the range a to z.|\n",
    "|11|[a-zA-Z]|match a single character in the range a-z or A-Z|\n",
    "|12|[0-9]|match a single character in the range 0-9|\n",
    "|13|^|match start at beginning of the string|\n",
    "|14|$|match start at end of the string|\n",
    "|15|+|matches one or more of the preceding character (greedy match).|\n",
    "|16|*|matches zero or more of the preceding character (greedy match).|\n",
    "|17|?|matches zero or one of the preceding character.|"
   ]
  },
  {
   "cell_type": "code",
   "execution_count": 4,
   "metadata": {
    "slideshow": {
     "slide_type": "slide"
    }
   },
   "outputs": [
    {
     "name": "stdout",
     "output_type": "stream",
     "text": [
      "1: 123 og bogstaver, %&/ samt specialtegn.\n",
      "2: ['her er både tal 123 og bogstaver, ', ' samt specialtegn.']\n",
      "3: her er både tal 123 og bogstaver\n",
      "3: samt specialtegn\n",
      "4: ['her', 'er', 'både', 'tal', '123', 'og', 'bogstaver', 'samt', 'specialtegn']\n",
      "5: ['her er både tal ', ' og bogstaver, %&/ samt specialtegn.']\n",
      "6: []\n",
      "7: ['tegn.']\n"
     ]
    }
   ],
   "source": [
    "import re\n",
    "txt_string = 'her er både tal 123 og bogstaver, %&/ samt specialtegn.'\n",
    "\n",
    "anything_after_numbers = re.compile(r'\\d{2}.+',re.VERBOSE) # 2digits and anything after\n",
    "alpha_nummeric1 = re.compile(r'[a-zA-ZæøåÆØÅ0-9,. ]+') #not strict (allows many consecutive spaces)\n",
    "alpha_nummeric2 = re.compile(r'\\w+( \\w+)*')\n",
    "alpha_nummeric3 = re.compile(r'\\w{1,}') # one or more alphanummeric but NOT space\n",
    "not_a_digit = re.compile(r'\\D+')\n",
    "match_start = re.compile(r'^her') \n",
    "match_end = re.compile(r'tegn.$')\n",
    "\n",
    "r1 = anything_after_numbers.search(txt_string); print('1:',r1.group())\n",
    "r2 = alpha_nummeric1.findall(txt_string);       print('2:',r2)# \n",
    "r3 = alpha_nummeric2.finditer(txt_string)\n",
    "for match in r3: print('3:',match.group()) #finditer returns an iterator\n",
    "r4 = alpha_nummeric3.findall(txt_string);       print('4:',r4)\n",
    "r5 = not_a_digit.findall(txt_string);           print('5:',r5)\n",
    "r6 = match_start.findall(txt_string);           print('6:',r6)\n",
    "r7 = match_end.findall(txt_string);             print('7:',r7)"
   ]
  },
  {
   "cell_type": "code",
   "execution_count": 5,
   "metadata": {
    "slideshow": {
     "slide_type": "slide"
    }
   },
   "outputs": [
    {
     "ename": "SyntaxError",
     "evalue": "EOL while scanning string literal (<ipython-input-5-66834027f5c8>, line 3)",
     "output_type": "error",
     "traceback": [
      "\u001b[0;36m  File \u001b[0;32m\"<ipython-input-5-66834027f5c8>\"\u001b[0;36m, line \u001b[0;32m3\u001b[0m\n\u001b[0;31m    regex = r\"\u001b[0m\n\u001b[0m              ^\u001b[0m\n\u001b[0;31mSyntaxError\u001b[0m\u001b[0;31m:\u001b[0m EOL while scanning string literal\n"
     ]
    }
   ],
   "source": [
    "import re\n",
    "\n",
    "regex = r\"\\w+( \\w+)*\"\n",
    "test_str = \"\"\"sdsdf 455 %% 2323 sdsd\n",
    "dsfsdf 3232 dfsd 23\"\"\"\n",
    "matches = re.finditer(regex, test_str, re.MULTILINE)\n",
    "\n",
    "for matchNum, match in enumerate(matches, start=1):    \n",
    "    print (\"Match {matchNum} was found at {start}-{end}: {match}\".format(matchNum = matchNum, start = match.start(), end = match.end(), match = match.group()))\n",
    "    \n",
    "    for groupNum in range(0, len(match.groups())):\n",
    "        groupNum = groupNum + 1\n",
    "        print (\"Group {groupNum} found at {start}-{end}: {group}\".format(groupNum = groupNum, start = match.start(groupNum), end = match.end(groupNum), group = match.group(groupNum)))\n",
    "    "
   ]
  },
  {
   "cell_type": "code",
   "execution_count": 26,
   "metadata": {},
   "outputs": [
    {
     "name": "stdout",
     "output_type": "stream",
     "text": "A Henning Gamborg Møller\nKlostergade 28\n6760 Ribe\n61 69 03 76\n\nA K Møller\nBregnerødvej 75, st. 0002\n3460 Birkerød\n75 50 75 14\n\nA Møller\nViolvej 3\nØ. Bjerregrav\n8920 Randers NV\n86 45 44 36\n\nA Møller\nHyrdevej 16A\n7000 Fredericia\n76 42 00 81\n\nA Møller\nBrammersgade 45\n8000 Aarhus C\n86 13 22 99\n\nA Møller\nDalstræde 11\nHeltborg\n7760 Hurup Thy\n97 95 20 01\n\nA Møller\nJørgensgaardvej 13\n6240 Løgumkloster\n74 74 36 62\n\nA Møller Andersen\nGammel Holtevej 60\nGl Holte\n2840 Holte\n45 80 47 14\n\nA Møller Jensen\nViborgvej 115, 1. TV\nHasle\n8210 Aarhus V\n60 94 39 04\n\nA Møller Sørensen\nKorsørgade 4, 6. tv\n2100 København Ø\n35 38 97 81\n\nA Porse Møller\nRøddikvej 60\n8464 Galten\n86 94 66 60\n\nAage Beck Møller\nRødding Nørregade 8\n6630 Rødding\n20 44 00 35\n\nAage Bojsen-Møller\nNoret 3\n4780 Stege\n55 81 46 76\n\nAage Christian Møller Andersen\nJordemodervej 7\nBislev\n9240 Nibe\n20 83 70 65\n\nAage Hansen Møller\nFilippavej 38\nHundstrup\n5762 Vester Skerninge\n62 24 10 81\n\nAage Jan Møller\nNæsborgvej 50, st. th\n2650 Hvidovre\n20 83 88 62\n\nAage Karl Møller\nDyrevænget 21\nTibirke Sand\n3300 Frederiksværk\n51 15 15 66\n\nAage Majbom Møller\nPilelunden 23\n5550 Langeskov\n28 59 06 93\n\nAage Martin Møller\nAlmind Østergade 15A, 1. tv\n6051 Almind\n21 48 73 79\n\nAage Møller\nØrritslev Gade 7\nØrritslev\n5450 Otterup\n64 82 11 54\n\nAage Møller\nKnudsvej 1\n8586 Ørum Djurs\n40 10 80 76\n\nAage Møller\nFruevej 4\n7900 Nykøbing M\n21 79 64 18\n\nAage Møller\nDybdevej 30\nBolbro\n5200 Odense V\n23 66 57 00\n\nAage Møller\nHammelmosevej 12\n9700 Brønderslev\n60 45 79 69\n\nAage Møller\nBirkevej 6\n8370 Hadsten\n29 68 03 25\n"
    }
   ],
   "source": [
    "import re\n",
    "with open('./addresses.txt', encoding='UTF-8') as f:\n",
    "    addresses = f.read()\n",
    "\n",
    "print(addresses)"
   ]
  },
  {
   "cell_type": "markdown",
   "metadata": {
    "slideshow": {
     "slide_type": "slide"
    }
   },
   "source": [
    "## Class exercise\n",
    "\n",
    "We will play with the addresses from addresses.txt and the following regex patterns\n",
    "\n",
    "Write a regular expression, that you can use to create 5 lists with:\n",
    "\n",
    "  * all names in the list above\n",
    "  * all telephone numbers \n",
    "  * all zip codes\n",
    "  * all city names with corresponding zip code\n",
    "  * all street names"
   ]
  },
  {
   "cell_type": "code",
   "execution_count": 33,
   "metadata": {},
   "outputs": [
    {
     "name": "stdout",
     "output_type": "stream",
     "text": "['A K Møller', 'A Møller', 'A Møller', 'A Møller', 'A Møller', 'A Møller', 'A Møller Andersen', 'A Møller Jensen', 'A Møller Sørensen', 'A Porse Møller', 'Aage Beck Møller', 'Aage Bojsen-Møller', 'Aage Christian Møller Andersen', 'Aage Hansen Møller', 'Aage Jan Møller', 'Aage Karl Møller', 'Aage Majbom Møller', 'Aage Martin Møller', 'Aage Møller', 'Aage Møller', 'Aage Møller', 'Aage Møller', 'Aage Møller', 'Aage Møller']\n"
    },
    {
     "data": {
      "text/plain": "['61 69 03 76',\n '75 50 75 14',\n '86 45 44 36',\n '76 42 00 81',\n '86 13 22 99',\n '97 95 20 01',\n '74 74 36 62',\n '45 80 47 14',\n '60 94 39 04',\n '35 38 97 81',\n '86 94 66 60',\n '20 44 00 35',\n '55 81 46 76',\n '20 83 70 65',\n '62 24 10 81',\n '20 83 88 62',\n '51 15 15 66',\n '28 59 06 93',\n '21 48 73 79',\n '64 82 11 54',\n '40 10 80 76',\n '21 79 64 18',\n '23 66 57 00',\n '60 45 79 69',\n '29 68 03 25']"
     },
     "execution_count": 33,
     "metadata": {},
     "output_type": "execute_result"
    }
   ],
   "source": [
    "find_names = re.compile(r'\\n\\n(.+)')\n",
    "match_names = find_names.findall(addresses)\n",
    "print(match_names)\n",
    "\n",
    "find_tel = re.compile(r'\\d{2} \\d{2} \\d{2} \\d{2}')\n",
    "match_tel = find_tel.findall(addresses)\n",
    "match_tel"
   ]
  },
  {
   "cell_type": "code",
   "execution_count": null,
   "metadata": {},
   "outputs": [],
   "source": []
  }
 ],
 "metadata": {
  "celltoolbar": "Slideshow",
  "kernelspec": {
   "display_name": "Python 3",
   "language": "python",
   "name": "python3"
  },
  "language_info": {
   "codemirror_mode": {
    "name": "ipython",
    "version": 3
   },
   "file_extension": ".py",
   "mimetype": "text/x-python",
   "name": "python",
   "nbconvert_exporter": "python",
   "pygments_lexer": "ipython3",
   "version": "3.7.4-final"
  },
  "varInspector": {
   "cols": {
    "lenName": 16,
    "lenType": 16,
    "lenVar": 40
   },
   "kernels_config": {
    "python": {
     "delete_cmd_postfix": "",
     "delete_cmd_prefix": "del ",
     "library": "var_list.py",
     "varRefreshCmd": "print(var_dic_list())"
    },
    "r": {
     "delete_cmd_postfix": ") ",
     "delete_cmd_prefix": "rm(",
     "library": "var_list.r",
     "varRefreshCmd": "cat(var_dic_list()) "
    }
   },
   "types_to_exclude": [
    "module",
    "function",
    "builtin_function_or_method",
    "instance",
    "_Feature"
   ],
   "window_display": false
  }
 },
 "nbformat": 4,
 "nbformat_minor": 2
}