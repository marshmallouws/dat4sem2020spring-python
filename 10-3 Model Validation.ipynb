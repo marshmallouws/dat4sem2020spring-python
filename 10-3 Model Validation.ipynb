{
 "cells": [
  {
   "cell_type": "markdown",
   "metadata": {
    "slideshow": {
     "slide_type": "subslide"
    }
   },
   "source": [
    "## Your model versus the population\n",
    "\n",
    "A sample is a **subset** of a population.\n",
    "\n",
    "You will likely **never** have data that covers the entire population."
   ]
  },
  {
   "cell_type": "markdown",
   "metadata": {
    "slideshow": {
     "slide_type": "fragment"
    }
   },
   "source": [
    "That means that you will likely **never** be able to represent the entire population!\n",
    "\n",
    "Your model will lie!"
   ]
  },
  {
   "cell_type": "markdown",
   "metadata": {
    "slideshow": {
     "slide_type": "subslide"
    }
   },
   "source": [
    "## Populations\n",
    "\n",
    "![](images/pop1.png)"
   ]
  },
  {
   "cell_type": "markdown",
   "metadata": {
    "slideshow": {
     "slide_type": "subslide"
    }
   },
   "source": [
    "## The problem of overfitting\n",
    "Occam's razor implies that any given complex function is a priori less probable than any given simple function. If the new, more complicated function is selected instead of the simple function, and if there was not a large enough gain in training-data fit to offset the complexity increase, then the new complex function \"overfits\" the data, and the complex overfitted function will likely perform worse than the simpler function on validation data outside the training dataset, even though the complex function performed as well, or perhaps even better, on the training dataset\n",
    "\n",
    "![](images/overfitting.png)"
   ]
  },
  {
   "cell_type": "markdown",
   "metadata": {
    "slideshow": {
     "slide_type": "subslide"
    }
   },
   "source": [
    "## Carowners and voters\n",
    "\n",
    "In 1963 *millions* of mock ballots was mailed to carowners across the USA, to learn who would win the presidential election.\n",
    "\n",
    "The Republicans was a *clear* winner in the mock ballots, but the Democrats won the election.\n",
    "\n",
    "What went wrong?"
   ]
  },
  {
   "cell_type": "markdown",
   "metadata": {
    "slideshow": {
     "slide_type": "subslide"
    }
   },
   "source": [
    "## The problem of generalisation\n",
    "\n",
    "If X % of sample has Y it does **not** mean that X % of population has Y!\n",
    "\n",
    "**Always** ask yourself: is your data representative?"
   ]
  },
  {
   "cell_type": "markdown",
   "metadata": {
    "slideshow": {
     "slide_type": "subslide"
    }
   },
   "source": [
    "## Training and testing data\n",
    "\n",
    "We now have a split between \n",
    "* **Training data**: the data that the model sees\n",
    "* **Testing data**: the data that the model is tested against"
   ]
  },
  {
   "cell_type": "markdown",
   "metadata": {
    "slideshow": {
     "slide_type": "fragment"
    }
   },
   "source": [
    "Note: the model should **never** train on the testing data"
   ]
  },
  {
   "cell_type": "markdown",
   "metadata": {
    "slideshow": {
     "slide_type": "subslide"
    }
   },
   "source": [
    "## Sklearn `train_test_split`\n",
    "\n",
    "Splitting the data into testing and training makes it more likely that your model generalises.\n",
    "\n",
    "But it **does not guarantee it**!"
   ]
  },
  {
   "cell_type": "code",
   "execution_count": 1,
   "metadata": {
    "slideshow": {
     "slide_type": "subslide"
    }
   },
   "outputs": [
    {
     "name": "stdout",
     "output_type": "stream",
     "text": [
      "Populating the interactive namespace from numpy and matplotlib\n"
     ]
    }
   ],
   "source": [
    "%pylab inline"
   ]
  },
  {
   "cell_type": "code",
   "execution_count": 3,
   "metadata": {
    "slideshow": {
     "slide_type": "subslide"
    }
   },
   "outputs": [],
   "source": [
    "from sklearn.datasets import load_iris"
   ]
  },
  {
   "cell_type": "code",
   "execution_count": 4,
   "metadata": {
    "slideshow": {
     "slide_type": "fragment"
    }
   },
   "outputs": [
    {
     "data": {
      "text/plain": [
       "array([[5.1, 3.5, 1.4, 0.2],\n",
       "       [4.9, 3. , 1.4, 0.2],\n",
       "       [4.7, 3.2, 1.3, 0.2],\n",
       "       [4.6, 3.1, 1.5, 0.2],\n",
       "       [5. , 3.6, 1.4, 0.2],\n",
       "       [5.4, 3.9, 1.7, 0.4],\n",
       "       [4.6, 3.4, 1.4, 0.3],\n",
       "       [5. , 3.4, 1.5, 0.2],\n",
       "       [4.4, 2.9, 1.4, 0.2],\n",
       "       [4.9, 3.1, 1.5, 0.1],\n",
       "       [5.4, 3.7, 1.5, 0.2],\n",
       "       [4.8, 3.4, 1.6, 0.2],\n",
       "       [4.8, 3. , 1.4, 0.1],\n",
       "       [4.3, 3. , 1.1, 0.1],\n",
       "       [5.8, 4. , 1.2, 0.2],\n",
       "       [5.7, 4.4, 1.5, 0.4],\n",
       "       [5.4, 3.9, 1.3, 0.4],\n",
       "       [5.1, 3.5, 1.4, 0.3],\n",
       "       [5.7, 3.8, 1.7, 0.3],\n",
       "       [5.1, 3.8, 1.5, 0.3],\n",
       "       [5.4, 3.4, 1.7, 0.2],\n",
       "       [5.1, 3.7, 1.5, 0.4],\n",
       "       [4.6, 3.6, 1. , 0.2],\n",
       "       [5.1, 3.3, 1.7, 0.5],\n",
       "       [4.8, 3.4, 1.9, 0.2],\n",
       "       [5. , 3. , 1.6, 0.2],\n",
       "       [5. , 3.4, 1.6, 0.4],\n",
       "       [5.2, 3.5, 1.5, 0.2],\n",
       "       [5.2, 3.4, 1.4, 0.2],\n",
       "       [4.7, 3.2, 1.6, 0.2],\n",
       "       [4.8, 3.1, 1.6, 0.2],\n",
       "       [5.4, 3.4, 1.5, 0.4],\n",
       "       [5.2, 4.1, 1.5, 0.1],\n",
       "       [5.5, 4.2, 1.4, 0.2],\n",
       "       [4.9, 3.1, 1.5, 0.2],\n",
       "       [5. , 3.2, 1.2, 0.2],\n",
       "       [5.5, 3.5, 1.3, 0.2],\n",
       "       [4.9, 3.6, 1.4, 0.1],\n",
       "       [4.4, 3. , 1.3, 0.2],\n",
       "       [5.1, 3.4, 1.5, 0.2],\n",
       "       [5. , 3.5, 1.3, 0.3],\n",
       "       [4.5, 2.3, 1.3, 0.3],\n",
       "       [4.4, 3.2, 1.3, 0.2],\n",
       "       [5. , 3.5, 1.6, 0.6],\n",
       "       [5.1, 3.8, 1.9, 0.4],\n",
       "       [4.8, 3. , 1.4, 0.3],\n",
       "       [5.1, 3.8, 1.6, 0.2],\n",
       "       [4.6, 3.2, 1.4, 0.2],\n",
       "       [5.3, 3.7, 1.5, 0.2],\n",
       "       [5. , 3.3, 1.4, 0.2],\n",
       "       [7. , 3.2, 4.7, 1.4],\n",
       "       [6.4, 3.2, 4.5, 1.5],\n",
       "       [6.9, 3.1, 4.9, 1.5],\n",
       "       [5.5, 2.3, 4. , 1.3],\n",
       "       [6.5, 2.8, 4.6, 1.5],\n",
       "       [5.7, 2.8, 4.5, 1.3],\n",
       "       [6.3, 3.3, 4.7, 1.6],\n",
       "       [4.9, 2.4, 3.3, 1. ],\n",
       "       [6.6, 2.9, 4.6, 1.3],\n",
       "       [5.2, 2.7, 3.9, 1.4],\n",
       "       [5. , 2. , 3.5, 1. ],\n",
       "       [5.9, 3. , 4.2, 1.5],\n",
       "       [6. , 2.2, 4. , 1. ],\n",
       "       [6.1, 2.9, 4.7, 1.4],\n",
       "       [5.6, 2.9, 3.6, 1.3],\n",
       "       [6.7, 3.1, 4.4, 1.4],\n",
       "       [5.6, 3. , 4.5, 1.5],\n",
       "       [5.8, 2.7, 4.1, 1. ],\n",
       "       [6.2, 2.2, 4.5, 1.5],\n",
       "       [5.6, 2.5, 3.9, 1.1],\n",
       "       [5.9, 3.2, 4.8, 1.8],\n",
       "       [6.1, 2.8, 4. , 1.3],\n",
       "       [6.3, 2.5, 4.9, 1.5],\n",
       "       [6.1, 2.8, 4.7, 1.2],\n",
       "       [6.4, 2.9, 4.3, 1.3],\n",
       "       [6.6, 3. , 4.4, 1.4],\n",
       "       [6.8, 2.8, 4.8, 1.4],\n",
       "       [6.7, 3. , 5. , 1.7],\n",
       "       [6. , 2.9, 4.5, 1.5],\n",
       "       [5.7, 2.6, 3.5, 1. ],\n",
       "       [5.5, 2.4, 3.8, 1.1],\n",
       "       [5.5, 2.4, 3.7, 1. ],\n",
       "       [5.8, 2.7, 3.9, 1.2],\n",
       "       [6. , 2.7, 5.1, 1.6],\n",
       "       [5.4, 3. , 4.5, 1.5],\n",
       "       [6. , 3.4, 4.5, 1.6],\n",
       "       [6.7, 3.1, 4.7, 1.5],\n",
       "       [6.3, 2.3, 4.4, 1.3],\n",
       "       [5.6, 3. , 4.1, 1.3],\n",
       "       [5.5, 2.5, 4. , 1.3],\n",
       "       [5.5, 2.6, 4.4, 1.2],\n",
       "       [6.1, 3. , 4.6, 1.4],\n",
       "       [5.8, 2.6, 4. , 1.2],\n",
       "       [5. , 2.3, 3.3, 1. ],\n",
       "       [5.6, 2.7, 4.2, 1.3],\n",
       "       [5.7, 3. , 4.2, 1.2],\n",
       "       [5.7, 2.9, 4.2, 1.3],\n",
       "       [6.2, 2.9, 4.3, 1.3],\n",
       "       [5.1, 2.5, 3. , 1.1],\n",
       "       [5.7, 2.8, 4.1, 1.3],\n",
       "       [6.3, 3.3, 6. , 2.5],\n",
       "       [5.8, 2.7, 5.1, 1.9],\n",
       "       [7.1, 3. , 5.9, 2.1],\n",
       "       [6.3, 2.9, 5.6, 1.8],\n",
       "       [6.5, 3. , 5.8, 2.2],\n",
       "       [7.6, 3. , 6.6, 2.1],\n",
       "       [4.9, 2.5, 4.5, 1.7],\n",
       "       [7.3, 2.9, 6.3, 1.8],\n",
       "       [6.7, 2.5, 5.8, 1.8],\n",
       "       [7.2, 3.6, 6.1, 2.5],\n",
       "       [6.5, 3.2, 5.1, 2. ],\n",
       "       [6.4, 2.7, 5.3, 1.9],\n",
       "       [6.8, 3. , 5.5, 2.1],\n",
       "       [5.7, 2.5, 5. , 2. ],\n",
       "       [5.8, 2.8, 5.1, 2.4],\n",
       "       [6.4, 3.2, 5.3, 2.3],\n",
       "       [6.5, 3. , 5.5, 1.8],\n",
       "       [7.7, 3.8, 6.7, 2.2],\n",
       "       [7.7, 2.6, 6.9, 2.3],\n",
       "       [6. , 2.2, 5. , 1.5],\n",
       "       [6.9, 3.2, 5.7, 2.3],\n",
       "       [5.6, 2.8, 4.9, 2. ],\n",
       "       [7.7, 2.8, 6.7, 2. ],\n",
       "       [6.3, 2.7, 4.9, 1.8],\n",
       "       [6.7, 3.3, 5.7, 2.1],\n",
       "       [7.2, 3.2, 6. , 1.8],\n",
       "       [6.2, 2.8, 4.8, 1.8],\n",
       "       [6.1, 3. , 4.9, 1.8],\n",
       "       [6.4, 2.8, 5.6, 2.1],\n",
       "       [7.2, 3. , 5.8, 1.6],\n",
       "       [7.4, 2.8, 6.1, 1.9],\n",
       "       [7.9, 3.8, 6.4, 2. ],\n",
       "       [6.4, 2.8, 5.6, 2.2],\n",
       "       [6.3, 2.8, 5.1, 1.5],\n",
       "       [6.1, 2.6, 5.6, 1.4],\n",
       "       [7.7, 3. , 6.1, 2.3],\n",
       "       [6.3, 3.4, 5.6, 2.4],\n",
       "       [6.4, 3.1, 5.5, 1.8],\n",
       "       [6. , 3. , 4.8, 1.8],\n",
       "       [6.9, 3.1, 5.4, 2.1],\n",
       "       [6.7, 3.1, 5.6, 2.4],\n",
       "       [6.9, 3.1, 5.1, 2.3],\n",
       "       [5.8, 2.7, 5.1, 1.9],\n",
       "       [6.8, 3.2, 5.9, 2.3],\n",
       "       [6.7, 3.3, 5.7, 2.5],\n",
       "       [6.7, 3. , 5.2, 2.3],\n",
       "       [6.3, 2.5, 5. , 1.9],\n",
       "       [6.5, 3. , 5.2, 2. ],\n",
       "       [6.2, 3.4, 5.4, 2.3],\n",
       "       [5.9, 3. , 5.1, 1.8]])"
      ]
     },
     "execution_count": 4,
     "metadata": {},
     "output_type": "execute_result"
    }
   ],
   "source": [
    "X = load_iris().data\n",
    "X"
   ]
  },
  {
   "cell_type": "code",
   "execution_count": 5,
   "metadata": {
    "slideshow": {
     "slide_type": "fragment"
    }
   },
   "outputs": [
    {
     "data": {
      "text/plain": [
       "array([0, 0, 0, 0, 0, 0, 0, 0, 0, 0, 0, 0, 0, 0, 0, 0, 0, 0, 0, 0, 0, 0,\n",
       "       0, 0, 0, 0, 0, 0, 0, 0, 0, 0, 0, 0, 0, 0, 0, 0, 0, 0, 0, 0, 0, 0,\n",
       "       0, 0, 0, 0, 0, 0, 1, 1, 1, 1, 1, 1, 1, 1, 1, 1, 1, 1, 1, 1, 1, 1,\n",
       "       1, 1, 1, 1, 1, 1, 1, 1, 1, 1, 1, 1, 1, 1, 1, 1, 1, 1, 1, 1, 1, 1,\n",
       "       1, 1, 1, 1, 1, 1, 1, 1, 1, 1, 1, 1, 2, 2, 2, 2, 2, 2, 2, 2, 2, 2,\n",
       "       2, 2, 2, 2, 2, 2, 2, 2, 2, 2, 2, 2, 2, 2, 2, 2, 2, 2, 2, 2, 2, 2,\n",
       "       2, 2, 2, 2, 2, 2, 2, 2, 2, 2, 2, 2, 2, 2, 2, 2, 2, 2])"
      ]
     },
     "execution_count": 5,
     "metadata": {},
     "output_type": "execute_result"
    }
   ],
   "source": [
    "y = load_iris().target\n",
    "y"
   ]
  },
  {
   "cell_type": "code",
   "execution_count": 6,
   "metadata": {},
   "outputs": [
    {
     "data": {
      "text/plain": [
       "array(['setosa', 'versicolor', 'virginica'], dtype='<U10')"
      ]
     },
     "execution_count": 6,
     "metadata": {},
     "output_type": "execute_result"
    }
   ],
   "source": [
    "load_iris().target_names"
   ]
  },
  {
   "cell_type": "code",
   "execution_count": 8,
   "metadata": {
    "slideshow": {
     "slide_type": "subslide"
    }
   },
   "outputs": [
    {
     "data": {
      "text/plain": [
       "[array([[6.3, 2.7, 4.9, 1.8],\n",
       "        [6.5, 3. , 5.2, 2. ],\n",
       "        [7.9, 3.8, 6.4, 2. ],\n",
       "        [6.7, 3. , 5. , 1.7],\n",
       "        [7.2, 3.6, 6.1, 2.5],\n",
       "        [7.2, 3. , 5.8, 1.6],\n",
       "        [4.4, 3.2, 1.3, 0.2],\n",
       "        [4.6, 3.2, 1.4, 0.2],\n",
       "        [5.5, 2.4, 3.7, 1. ],\n",
       "        [6.2, 2.2, 4.5, 1.5],\n",
       "        [4.8, 3.4, 1.9, 0.2],\n",
       "        [4.9, 2.4, 3.3, 1. ],\n",
       "        [6.6, 2.9, 4.6, 1.3],\n",
       "        [6.4, 2.8, 5.6, 2.2],\n",
       "        [7.7, 2.6, 6.9, 2.3],\n",
       "        [6. , 3.4, 4.5, 1.6],\n",
       "        [5.1, 3.5, 1.4, 0.3],\n",
       "        [6.2, 2.8, 4.8, 1.8],\n",
       "        [6.9, 3.1, 4.9, 1.5],\n",
       "        [5.4, 3.7, 1.5, 0.2],\n",
       "        [4.7, 3.2, 1.6, 0.2],\n",
       "        [5.1, 3.3, 1.7, 0.5],\n",
       "        [5.4, 3.4, 1.7, 0.2],\n",
       "        [5. , 2. , 3.5, 1. ],\n",
       "        [6.1, 2.8, 4. , 1.3],\n",
       "        [5.3, 3.7, 1.5, 0.2],\n",
       "        [4.8, 3.4, 1.6, 0.2],\n",
       "        [5. , 3.4, 1.6, 0.4],\n",
       "        [5.9, 3. , 5.1, 1.8],\n",
       "        [4.4, 2.9, 1.4, 0.2],\n",
       "        [5.8, 2.7, 3.9, 1.2],\n",
       "        [6.8, 2.8, 4.8, 1.4],\n",
       "        [6.3, 2.5, 5. , 1.9],\n",
       "        [5. , 2.3, 3.3, 1. ],\n",
       "        [7.2, 3.2, 6. , 1.8],\n",
       "        [7.7, 3. , 6.1, 2.3],\n",
       "        [6.3, 3.3, 6. , 2.5],\n",
       "        [4.8, 3. , 1.4, 0.1],\n",
       "        [5. , 3.5, 1.3, 0.3],\n",
       "        [5.4, 3.9, 1.7, 0.4],\n",
       "        [5.6, 3. , 4.1, 1.3],\n",
       "        [7.7, 3.8, 6.7, 2.2],\n",
       "        [6.3, 2.8, 5.1, 1.5],\n",
       "        [7. , 3.2, 4.7, 1.4],\n",
       "        [5.2, 3.5, 1.5, 0.2],\n",
       "        [6.5, 2.8, 4.6, 1.5],\n",
       "        [5.6, 3. , 4.5, 1.5],\n",
       "        [6.4, 2.9, 4.3, 1.3],\n",
       "        [4.6, 3.4, 1.4, 0.3],\n",
       "        [5.1, 3.8, 1.5, 0.3],\n",
       "        [4.9, 2.5, 4.5, 1.7],\n",
       "        [7.1, 3. , 5.9, 2.1],\n",
       "        [5. , 3.4, 1.5, 0.2],\n",
       "        [4.6, 3.6, 1. , 0.2],\n",
       "        [6.3, 2.3, 4.4, 1.3],\n",
       "        [4.8, 3.1, 1.6, 0.2],\n",
       "        [6. , 3. , 4.8, 1.8],\n",
       "        [4.9, 3.6, 1.4, 0.1],\n",
       "        [7.4, 2.8, 6.1, 1.9],\n",
       "        [5. , 3.2, 1.2, 0.2],\n",
       "        [7.7, 2.8, 6.7, 2. ],\n",
       "        [4.8, 3. , 1.4, 0.3],\n",
       "        [4.7, 3.2, 1.3, 0.2],\n",
       "        [6.2, 3.4, 5.4, 2.3],\n",
       "        [6.8, 3.2, 5.9, 2.3],\n",
       "        [6.7, 3. , 5.2, 2.3],\n",
       "        [5.2, 4.1, 1.5, 0.1],\n",
       "        [5.1, 3.7, 1.5, 0.4],\n",
       "        [6.3, 2.9, 5.6, 1.8],\n",
       "        [5.4, 3.4, 1.5, 0.4],\n",
       "        [6. , 2.2, 5. , 1.5],\n",
       "        [6.7, 2.5, 5.8, 1.8],\n",
       "        [5.4, 3. , 4.5, 1.5],\n",
       "        [5.5, 2.6, 4.4, 1.2],\n",
       "        [5.8, 2.6, 4. , 1.2],\n",
       "        [5.7, 2.5, 5. , 2. ],\n",
       "        [5.8, 2.7, 5.1, 1.9],\n",
       "        [6.4, 3.2, 5.3, 2.3],\n",
       "        [6.1, 2.8, 4.7, 1.2],\n",
       "        [4.4, 3. , 1.3, 0.2],\n",
       "        [6.3, 3.4, 5.6, 2.4],\n",
       "        [5.5, 4.2, 1.4, 0.2],\n",
       "        [6.9, 3.1, 5.1, 2.3],\n",
       "        [6.2, 2.9, 4.3, 1.3],\n",
       "        [6. , 2.2, 4. , 1. ],\n",
       "        [6.7, 3.1, 4.4, 1.4],\n",
       "        [5.8, 2.8, 5.1, 2.4],\n",
       "        [6.1, 2.9, 4.7, 1.4],\n",
       "        [5.7, 2.9, 4.2, 1.3],\n",
       "        [5.5, 3.5, 1.3, 0.2],\n",
       "        [5.7, 3. , 4.2, 1.2],\n",
       "        [4.9, 3.1, 1.5, 0.2],\n",
       "        [5.1, 3.4, 1.5, 0.2],\n",
       "        [6.1, 2.6, 5.6, 1.4],\n",
       "        [5.2, 3.4, 1.4, 0.2],\n",
       "        [5.8, 2.7, 5.1, 1.9],\n",
       "        [6. , 2.7, 5.1, 1.6],\n",
       "        [5. , 3.6, 1.4, 0.2],\n",
       "        [6.4, 2.7, 5.3, 1.9],\n",
       "        [5.8, 4. , 1.2, 0.2],\n",
       "        [5.1, 3.5, 1.4, 0.2],\n",
       "        [6.1, 3. , 4.6, 1.4],\n",
       "        [6.3, 2.5, 4.9, 1.5],\n",
       "        [6.7, 3.1, 5.6, 2.4],\n",
       "        [5.2, 2.7, 3.9, 1.4],\n",
       "        [6.4, 3.2, 4.5, 1.5],\n",
       "        [4.3, 3. , 1.1, 0.1],\n",
       "        [5.6, 2.9, 3.6, 1.3],\n",
       "        [5.5, 2.3, 4. , 1.3],\n",
       "        [6.9, 3.2, 5.7, 2.3],\n",
       "        [6.4, 3.1, 5.5, 1.8],\n",
       "        [5.6, 2.8, 4.9, 2. ]]), array([[5.6, 2.5, 3.9, 1.1],\n",
       "        [5.5, 2.5, 4. , 1.3],\n",
       "        [5.4, 3.9, 1.3, 0.4],\n",
       "        [6.5, 3. , 5.8, 2.2],\n",
       "        [5. , 3.3, 1.4, 0.2],\n",
       "        [4.9, 3. , 1.4, 0.2],\n",
       "        [5.7, 4.4, 1.5, 0.4],\n",
       "        [5.1, 2.5, 3. , 1.1],\n",
       "        [5.1, 3.8, 1.6, 0.2],\n",
       "        [5.9, 3.2, 4.8, 1.8],\n",
       "        [5.9, 3. , 4.2, 1.5],\n",
       "        [6.9, 3.1, 5.4, 2.1],\n",
       "        [6.4, 2.8, 5.6, 2.1],\n",
       "        [5.5, 2.4, 3.8, 1.1],\n",
       "        [5. , 3.5, 1.6, 0.6],\n",
       "        [7.3, 2.9, 6.3, 1.8],\n",
       "        [4.5, 2.3, 1.3, 0.3],\n",
       "        [5.7, 2.8, 4.5, 1.3],\n",
       "        [6.6, 3. , 4.4, 1.4],\n",
       "        [6.5, 3. , 5.5, 1.8],\n",
       "        [6.7, 3.3, 5.7, 2.5],\n",
       "        [6.3, 3.3, 4.7, 1.6],\n",
       "        [6.8, 3. , 5.5, 2.1],\n",
       "        [5.7, 2.6, 3.5, 1. ],\n",
       "        [4.9, 3.1, 1.5, 0.1],\n",
       "        [5.8, 2.7, 4.1, 1. ],\n",
       "        [5.1, 3.8, 1.9, 0.4],\n",
       "        [5.7, 2.8, 4.1, 1.3],\n",
       "        [6. , 2.9, 4.5, 1.5],\n",
       "        [4.6, 3.1, 1.5, 0.2],\n",
       "        [6.7, 3.3, 5.7, 2.1],\n",
       "        [5.7, 3.8, 1.7, 0.3],\n",
       "        [6.1, 3. , 4.9, 1.8],\n",
       "        [7.6, 3. , 6.6, 2.1],\n",
       "        [5. , 3. , 1.6, 0.2],\n",
       "        [6.5, 3.2, 5.1, 2. ],\n",
       "        [6.7, 3.1, 4.7, 1.5],\n",
       "        [5.6, 2.7, 4.2, 1.3]]), array([2, 2, 2, 1, 2, 2, 0, 0, 1, 1, 0, 1, 1, 2, 2, 1, 0, 2, 1, 0, 0, 0,\n",
       "        0, 1, 1, 0, 0, 0, 2, 0, 1, 1, 2, 1, 2, 2, 2, 0, 0, 0, 1, 2, 2, 1,\n",
       "        0, 1, 1, 1, 0, 0, 2, 2, 0, 0, 1, 0, 2, 0, 2, 0, 2, 0, 0, 2, 2, 2,\n",
       "        0, 0, 2, 0, 2, 2, 1, 1, 1, 2, 2, 2, 1, 0, 2, 0, 2, 1, 1, 1, 2, 1,\n",
       "        1, 0, 1, 0, 0, 2, 0, 2, 1, 0, 2, 0, 0, 1, 1, 2, 1, 1, 0, 1, 1, 2,\n",
       "        2, 2]), array([1, 1, 0, 2, 0, 0, 0, 1, 0, 1, 1, 2, 2, 1, 0, 2, 0, 1, 1, 2, 2, 1,\n",
       "        2, 1, 0, 1, 0, 1, 1, 0, 2, 0, 2, 2, 0, 2, 1, 1])]"
      ]
     },
     "execution_count": 8,
     "metadata": {},
     "output_type": "execute_result"
    }
   ],
   "source": [
    "from sklearn.model_selection import train_test_split\n",
    "train_test_split(X, y)"
   ]
  },
  {
   "cell_type": "code",
   "execution_count": 9,
   "metadata": {
    "slideshow": {
     "slide_type": "fragment"
    }
   },
   "outputs": [
    {
     "name": "stdout",
     "output_type": "stream",
     "text": [
      "[1 0 1 0 0 0 0 0 0 1 2 0 2 0 1 1 2 0 1 1 1 2 2 0 0 0 1 0 2 0 2 1 2 1 1 1 2\n",
      " 1 0 1 2 2 2 2 2 0 1 0 1 0 2 1 2 0 0 2 2 0 1 2 0 1 2 0 0 2 1 1 0 2 0 0 2 1\n",
      " 2 0 2 1 0 0 0 1 2 1 1 1 1 0 0 2 2 1 1 0 2 2 1 0 1 2 1 0 2 0 1 0 1 1 1 1 0\n",
      " 0]\n"
     ]
    }
   ],
   "source": [
    "# split the data into training data (2/3) for x and for y and test data (1/3) for x and for y\n",
    "# training data is for the model to learn, test data to see if the model learned correctly\n",
    "x_train, x_test, y_train, y_test = train_test_split(X, y)\n",
    "print(y_train)"
   ]
  },
  {
   "cell_type": "code",
   "execution_count": 10,
   "metadata": {
    "slideshow": {
     "slide_type": "subslide"
    }
   },
   "outputs": [
    {
     "data": {
      "text/plain": [
       "LinearRegression(copy_X=True, fit_intercept=True, n_jobs=None, normalize=False)"
      ]
     },
     "execution_count": 10,
     "metadata": {},
     "output_type": "execute_result"
    }
   ],
   "source": [
    "# use the linear regression model\n",
    "from sklearn.linear_model import LinearRegression\n",
    "model = LinearRegression()\n",
    "model.fit(x_train, y_train)"
   ]
  },
  {
   "cell_type": "code",
   "execution_count": 12,
   "metadata": {
    "slideshow": {
     "slide_type": "fragment"
    }
   },
   "outputs": [
    {
     "data": {
      "text/plain": [
       "array([ 1.14551898, -0.08950569,  1.03289739, -0.080159  ,  0.05737379,\n",
       "       -0.07152185, -0.01851747, -0.03496854, -0.13168138,  1.15049516,\n",
       "        1.9359708 , -0.0120388 ,  1.94153451, -0.03789992,  1.10112146,\n",
       "        1.21647692,  1.89137812, -0.04501454,  0.95265611,  1.291134  ,\n",
       "        1.36071617,  1.87207906,  1.98176927, -0.01850723,  0.0130699 ,\n",
       "       -0.10671708,  1.13621281, -0.03203716,  2.11868614, -0.09528506,\n",
       "        1.70362559,  0.85206431,  1.56503389,  1.15477204,  1.11612081,\n",
       "        1.17287   ,  1.79167055,  1.38869289, -0.00337138,  1.24738268,\n",
       "        1.72576239,  2.22346353,  1.71433037,  1.58156601,  1.72927895,\n",
       "       -0.11238232,  1.17923455, -0.12383717,  1.05656696,  0.10986613,\n",
       "        2.02895377,  1.16491167,  1.44529533, -0.13039923, -0.05436123,\n",
       "        2.03978012,  1.98746245, -0.06868411,  1.2760713 ,  1.72283335,\n",
       "        0.07124798,  1.26598478,  1.56788933, -0.06077655,  0.00808348,\n",
       "        1.64472027,  1.2940351 ,  1.37363019,  0.08052108,  2.0305373 ,\n",
       "        0.18514147, -0.05719898,  1.70561962,  1.38080816,  1.54153666,\n",
       "        0.01163077,  1.77727687,  1.04577089, -0.00703234, -0.00913025,\n",
       "       -0.00920106,  0.83565376,  1.82538611,  1.48116938,  1.29611019,\n",
       "        1.38721089,  0.9862678 ,  0.00665459, -0.01347793,  1.55426576,\n",
       "        2.16826525,  1.17282948,  1.31754768, -0.03209027,  1.77527024,\n",
       "        2.14816536,  0.9030849 ,  0.02097746,  0.92172517,  1.82990103,\n",
       "        1.16052857, -0.00488366,  1.67847636, -0.04361593,  1.17707328,\n",
       "       -0.07659167,  1.27036553,  0.91880638,  1.31410427,  1.2316435 ,\n",
       "        0.23103123, -0.19276055])"
      ]
     },
     "execution_count": 12,
     "metadata": {},
     "output_type": "execute_result"
    }
   ],
   "source": [
    "targets = model.predict(x_train)\n",
    "targets"
   ]
  },
  {
   "cell_type": "code",
   "execution_count": 13,
   "metadata": {
    "slideshow": {
     "slide_type": "subslide"
    }
   },
   "outputs": [
    {
     "data": {
      "text/plain": [
       "0.933946077489639"
      ]
     },
     "execution_count": 13,
     "metadata": {},
     "output_type": "execute_result"
    }
   ],
   "source": [
    "model.score(x_train, y_train)"
   ]
  },
  {
   "cell_type": "code",
   "execution_count": 14,
   "metadata": {
    "slideshow": {
     "slide_type": "subslide"
    }
   },
   "outputs": [
    {
     "data": {
      "text/plain": [
       "0.9096691909450296"
      ]
     },
     "execution_count": 14,
     "metadata": {},
     "output_type": "execute_result"
    }
   ],
   "source": [
    "model.score(x_test, y_test)"
   ]
  },
  {
   "cell_type": "markdown",
   "metadata": {
    "slideshow": {
     "slide_type": "subslide"
    }
   },
   "source": [
    "## Evaluating a model\n",
    "\n",
    "* Models are supposed to be as accurate as possible\n",
    "  * `model.score`\n",
    "  * Read the [documentation](https://scikit-learn.org/stable/modules/generated/sklearn.linear_model.LinearRegression.html#sklearn.linear_model.LinearRegression.score)"
   ]
  },
  {
   "cell_type": "markdown",
   "metadata": {
    "slideshow": {
     "slide_type": "subslide"
    }
   },
   "source": [
    "* But not *too* accurate\n",
    "  * Overfitting"
   ]
  },
  {
   "cell_type": "markdown",
   "metadata": {
    "slideshow": {
     "slide_type": "subslide"
    }
   },
   "source": [
    "## The overfitting curve\n",
    "[Overfitting](https://en.wikipedia.org/wiki/Overfitting)  \n",
    "\n",
    "Curve shows number of training cycles on the x-axis and on y-axis how blue and red (training error, validation error) enlarges at a point. This point is where validation error has its global minimum\n",
    "\n",
    "<img src=\"https://upload.wikimedia.org/wikipedia/commons/thumb/1/1f/Overfitting_svg.svg/1280px-Overfitting_svg.svg.png\" style=\"width:40%\"/>"
   ]
  },
  {
   "cell_type": "markdown",
   "metadata": {
    "slideshow": {
     "slide_type": "subslide"
    }
   },
   "source": [
    "## Exercise\n",
    "\n",
    "* Import `science.csv` to a pandas DataFrame\n",
    "* Split the input (X) and target (y) using `train_test_split`\n",
    "* Train the model on the training data\n",
    "* Score the model based on the testing data"
   ]
  },
  {
   "cell_type": "markdown",
   "metadata": {
    "slideshow": {
     "slide_type": "subslide"
    }
   },
   "source": [
    "## Other sklearn metrics\n",
    "\n",
    "The model uses *default* metrics. But there are numerous others.\n",
    "\n",
    "https://sklearn.org/modules/classes.html#module-sklearn.metrics\n",
    "\n",
    "Metrics usually depends on the type of your model (classification, regression, etc.)\n",
    "\n",
    "Read this article [here](https://towardsdatascience.com/understanding-data-science-classification-metrics-in-scikit-learn-in-python-3bc336865019)"
   ]
  },
  {
   "cell_type": "code",
   "execution_count": 15,
   "metadata": {
    "slideshow": {
     "slide_type": "subslide"
    }
   },
   "outputs": [
    {
     "data": {
      "text/plain": [
       "dict_keys(['explained_variance', 'r2', 'max_error', 'neg_median_absolute_error', 'neg_mean_absolute_error', 'neg_mean_squared_error', 'neg_mean_squared_log_error', 'accuracy', 'roc_auc', 'balanced_accuracy', 'average_precision', 'neg_log_loss', 'brier_score_loss', 'adjusted_rand_score', 'homogeneity_score', 'completeness_score', 'v_measure_score', 'mutual_info_score', 'adjusted_mutual_info_score', 'normalized_mutual_info_score', 'fowlkes_mallows_score', 'precision', 'precision_macro', 'precision_micro', 'precision_samples', 'precision_weighted', 'recall', 'recall_macro', 'recall_micro', 'recall_samples', 'recall_weighted', 'f1', 'f1_macro', 'f1_micro', 'f1_samples', 'f1_weighted', 'jaccard', 'jaccard_macro', 'jaccard_micro', 'jaccard_samples', 'jaccard_weighted'])"
      ]
     },
     "execution_count": 15,
     "metadata": {},
     "output_type": "execute_result"
    }
   ],
   "source": [
    "import sklearn\n",
    "sklearn.metrics.SCORERS.keys()"
   ]
  }
 ],
 "metadata": {
  "celltoolbar": "Slideshow",
  "kernelspec": {
   "display_name": "Python 3",
   "language": "python",
   "name": "python3"
  },
  "language_info": {
   "codemirror_mode": {
    "name": "ipython",
    "version": 3
   },
   "file_extension": ".py",
   "mimetype": "text/x-python",
   "name": "python",
   "nbconvert_exporter": "python",
   "pygments_lexer": "ipython3",
   "version": "3.7.4"
  },
  "varInspector": {
   "cols": {
    "lenName": 16,
    "lenType": 16,
    "lenVar": 40
   },
   "kernels_config": {
    "python": {
     "delete_cmd_postfix": "",
     "delete_cmd_prefix": "del ",
     "library": "var_list.py",
     "varRefreshCmd": "print(var_dic_list())"
    },
    "r": {
     "delete_cmd_postfix": ") ",
     "delete_cmd_prefix": "rm(",
     "library": "var_list.r",
     "varRefreshCmd": "cat(var_dic_list()) "
    }
   },
   "types_to_exclude": [
    "module",
    "function",
    "builtin_function_or_method",
    "instance",
    "_Feature"
   ],
   "window_display": false
  }
 },
 "nbformat": 4,
 "nbformat_minor": 2
}
