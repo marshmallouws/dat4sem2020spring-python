{
 "cells": [
  {
   "cell_type": "markdown",
   "metadata": {
    "slideshow": {
     "slide_type": "skip"
    }
   },
   "source": [
    "# What is a Graph?\n",
    "A graph is a pictorial representation of a set of objects where some pairs of objects are connected by links. The interconnected objects are represented by points termed as vertices, and the links that connect the vertices are called edges.  \n",
    "\n",
    "![](images/graph.jpg)\n",
    "## Terminology\n",
    "- **Vertex** or **Node** − Each element of the graph is represented as a vertex. In the above example, the labeled circle represents vertices. Thus, A to G are vertices. We can represent them using an array as shown in the following image. Here A can be identified by index 0. B can be identified using index 1 and so on.\n",
    "- **Edge** − Edge represents a path between two vertices or a line between two vertices. In the following example, the lines from A to B, B to C, and so on represents edges. We can use a two-dimensional array to represent an array as shown above. Thus AB can be represented as 1 at row 0, column 1, BC as 1 at row 1, column 2 and so on, keeping other combinations as 0.\n",
    "- **Adjacency** − Two node or vertices are adjacent if they are connected to each other through an edge. In the above example, B is adjacent to A, C is adjacent to B, and so on.\n",
    "- **Path** − Path represents a sequence of edges between the two vertices. In the above example, ABCD represents a path from A to D.\n",
    "\n",
    "## Undirected Graphs\n",
    "\n",
    "A *graph* $G$ consists of a nonempty set, $V(G)$, called the *vertices* of $G$, and a set $E(G)$ called the *edges* of $G$.  \n",
    "\n",
    "An element of $E(G)$ is an *undirected* edge or simply an \"edge\". An undirected edge has two vertices $u\\neq v$ called its endpoints. Such an edge can be represented by the two element set $\\{u, v\\}$. The notation $\\langle u—v \\rangle$ denotes this edge.\n",
    "Both $\\langle u—v \\rangle$ and $\\langle v—u \\rangle$ define the same undirected edge, whose endpoints are $u$ and $v$.\n",
    "\n",
    "![](./images/graph_example.png)\n",
    "\n",
    "For example, let $H$ be the graph pictured in Figure above. The vertices of $H$\n",
    "correspond to the nine dots, that is, $V(H) = \\{a,b,c,d,e,f,g,h,i\\}$\n",
    "\n",
    "The edges correspond to the eight lines, that is,\n",
    "\n",
    "$E(H) = \\big\\{\\langle a—b \\rangle,\\langle a—c \\rangle,\\langle b—d \\rangle,\\langle c—d \\rangle,\\langle c—e \\rangle,\\langle e—f \\rangle,\\langle e—g \\rangle,\\langle h—i \\rangle\\big\\} $\n",
    "\n",
    "\n",
    "## Directed Graphs\n",
    "\n",
    "A *directed graph* -or *digraph*- $G$ consists of a nonempty set $V(G)$, called the vertices of $G$, and a set $E(G)$, called the edges of $G$. An element of $E(G)$ is called a *directed edge*. A directed edge is also called an \"arrow\" or simply an \"edge\". A directed edge starts at some vertex $u$ called the *tail* of the edge, and ends at some vertex $v$ called the *head* of the edge.\n",
    "\n",
    "![](./images/digraph_example.png)\n",
    "\n",
    "\n",
    "### Vertex Degrees\n",
    "\n",
    "The *in-degree* of a vertex in a digraph is the number of arrows coming into it, and similarly its *out-degree* is the number of arrows out of it.\n",
    "\n",
    "##### References:\n",
    "The definitions above and the illustrations are taken from the book:\n",
    "*Mathematics for Computer Science*, Eric Lehman, F. Tom Leighton, Albert R. Meyer\n",
    "https://courses.csail.mit.edu/6.042/spring17/mcs.pdf\n",
    "\n",
    "## More detailed explanation\n",
    "\n",
    "[A python guide to graph theory](https://runestone.academy/runestone/books/published/pythonds/Graphs/toctree.html)"
   ]
  },
  {
   "cell_type": "markdown",
   "metadata": {
    "slideshow": {
     "slide_type": "subslide"
    }
   },
   "source": [
    "# Name Generator\n",
    "\n",
    "Lets generate a directed graph -a social network-, which expresses endorsements between various people similar as in *LinkedIn*. The nodes of our digraph will be persons and the edges will represent endorsments. \n",
    "\n",
    "\n",
    "For the nodes, we will generate a set of \"random\" people. That is, we generate names as given in the USA randomly. A list of US American names can be received here:\n",
    "http://www.census.gov/topics/population/genealogy/data/1990_census/1990_census_namefiles.html\n",
    "\n",
    "\n",
    "In the following we download the files and generate three lists, one for female names, one for male names, and one for surnames."
   ]
  },
  {
   "cell_type": "code",
   "execution_count": 1,
   "metadata": {
    "slideshow": {
     "slide_type": "subslide"
    }
   },
   "outputs": [
    {
     "data": {
      "text/plain": [
       "'./male_names.txt'"
      ]
     },
     "execution_count": 1,
     "metadata": {},
     "output_type": "execute_result"
    }
   ],
   "source": [
    "import webget\n",
    "import random\n",
    "\n",
    "surnames_txt = 'http://www2.census.gov/topics/genealogy/1990surnames/dist.all.last'\n",
    "female_names_txt = 'http://www2.census.gov/topics/genealogy/1990surnames/dist.female.first'\n",
    "male_names_txt = 'http://www2.census.gov/topics/genealogy/1990surnames/dist.male.first'\n",
    "\n",
    "webget.download(surnames_txt, to='./last_names.txt')\n",
    "webget.download(female_names_txt, to='./female_names.txt')\n",
    "webget.download(male_names_txt, to='./male_names.txt') "
   ]
  },
  {
   "cell_type": "code",
   "execution_count": 2,
   "metadata": {
    "slideshow": {
     "slide_type": "subslide"
    }
   },
   "outputs": [
    {
     "name": "stdout",
     "output_type": "stream",
     "text": [
      "-rw-rw-r-- 1 tha tha 3107965 Mar 13 16:48 last_names.txt\n",
      "-rw-rw-r-- 1 tha tha  149625 Mar 13 16:48 female_names.txt\n",
      "-rw-rw-r-- 1 tha tha   42665 Mar 13 16:48 male_names.txt\n"
     ]
    }
   ],
   "source": [
    "%%bash\n",
    "ls -ltr *names.txt"
   ]
  },
  {
   "cell_type": "code",
   "execution_count": 3,
   "metadata": {
    "slideshow": {
     "slide_type": "subslide"
    }
   },
   "outputs": [],
   "source": [
    "def get_names_from(file):\n",
    "    with open(file, 'r') as fp:\n",
    "        return [x.split()[0] for x in fp]"
   ]
  },
  {
   "cell_type": "code",
   "execution_count": 4,
   "metadata": {
    "slideshow": {
     "slide_type": "subslide"
    }
   },
   "outputs": [
    {
     "name": "stdout",
     "output_type": "stream",
     "text": [
      "family names:88799, female names:4275, male names:1219\n"
     ]
    }
   ],
   "source": [
    "names = get_names_from('./last_names.txt')\n",
    "female_names = get_names_from('./female_names.txt')\n",
    "male_names = get_names_from('./male_names.txt')\n",
    "\n",
    "print('family names:{}, female names:{}, male names:{}'.format(len(names), len(female_names), len(male_names)))"
   ]
  },
  {
   "cell_type": "markdown",
   "metadata": {
    "slideshow": {
     "slide_type": "subslide"
    }
   },
   "source": [
    "We decide to let names be a two-element tuple consisting of a name and a surname."
   ]
  },
  {
   "cell_type": "code",
   "execution_count": 5,
   "metadata": {
    "slideshow": {
     "slide_type": "subslide"
    }
   },
   "outputs": [
    {
     "data": {
      "text/plain": [
       "'ZORAIDA TOPOLANSKY'"
      ]
     },
     "execution_count": 5,
     "metadata": {},
     "output_type": "execute_result"
    }
   ],
   "source": [
    "import random \n",
    "def random_combination(list_a, list_b):\n",
    "    return random.choice(list_a) + ' ' + random.choice(list_b)\n",
    "random_combination(female_names,names)"
   ]
  },
  {
   "cell_type": "code",
   "execution_count": 6,
   "metadata": {
    "slideshow": {
     "slide_type": "subslide"
    }
   },
   "outputs": [
    {
     "data": {
      "text/plain": [
       "['MAGALI HATCHEL',\n",
       " 'VIVIENNE MATRO',\n",
       " 'BRYNN CABANA',\n",
       " 'BOBBI GALIMBERTI',\n",
       " 'SHEA FRERE',\n",
       " 'WILLETTE HERTLEIN',\n",
       " 'STEPHEN FELD',\n",
       " 'CORA MULICH',\n",
       " 'ALANA LINEN',\n",
       " 'CHASSIDY AKE']"
      ]
     },
     "execution_count": 6,
     "metadata": {},
     "output_type": "execute_result"
    }
   ],
   "source": [
    "def generate_random_names(amount=1, gender='female'):  \n",
    "    random_names = []\n",
    "    for i in range(amount):\n",
    "        if gender == 'female':\n",
    "            name = random_combination(female_names, names)\n",
    "        elif gender == 'male':\n",
    "            name = random_combination(male_names, names)\n",
    "        else:\n",
    "            name = random_combination(male_names + female_names, names)\n",
    "        random_names.append(name)\n",
    "    return random_names\n",
    "    \n",
    "generate_random_names(amount=10, gender='random')"
   ]
  },
  {
   "cell_type": "markdown",
   "metadata": {
    "slideshow": {
     "slide_type": "subslide"
    }
   },
   "source": [
    "# Generating Nodes\n",
    "\n",
    "Now, that we have our name generator in place we are good to start generating our *endorsment graph*.\n",
    "\n",
    "For our example graph, we decide that it contains 100 persons, i.e., 100 nodes. Half of the nodes represents women and the other half represents men."
   ]
  },
  {
   "cell_type": "code",
   "execution_count": 7,
   "metadata": {
    "slideshow": {
     "slide_type": "subslide"
    }
   },
   "outputs": [],
   "source": [
    "total_no_nodes = 100\n",
    "no_nodes_per_gender = total_no_nodes // 2"
   ]
  },
  {
   "cell_type": "code",
   "execution_count": 8,
   "metadata": {
    "slideshow": {
     "slide_type": "fragment"
    }
   },
   "outputs": [],
   "source": [
    "female_names_list = generate_random_names(amount=no_nodes_per_gender, gender='female')\n",
    "male_names_list = generate_random_names(amount=no_nodes_per_gender, gender='male')"
   ]
  },
  {
   "cell_type": "code",
   "execution_count": 9,
   "metadata": {
    "slideshow": {
     "slide_type": "fragment"
    }
   },
   "outputs": [],
   "source": [
    "all_names_list = female_names_list + male_names_list\n",
    "person_list = all_names_list\n",
    "#person_list[-20:-1]"
   ]
  },
  {
   "cell_type": "code",
   "execution_count": 10,
   "metadata": {
    "slideshow": {
     "slide_type": "subslide"
    }
   },
   "outputs": [
    {
     "name": "stdout",
     "output_type": "stream",
     "text": [
      "100\n",
      "['KORTNEY BRISKY', 'DEANDRA NOREM', 'ANGELA TSEMETZIS', 'SEPTEMBER HAMNON', 'ALETHA BREITBART', 'STORMY KUCAN', 'LAWANDA PULLANO', 'VIRGINA BREDERNITZ', 'EILENE GENSON', 'MILDRED JARRELLS', 'TARI PERINE', 'PRICILLA PENHALL', 'LUCILLE SAMIENTO', 'LETTY JOWERS', 'CANDI KNIGHTON', 'HOLLEY GORKA', 'ANYA SIVIK', 'IVA RILLING', 'ANIKA PRIEBE', 'ARIE CAVICCHI']\n"
     ]
    }
   ],
   "source": [
    "print(len(all_names_list))\n",
    "print(all_names_list[:20])"
   ]
  },
  {
   "cell_type": "markdown",
   "metadata": {
    "slideshow": {
     "slide_type": "subslide"
    }
   },
   "source": [
    "# Generating Edges\n",
    "\n",
    "Randomly connected (=endorsed).\n",
    "Also, it is not possible for a person to connect to herself."
   ]
  },
  {
   "cell_type": "code",
   "execution_count": 11,
   "metadata": {
    "slideshow": {
     "slide_type": "subslide"
    }
   },
   "outputs": [],
   "source": [
    "from tqdm import tqdm\n",
    "from random import randint\n",
    "from numpy.random import choice"
   ]
  },
  {
   "cell_type": "code",
   "execution_count": 12,
   "metadata": {
    "slideshow": {
     "slide_type": "fragment"
    }
   },
   "outputs": [],
   "source": [
    "# Sample probability\n",
    "choice?"
   ]
  },
  {
   "cell_type": "markdown",
   "metadata": {},
   "source": [
    "### Creating random numbers \n",
    "We will create a random number between 0 and 100 (both inclusive) with controlled probability. Eg. the chance of getting a number between 5 to 10 is much higher than a number from 51 to 100 or getting 0"
   ]
  },
  {
   "cell_type": "code",
   "execution_count": 13,
   "metadata": {
    "slideshow": {
     "slide_type": "subslide"
    }
   },
   "outputs": [],
   "source": [
    "RELATION_CLASSES = {\n",
    "        0: (0, 0),\n",
    "        1: (1, 4),\n",
    "        2: (5, 10),\n",
    "        3: (11, 20),\n",
    "        4: (21, 50),\n",
    "        5: (51, 100)\n",
    "    }\n",
    "PROBABILITIES = [0.05, 0.36, 0.45, 0.1, 0.035, 0.005]"
   ]
  },
  {
   "cell_type": "code",
   "execution_count": 14,
   "metadata": {
    "slideshow": {
     "slide_type": "subslide"
    }
   },
   "outputs": [
    {
     "name": "stdout",
     "output_type": "stream",
     "text": [
      "[(1, 5), (2, 6), (3, 7), (4, 8)]\n"
     ]
    },
    {
     "data": {
      "text/plain": [
       "2"
      ]
     },
     "execution_count": 14,
     "metadata": {},
     "output_type": "execute_result"
    }
   ],
   "source": [
    "def get_no_endorsements():\n",
    "    no_relation_class = choice(list(RELATION_CLASSES.keys()), \n",
    "                               p=PROBABILITIES)\n",
    "    no_endorsments = randint(RELATION_CLASSES[no_relation_class][0], \n",
    "                             RELATION_CLASSES[no_relation_class][1])\n",
    "    return no_endorsments\n",
    "\n",
    "a = [1, 2, 3, 4]\n",
    "b = [5, 6, 7, 8]\n",
    "print(list(zip(a, b)))\n",
    "get_no_endorsements()"
   ]
  },
  {
   "cell_type": "code",
   "execution_count": 15,
   "metadata": {
    "slideshow": {
     "slide_type": "subslide"
    }
   },
   "outputs": [
    {
     "name": "stderr",
     "output_type": "stream",
     "text": [
      "100it [00:00, 18316.54it/s]\n"
     ]
    }
   ],
   "source": [
    "def create_endorsements(node_list):\n",
    "    \"\"\"Creates a list of graph edges\n",
    "    like [(1,10), (50,4), (99,20000), ...]\"\"\"\n",
    "    endorsements = []\n",
    "    idx_list = range(len(node_list))\n",
    "\n",
    "    for idx, name_pair in tqdm(enumerate(node_list)):\n",
    "        # get how many people this person (name_pair) endorses\n",
    "        no_endorsments = get_no_endorsements()\n",
    "        if no_endorsments > 0:\n",
    "            # get a list of potential endorsements\n",
    "            potential_endorsement_idxs = random.sample(idx_list, no_endorsments)\n",
    "            if idx in potential_endorsement_idxs:\n",
    "                # Removing myself in case I am in the list\n",
    "                # cannot endorse myself\n",
    "                idx_me_in_endorsements = potential_endorsement_idxs.index(idx)\n",
    "                del potential_endorsement_idxs[idx_me_in_endorsements]\n",
    "    \n",
    "            endorsements += list(zip([idx for _ in range(len(potential_endorsement_idxs))], \n",
    "                                     potential_endorsement_idxs))\n",
    "    return endorsements\n",
    "\n",
    "endorsements = create_endorsements(person_list)"
   ]
  },
  {
   "cell_type": "code",
   "execution_count": 16,
   "metadata": {
    "slideshow": {
     "slide_type": "subslide"
    }
   },
   "outputs": [
    {
     "name": "stdout",
     "output_type": "stream",
     "text": [
      "[(0, 6), (0, 52), (0, 65), (0, 77), (0, 23), (0, 42), (0, 97), (0, 54), (0, 82), (0, 99), (1, 53), (1, 97), (2, 49), (2, 44), (2, 27), (2, 4), (2, 79), (3, 5), (3, 69), (3, 67), (3, 40), (4, 2), (4, 93), (4, 66), (4, 72), (4, 48), (4, 46), (5, 54), (5, 38), (5, 51)]\n",
      "['KORTNEY BRISKY', 'DEANDRA NOREM', 'ANGELA TSEMETZIS', 'SEPTEMBER HAMNON', 'ALETHA BREITBART', 'STORMY KUCAN', 'LAWANDA PULLANO', 'VIRGINA BREDERNITZ', 'EILENE GENSON', 'MILDRED JARRELLS', 'TARI PERINE', 'PRICILLA PENHALL', 'LUCILLE SAMIENTO', 'LETTY JOWERS', 'CANDI KNIGHTON', 'HOLLEY GORKA', 'ANYA SIVIK', 'IVA RILLING', 'ANIKA PRIEBE', 'ARIE CAVICCHI', 'DAWNE HAULK', 'JOVAN GIORGINI', 'GARNET CIPOLLONE', 'ZANDRA TIMPE', 'GOLDIE SALVATORE', 'RICKIE ECKSTROM', 'ELEONORE JIRJIS', 'WINTER ESTRELA', 'ANNALISA MAN', 'ANNICE LETARTE', 'CHARIS SCHOOL', 'HORTENSIA DURFEY', 'KRISTINA FUTRAL', 'CRISTINA WHEADON', 'ASIA BELK', 'TIFFANIE MEDLAR', 'TRISTA MANDEL', 'RAFAELA BROGDEN', 'TANDRA KILIAN', 'BARRIE ORNELAS', 'THEO SITZ', 'CASSY MITHELL', 'SHEA DARLINGTON', 'RISA YANDURA', 'SEBRINA RIEFF', 'BILLYE CONNELL', 'ALEIDA BENNER', 'SHALANDA SULTAN', 'TINA GRAVELINE', 'KAMALA HAUSCHILD', 'ADAN FROILAND', 'DARON ATKISON', 'LINWOOD DANG', 'CARMELO DICAMILLO', 'EMANUEL HOLLYWOOD', 'BRODERICK PIMENTAL', 'OLLIE HESSELL', 'MARCOS FU', 'DARON LITTLER', 'GARFIELD WAHBA', 'ALLAN KARPINEN', 'LEON JANCO', 'LESTER DRUNGO', 'LYNN RIDGEL', 'KERRY TRUSCOTT', 'STEWART LOR', 'JORDAN EWERT', 'KIP BLISSET', 'ROGER FONTANELLA', 'BARRY NORMINGTON', 'MARCELLUS HARAJLI', 'CLINT RADECKI', 'GIUSEPPE MOLINAR', 'MARTIN STELLMAN', 'JEFFRY COMRIE', 'SCOTT ROETHLE', 'BARRY NORVIEL', 'IRWIN HALPAINY', 'RAY SEWADE', 'ROOSEVELT MELUGIN', 'JUDE OHASHI', 'BRODERICK PECKENPAUGH', 'JERRELL STEINHARDT', 'TREY ROYLANCE', 'EDMOND BARAY', 'FRANKLYN WOLTERS', 'ROGELIO NATIONS', 'FLOYD GILGER', 'CURT MOHAMAD', 'THERON HERRAN', 'BOB BLOSSOMGAME', 'LEIGH FAYKOSH', 'LEIGH GINSBERG', 'LANDON NEVERMAN', 'CEDRICK GROVER', 'VICTOR GEIS', 'RUBIN STRUCKMANN', 'DAMON GERRIOR', 'RICO FESENBEK', 'PORTER KET']\n"
     ]
    }
   ],
   "source": [
    "print(endorsements[:30])\n",
    "print(person_list)"
   ]
  },
  {
   "cell_type": "code",
   "execution_count": 17,
   "metadata": {
    "slideshow": {
     "slide_type": "subslide"
    }
   },
   "outputs": [],
   "source": [
    "#%%bash\n",
    "#conda install -y networkx\n",
    "#conda install -c anaconda pygraphviz "
   ]
  },
  {
   "cell_type": "code",
   "execution_count": 18,
   "metadata": {
    "slideshow": {
     "slide_type": "subslide"
    }
   },
   "outputs": [],
   "source": [
    "%matplotlib inline\n",
    "import warnings\n",
    "warnings.filterwarnings('ignore')"
   ]
  },
  {
   "cell_type": "code",
   "execution_count": 19,
   "metadata": {
    "scrolled": true,
    "slideshow": {
     "slide_type": "subslide"
    }
   },
   "outputs": [],
   "source": [
    "import networkx as nx\n",
    "import matplotlib.pyplot as plt\n",
    "from networkx.drawing.nx_agraph import graphviz_layout, write_dot\n",
    "\n",
    "def create_graph():\n",
    "    graph = nx.DiGraph()\n",
    "    graph.clear()\n",
    "\n",
    "    # add node by node, needed to add attributes...\n",
    "    print(len(all_names_list))\n",
    "\n",
    "    for idx, name_pair in enumerate(all_names_list):\n",
    "        graph.add_node(idx, name=' '.join(name_pair))\n",
    "    \n",
    "    # graph.add_nodes_from(all_names_list)\n",
    "    graph.add_edges_from(endorsements)\n",
    "\n",
    "    return graph"
   ]
  },
  {
   "cell_type": "code",
   "execution_count": 20,
   "metadata": {},
   "outputs": [],
   "source": [
    "import pygraphviz"
   ]
  },
  {
   "cell_type": "code",
   "execution_count": 21,
   "metadata": {
    "slideshow": {
     "slide_type": "subslide"
    }
   },
   "outputs": [
    {
     "name": "stdout",
     "output_type": "stream",
     "text": [
      "100\n"
     ]
    },
    {
     "data": {
      "image/png": "[encoded data removed]",
      "text/plain": [
       "<Figure size 432x288 with 1 Axes>"
      ]
     },
     "metadata": {},
     "output_type": "display_data"
    }
   ],
   "source": [
    "def draw_graph(graph):\n",
    "    nx.draw(graph, pos=graphviz_layout(graph), \n",
    "            node_size=30, width=.05, cmap=plt.cm.Blues, \n",
    "            with_labels=True, node_color=range(len(graph)))\n",
    "    \n",
    "graph = create_graph()\n",
    "draw_graph(graph)\n",
    "\n",
    "#nx.write_gml(graph, './social_network.gml')"
   ]
  },
  {
   "cell_type": "code",
   "execution_count": 28,
   "metadata": {
    "slideshow": {
     "slide_type": "subslide"
    }
   },
   "outputs": [
    {
     "name": "stdout",
     "output_type": "stream",
     "text": [
      "T A R I   P E R I N E\n",
      "6\n",
      "[(10, 68), (10, 52), (10, 13), (10, 72), (10, 43), (10, 19)]\n",
      "[(9, 10), (16, 10), (27, 10), (43, 10), (48, 10), (60, 10), (72, 10), (95, 10)]\n"
     ]
    }
   ],
   "source": [
    "print(graph.nodes[10]['name'])\n",
    "print(graph.out_degree(10))\n",
    "print(graph.out_edges(10))\n",
    "#print(graph.nodes[graph.out_edges(10)])\n",
    "print(graph.in_edges(10))"
   ]
  },
  {
   "cell_type": "code",
   "execution_count": 29,
   "metadata": {
    "slideshow": {
     "slide_type": "subslide"
    }
   },
   "outputs": [
    {
     "name": "stdout",
     "output_type": "stream",
     "text": [
      "100\n"
     ]
    }
   ],
   "source": [
    "# print(graph.node)\n",
    "print(graph.number_of_nodes())"
   ]
  },
  {
   "cell_type": "markdown",
   "metadata": {
    "slideshow": {
     "slide_type": "subslide"
    }
   },
   "source": [
    "## Who is the most interesting person in our network?\n",
    "\n",
    "Likely, you are tempted to find the person in the graph, which has the highest in-degree. For example with code similar to the following."
   ]
  },
  {
   "cell_type": "code",
   "execution_count": null,
   "metadata": {
    "slideshow": {
     "slide_type": "subslide"
    }
   },
   "outputs": [],
   "source": [
    "import numpy as np\n",
    "\n",
    "in_deg_vec = np.array([graph.in_degree(n) for n in graph.nodes()])\n",
    "max_ind_deg = in_deg_vec.max()"
   ]
  },
  {
   "cell_type": "code",
   "execution_count": null,
   "metadata": {
    "slideshow": {
     "slide_type": "subslide"
    }
   },
   "outputs": [],
   "source": [
    "print(np.argmax(in_deg_vec))\n",
    "print(graph.node[np.argmax(in_deg_vec)]['name'])"
   ]
  },
  {
   "cell_type": "markdown",
   "metadata": {
    "slideshow": {
     "slide_type": "subslide"
    }
   },
   "source": [
    "\n",
    "However, there is an issue with this solution. To make yourself the most interesting person you would just have to create a lot of profiles of people endorsing you. This issue can be overcome by applying the ***PageRank*** algorithm."
   ]
  },
  {
   "cell_type": "code",
   "execution_count": null,
   "metadata": {
    "slideshow": {
     "slide_type": "subslide"
    }
   },
   "outputs": [],
   "source": [
    "d = 0.85\n",
    "n = graph.number_of_nodes()\n",
    "sub_term = (1 - d) / n\n",
    "\n",
    "def page_rank(p):\n",
    "    \n",
    "    page_rank = sub_term  + (d * pass)\n",
    "    return page_rank"
   ]
  },
  {
   "cell_type": "markdown",
   "metadata": {
    "slideshow": {
     "slide_type": "subslide"
    }
   },
   "source": [
    "## Working with a twitter dataset\n",
    "\n",
    "https://snap.stanford.edu/data/egonets-Twitter.html"
   ]
  },
  {
   "cell_type": "code",
   "execution_count": 31,
   "metadata": {
    "slideshow": {
     "slide_type": "subslide"
    }
   },
   "outputs": [
    {
     "name": "stdout",
     "output_type": "stream",
     "text": [
      "--2020-03-14 22:30:22--  https://snap.stanford.edu/data/twitter_combined.txt.gz\n",
      "Resolving snap.stanford.edu (snap.stanford.edu)... 171.64.75.80\n",
      "Connecting to snap.stanford.edu (snap.stanford.edu)|171.64.75.80|:443... connected.\n",
      "HTTP request sent, awaiting response... 200 OK\n",
      "Length: 10621918 (10M) [application/x-gzip]\n",
      "Saving to: ‘twitter_combined.txt.gz’\n",
      "\n",
      "twitter_combined.tx 100%[===================>]  10.13M   848KB/s    in 18s     \n",
      "\n",
      "2020-03-14 22:30:41 (569 KB/s) - ‘twitter_combined.txt.gz’ saved [10621918/10621918]\n",
      "\n"
     ]
    }
   ],
   "source": [
    "!wget https://snap.stanford.edu/data/twitter_combined.txt.gz"
   ]
  },
  {
   "cell_type": "code",
   "execution_count": 32,
   "metadata": {
    "slideshow": {
     "slide_type": "subslide"
    }
   },
   "outputs": [],
   "source": [
    "!gunzip twitter_combined.txt.gz"
   ]
  },
  {
   "cell_type": "code",
   "execution_count": 33,
   "metadata": {
    "slideshow": {
     "slide_type": "subslide"
    }
   },
   "outputs": [],
   "source": [
    "import networkx as nx"
   ]
  },
  {
   "cell_type": "code",
   "execution_count": 34,
   "metadata": {
    "slideshow": {
     "slide_type": "subslide"
    }
   },
   "outputs": [],
   "source": [
    "g = nx.read_edgelist('twitter_combined.txt')"
   ]
  },
  {
   "cell_type": "markdown",
   "metadata": {
    "slideshow": {
     "slide_type": "subslide"
    }
   },
   "source": [
    "## Networkx documentation for undirected graphs\n",
    "https://networkx.github.io/documentation/stable/reference/classes/graph.html"
   ]
  },
  {
   "cell_type": "code",
   "execution_count": 49,
   "metadata": {
    "slideshow": {
     "slide_type": "subslide"
    }
   },
   "outputs": [
    {
     "name": "stdout",
     "output_type": "stream",
     "text": [
      "Name: \n",
      "Type: Graph\n",
      "Number of nodes: 81306\n",
      "Number of edges: 1342310\n",
      "Average degree:  33.0187\n"
     ]
    }
   ],
   "source": [
    "print(nx.info(g))"
   ]
  },
  {
   "cell_type": "code",
   "execution_count": 36,
   "metadata": {
    "slideshow": {
     "slide_type": "subslide"
    }
   },
   "outputs": [
    {
     "data": {
      "text/plain": [
       "True"
      ]
     },
     "execution_count": 36,
     "metadata": {},
     "output_type": "execute_result"
    }
   ],
   "source": [
    "'214328887' in g"
   ]
  },
  {
   "cell_type": "code",
   "execution_count": 48,
   "metadata": {
    "slideshow": {
     "slide_type": "subslide"
    }
   },
   "outputs": [
    {
     "data": {
      "text/plain": [
       "AtlasView({'34428380': {}, '56860418': {}, '463952369': {}, '157829215': {}, '158419434': {}, '14925700': {}, '358775055': {}, '380580781': {}, '112939321': {}, '155661154': {}, '123371682': {}, '86221475': {}, '265077741': {}, '307458983': {}, '252770012': {}, '254839786': {}, '279787626': {}, '151338729': {}, '74107696': {}, '195475105': {}, '153226312': {}, '19493072': {}, '145845459': {}, '274153775': {}, '103598216': {}, '8088112': {}, '221036078': {}, '149538028': {}, '26929220': {}, '6581292': {}, '83943787': {}, '37699718': {}, '204140367': {}, '204317520': {}, '107830991': {}, '276706356': {}, '400689940': {}, '222261763': {}, '17868918': {}, '29911100': {}, '46209291': {}, '28465635': {}, '406628822': {}, '439788025': {}, '21548772': {}, '229425177': {}, '236184723': {}, '18951737': {}, '187773078': {}, '276577539': {}, '69592091': {}, '430268163': {}, '529007327': {}, '88323281': {}, '134940306': {}, '250340951': {}, '270449528': {}, '276308596': {}, '259842341': {}, '124528830': {}, '375317198': {}, '196327549': {}, '297801196': {}, '153460275': {}, '72818790': {}, '67864340': {}, '314316607': {}, '116036694': {}, '160237722': {}, '280935165': {}, '19358562': {}, '117674417': {}, '257236842': {}, '394263193': {}, '17116707': {}, '292598082': {}, '83417972': {}, '238201669': {}, '226629405': {}, '43003845': {}, '451250774': {}, '35415466': {}, '22462180': {}, '57490887': {}, '225444667': {}, '131613362': {}, '27633075': {}, '121533789': {}, '200559228': {}, '220368467': {}, '18996905': {}, '172883064': {}, '40981798': {}, '206923844': {}, '133055665': {}, '100581193': {}, '248883350': {}, '31331740': {}, '273149543': {}, '285312927': {}, '229039814': {}, '175553601': {}, '308723182': {}, '54432775': {}, '493102437': {}, '188186842': {}, '196680777': {}, '376946114': {}, '23798922': {}, '217796457': {}, '197881393': {}, '173732041': {}, '302847930': {}, '159944448': {}, '280365428': {}, '440963134': {}, '354375115': {}, '393654197': {}, '216088014': {}, '433375144': {}, '208132323': {}, '442400135': {}, '204115190': {}, '328590469': {}, '295279856': {}, '230880104': {}, '495380584': {}, '522013186': {}, '301297627': {}, '19225542': {}, '281238535': {}, '361142565': {}, '364917755': {}, '494852324': {}, '277416020': {}, '315126921': {}, '100318079': {}, '251757878': {}, '304462046': {}, '430182387': {}, '310741786': {}, '17654192': {}, '92336981': {}, '18149078': {}, '17919972': {}, '168152689': {}, '292632231': {}, '144631425': {}, '336141383': {}, '278652553': {}, '88147704': {}, '480083825': {}, '214968599': {}, '359757400': {}, '434171112': {}, '359811125': {}, '29898839': {}, '388410131': {}, '232348338': {}, '271668270': {}, '356190582': {}, '462363316': {}, '388411903': {}, '374320130': {}, '224160357': {}, '317076339': {}, '329832493': {}, '165436952': {}, '233385634': {}, '245482049': {}, '127774725': {}, '127026358': {}, '235978600': {}, '146967448': {}, '205979455': {}, '90850337': {}, '101204352': {}, '272725886': {}, '389742937': {}, '169325448': {}, '225064360': {}, '528575851': {}, '227390518': {}, '248108296': {}, '395559648': {}, '349994706': {}, '44473103': {}, '202195505': {}, '496438192': {}, '404690841': {}, '422224303': {}, '540912889': {}, '151495845': {}, '522492204': {}, '545020142': {}, '47771770': {}, '221829166': {}, '177251321': {}, '222167136': {}, '557073881': {}, '92319025': {}, '479854996': {}, '459633467': {}, '39056518': {}, '211507422': {}, '460543294': {}, '451005538': {}, '24444592': {}, '298582473': {}, '464740498': {}, '321696489': {}, '228270980': {}, '77618627': {}, '318434640': {}, '60869127': {}, '546014444': {}, '331720696': {}, '455186682': {}, '264093459': {}, '145129229': {}, '15843910': {}, '323373476': {}, '472285050': {}, '555528944': {}, '557330074': {}, '500113460': {}, '526438478': {}, '190572817': {}, '135218281': {}, '200494218': {}, '440341213': {}, '291378807': {}, '242692217': {}, '406476054': {}, '96424027': {}, '248179455': {}, '204214385': {}, '277649366': {}, '69548480': {}, '80130901': {}, '280657342': {}, '43775164': {}, '277245740': {}, '419004209': {}, '451384926': {}, '264019688': {}, '287999850': {}, '282873538': {}, '324585464': {}, '187132738': {}, '14486007': {}, '154544941': {}, '36767299': {}, '110146659': {}, '178077574': {}, '278142159': {}, '287941702': {}, '276604734': {}, '199846203': {}, '76761165': {}, '43752865': {}, '183756503': {}, '189753564': {}, '99467249': {}, '306587940': {}, '481288716': {}, '298258981': {}, '354755104': {}, '253071221': {}, '305294261': {}, '259052939': {}, '429218720': {}, '312462914': {}, '274494655': {}, '395504108': {}, '333815274': {}, '388118957': {}, '217709061': {}, '190092809': {}, '178805277': {}, '345963718': {}, '452385699': {}, '388987123': {}, '480754042': {}})"
      ]
     },
     "execution_count": 48,
     "metadata": {},
     "output_type": "execute_result"
    }
   ],
   "source": [
    "# Atlas view is a mapping of mappings (for key=node, value=edge weight)\n",
    "g['214328887']"
   ]
  },
  {
   "cell_type": "code",
   "execution_count": 39,
   "metadata": {
    "slideshow": {
     "slide_type": "subslide"
    }
   },
   "outputs": [
    {
     "data": {
      "text/plain": [
       "81306"
      ]
     },
     "execution_count": 39,
     "metadata": {},
     "output_type": "execute_result"
    }
   ],
   "source": [
    "len(g)"
   ]
  },
  {
   "cell_type": "code",
   "execution_count": 45,
   "metadata": {
    "slideshow": {
     "slide_type": "subslide"
    }
   },
   "outputs": [
    {
     "data": {
      "text/plain": [
       "284"
      ]
     },
     "execution_count": 45,
     "metadata": {},
     "output_type": "execute_result"
    }
   ],
   "source": [
    "len(list(g.neighbors('214328887'))) # same as g['21432887']"
   ]
  },
  {
   "cell_type": "code",
   "execution_count": 43,
   "metadata": {
    "slideshow": {
     "slide_type": "subslide"
    }
   },
   "outputs": [
    {
     "name": "stdout",
     "output_type": "stream",
     "text": [
      "34428380\n",
      "56860418\n",
      "463952369\n",
      "157829215\n",
      "158419434\n",
      "14925700\n",
      "358775055\n",
      "380580781\n",
      "112939321\n",
      "155661154\n",
      "123371682\n",
      "86221475\n",
      "265077741\n",
      "307458983\n",
      "252770012\n",
      "254839786\n",
      "279787626\n",
      "151338729\n",
      "74107696\n",
      "195475105\n",
      "153226312\n",
      "19493072\n",
      "145845459\n",
      "274153775\n",
      "103598216\n",
      "8088112\n",
      "221036078\n",
      "149538028\n",
      "26929220\n",
      "6581292\n",
      "83943787\n",
      "37699718\n",
      "204140367\n",
      "204317520\n",
      "107830991\n",
      "276706356\n",
      "400689940\n",
      "222261763\n",
      "17868918\n",
      "29911100\n",
      "46209291\n",
      "28465635\n",
      "406628822\n",
      "439788025\n",
      "21548772\n",
      "229425177\n",
      "236184723\n",
      "18951737\n",
      "187773078\n",
      "276577539\n",
      "69592091\n",
      "430268163\n",
      "529007327\n",
      "88323281\n",
      "134940306\n",
      "250340951\n",
      "270449528\n",
      "276308596\n",
      "259842341\n",
      "124528830\n",
      "375317198\n",
      "196327549\n",
      "297801196\n",
      "153460275\n",
      "72818790\n",
      "67864340\n",
      "314316607\n",
      "116036694\n",
      "160237722\n",
      "280935165\n",
      "19358562\n",
      "117674417\n",
      "257236842\n",
      "394263193\n",
      "17116707\n",
      "292598082\n",
      "83417972\n",
      "238201669\n",
      "226629405\n",
      "43003845\n",
      "451250774\n",
      "35415466\n",
      "22462180\n",
      "57490887\n",
      "225444667\n",
      "131613362\n",
      "27633075\n",
      "121533789\n",
      "200559228\n",
      "220368467\n",
      "18996905\n",
      "172883064\n",
      "40981798\n",
      "206923844\n",
      "133055665\n",
      "100581193\n",
      "248883350\n",
      "31331740\n",
      "273149543\n",
      "285312927\n",
      "229039814\n",
      "175553601\n",
      "308723182\n",
      "54432775\n",
      "493102437\n",
      "188186842\n",
      "196680777\n",
      "376946114\n",
      "23798922\n",
      "217796457\n",
      "197881393\n",
      "173732041\n",
      "302847930\n",
      "159944448\n",
      "280365428\n",
      "440963134\n",
      "354375115\n",
      "393654197\n",
      "216088014\n",
      "433375144\n",
      "208132323\n",
      "442400135\n",
      "204115190\n",
      "328590469\n",
      "295279856\n",
      "230880104\n",
      "495380584\n",
      "522013186\n",
      "301297627\n",
      "19225542\n",
      "281238535\n",
      "361142565\n",
      "364917755\n",
      "494852324\n",
      "277416020\n",
      "315126921\n",
      "100318079\n",
      "251757878\n",
      "304462046\n",
      "430182387\n",
      "310741786\n",
      "17654192\n",
      "92336981\n",
      "18149078\n",
      "17919972\n",
      "168152689\n",
      "292632231\n",
      "144631425\n",
      "336141383\n",
      "278652553\n",
      "88147704\n",
      "480083825\n",
      "214968599\n",
      "359757400\n",
      "434171112\n",
      "359811125\n",
      "29898839\n",
      "388410131\n",
      "232348338\n",
      "271668270\n",
      "356190582\n",
      "462363316\n",
      "388411903\n",
      "374320130\n",
      "224160357\n",
      "317076339\n",
      "329832493\n",
      "165436952\n",
      "233385634\n",
      "245482049\n",
      "127774725\n",
      "127026358\n",
      "235978600\n",
      "146967448\n",
      "205979455\n",
      "90850337\n",
      "101204352\n",
      "272725886\n",
      "389742937\n",
      "169325448\n",
      "225064360\n",
      "528575851\n",
      "227390518\n",
      "248108296\n",
      "395559648\n",
      "349994706\n",
      "44473103\n",
      "202195505\n",
      "496438192\n",
      "404690841\n",
      "422224303\n",
      "540912889\n",
      "151495845\n",
      "522492204\n",
      "545020142\n",
      "47771770\n",
      "221829166\n",
      "177251321\n",
      "222167136\n",
      "557073881\n",
      "92319025\n",
      "479854996\n",
      "459633467\n",
      "39056518\n",
      "211507422\n",
      "460543294\n",
      "451005538\n",
      "24444592\n",
      "298582473\n",
      "464740498\n",
      "321696489\n",
      "228270980\n",
      "77618627\n",
      "318434640\n",
      "60869127\n",
      "546014444\n",
      "331720696\n",
      "455186682\n",
      "264093459\n",
      "145129229\n",
      "15843910\n",
      "323373476\n",
      "472285050\n",
      "555528944\n",
      "557330074\n",
      "500113460\n",
      "526438478\n",
      "190572817\n",
      "135218281\n",
      "200494218\n",
      "440341213\n",
      "291378807\n",
      "242692217\n",
      "406476054\n",
      "96424027\n",
      "248179455\n",
      "204214385\n",
      "277649366\n",
      "69548480\n",
      "80130901\n",
      "280657342\n",
      "43775164\n",
      "277245740\n",
      "419004209\n",
      "451384926\n",
      "264019688\n",
      "287999850\n",
      "282873538\n",
      "324585464\n",
      "187132738\n",
      "14486007\n",
      "154544941\n",
      "36767299\n",
      "110146659\n",
      "178077574\n",
      "278142159\n",
      "287941702\n",
      "276604734\n",
      "199846203\n",
      "76761165\n",
      "43752865\n",
      "183756503\n",
      "189753564\n",
      "99467249\n",
      "306587940\n",
      "481288716\n",
      "298258981\n",
      "354755104\n",
      "253071221\n",
      "305294261\n",
      "259052939\n",
      "429218720\n",
      "312462914\n",
      "274494655\n",
      "395504108\n",
      "333815274\n",
      "388118957\n",
      "217709061\n",
      "190092809\n",
      "178805277\n",
      "345963718\n",
      "452385699\n",
      "388987123\n",
      "480754042\n"
     ]
    }
   ],
   "source": [
    "for neighbor in g.neighbors('214328887'):\n",
    "    print(neighbor)"
   ]
  },
  {
   "cell_type": "markdown",
   "metadata": {},
   "source": [
    "## Class exercise\n",
    "Which node in the twitter data has the most connections?"
   ]
  },
  {
   "cell_type": "markdown",
   "metadata": {},
   "source": [
    "## Self study\n",
    "Below code is from [geeksforgeeks](https://www.geeksforgeeks.org/find-the-minimum-number-of-moves-to-reach-end-of-the-array/).  \n",
    "It shows how to create a graph from an array of integers where: \n",
    "1. Each element in the array is neighbor with elements on previous and next index\n",
    "2. Each element in the array is neighbor with any other element with the same value  \n",
    "**Illustrated with array:  [1, 2, 3, 4, 1, 5] like below**\n",
    "![](images/graph_exercise.png)\n",
    "\n",
    "And to find the ***shortest possible*** path through the graph"
   ]
  },
  {
   "cell_type": "code",
   "execution_count": 42,
   "metadata": {},
   "outputs": [
    {
     "name": "stdout",
     "output_type": "stream",
     "text": [
      "2\n"
     ]
    }
   ],
   "source": [
    "# Find the shortest possible road through an array of 0-9. A graph where each cell is connected to prev and next and to any same value\n",
    "# source: https://www.geeksforgeeks.org/find-the-minimum-number-of-moves-to-reach-end-of-the-array/\n",
    "from collections import deque \n",
    "N = 100005\n",
    "\n",
    "# the graph is an array of arrays where inner array represent nodes and values in inner represent edges\n",
    "gr = [[] for i in range(N)] \n",
    "  \n",
    "# Function to add edge \n",
    "def add_edge(u, v): \n",
    "    gr[u].append(v) \n",
    "    gr[v].append(u)\n",
    "    \n",
    "# function to return the minimum path \n",
    "# from 0th node to the (n - 1)th node \n",
    "def dijkstra(n): \n",
    "      \n",
    "    # To check whether an edge is visited \n",
    "    # or not and to keep distance of vertex \n",
    "    # from 0th index \n",
    "    vis = [0 for i in range(n)] \n",
    "    dist = [10**9 for i in range(n)] \n",
    "  \n",
    "    # Make 0th index visited and  \n",
    "    # distance is zero \n",
    "    vis[0] = 1\n",
    "    dist[0] = 0\n",
    "  \n",
    "    # Take a queue and  \n",
    "    # append first element \n",
    "    q = deque() \n",
    "    q.append(0) \n",
    "  \n",
    "    # Continue this until   \n",
    "    # all vertices are visited \n",
    "    while (len(q) > 0): \n",
    "        x = q.popleft() \n",
    "  \n",
    "        # Remove the first element \n",
    "        for i in gr[x]: \n",
    "  \n",
    "            # Check if a vertex is  \n",
    "            # already visited or not \n",
    "            if (vis[i] == 1): \n",
    "                continue\n",
    "  \n",
    "            # Make vertex visited \n",
    "            vis[i] = 1\n",
    "  \n",
    "            # Store the number of moves  \n",
    "            # to reach element \n",
    "            dist[i] = dist[x] + 1\n",
    "  \n",
    "            # Push the current vertex \n",
    "            # into the queue \n",
    "            q.append(i) \n",
    "  \n",
    "    # Return the minimum number of \n",
    "    # moves to reach (n - 1)th index \n",
    "    return dist[n - 1] \n",
    "  \n",
    "# Function to return the minimum number of moves \n",
    "# required to reach the end of the array \n",
    "def Min_Moves(a, n): \n",
    "  \n",
    "    # To store the positions of each element \n",
    "    fre = [[] for i in range(10)] \n",
    "    for i in range(n): \n",
    "        if (i != n - 1): \n",
    "            add_edge(i, i + 1) \n",
    "  \n",
    "        fre[a[i]].append(i) \n",
    "  \n",
    "    # Add edge between same elements \n",
    "    for i in range(10): \n",
    "        for j in range(len(fre[i])): \n",
    "            for k in range(j + 1,len(fre[i])): \n",
    "                if (fre[i][j] + 1 != fre[i][k] and \n",
    "                    fre[i][j] - 1 != fre[i][k]): \n",
    "                    add_edge(fre[i][j], fre[i][k]) \n",
    "  \n",
    "    # Return the required  \n",
    "    # minimum number of moves \n",
    "    return dijkstra(n) \n",
    "  \n",
    "# Driver code \n",
    "a = [1, 2, 3, 4, 1, 5] \n",
    "n = len(a) \n",
    "\n",
    "print(Min_Moves(a, n)) \n",
    "  \n",
    "# This code is contributed by Mohit Kumar \n"
   ]
  },
  {
   "cell_type": "markdown",
   "metadata": {
    "slideshow": {
     "slide_type": "slide"
    }
   },
   "source": [
    "# PageRank Algorithm\n",
    "\n",
    "**PageRank** was one of the original ideas that set Google's search apart from other Web search engines when it was introduced in 1997.\n",
    "\n",
    "PageRank was invented to solve the problem of term-frequency (TF) tyranny: if we are searching for `IBM`, how do we make sure that the *first* result is IBM's website, and not a random page that mentioned `IBM` more frequently?\n",
    "\n",
    "The idea is that ibm.com has many in-links (links to the page) so it should be ranked higher.\n",
    "Each in-link is a vote for the quality of the linked-to page. But if we only count in-links it would be possible for a web spammer to create a network of pages and have them all point to his page, increasing the score of his page. \n",
    "\n",
    "Therefore the PageRank algorithm is designed to weight links from high-quality sites more heavily. A high-quality site is one that is linked to by other high-quality sites.\n",
    "\n",
    "##### References:\n",
    "The above description is from *Artificial Intelligence: A Modern Approach Third Edition* by Stuart J. Russell and Peter Norvig."
   ]
  },
  {
   "cell_type": "markdown",
   "metadata": {
    "slideshow": {
     "slide_type": "subslide"
    }
   },
   "source": [
    "## PageRank implementation\n",
    "\n",
    "\n",
    "$PR(p) = \\frac{1-d}{N} + d \\sum_{i}^{} \\frac{PR(in_{i})}{C(in_{i})}$\n",
    "\n",
    "Where $PR(p)$ is the page rank of page $p$, $N$ is the total number of pages, $in_i$ are the pages that link *to* page $p$ and $C(in_i)$ is the count of the total number of out-links on page $in_i$. The constant $d$ is a dampening factor to reduce the value for each link.\n",
    "\n",
    "This is an iterative algorithm, where we start with all pages having rank = 1."
   ]
  },
  {
   "cell_type": "code",
   "execution_count": null,
   "metadata": {
    "slideshow": {
     "slide_type": "subslide"
    }
   },
   "outputs": [],
   "source": [
    "import numpy as np\n",
    "\n",
    "GLOBAL_PR = np.ones(graph.number_of_nodes())\n",
    "d = 0.8\n",
    "\n",
    "def compute_page_rank(graph, no_it=100):\n",
    "    \"\"\"Computes the page rank of the given graph\n",
    "    \n",
    "    Arguments:\n",
    "      graph: A networkx graph\n",
    "      no_it: A number of iterations to run the algorithm\n",
    "    \"\"\"\n",
    "    for _ in range(no_it):\n",
    "        for node in graph.nodes:\n",
    "            edges_in = [t[0] for t in graph.in_edges(node)]\n",
    "            sum_in = 0\n",
    "            for in_node in edges_in:\n",
    "                c = len(graph.out_edges(in_node))\n",
    "                pr = GLOBAL_PR[in_node]\n",
    "                sum_in += pr / c\n",
    "            sum_in *= d\n",
    "            new_rank = sum_in + ((1 - d) / len(GLOBAL_PR))\n",
    "            GLOBAL_PR[node] = new_rank\n",
    "        \n",
    "compute_page_rank(graph)"
   ]
  },
  {
   "cell_type": "code",
   "execution_count": null,
   "metadata": {
    "slideshow": {
     "slide_type": "subslide"
    }
   },
   "outputs": [],
   "source": [
    "compute_page_rank(graph, no_it=100)\n",
    "print('The highest PR is {}'.format(GLOBAL_PR[np.argmax(GLOBAL_PR)]))\n",
    "print('The node with the highest PR is {}'.format(np.argmax(GLOBAL_PR)))\n",
    "print('The person with the highest Page Rank is {}'.format(graph.node[np.argmax(GLOBAL_PR)]['name']))\n",
    "print(GLOBAL_PR)"
   ]
  },
  {
   "cell_type": "code",
   "execution_count": null,
   "metadata": {
    "slideshow": {
     "slide_type": "subslide"
    }
   },
   "outputs": [],
   "source": [
    "import numpy as np\n",
    "\n",
    "\n",
    "GLOBAL_PR = np.ones(graph.number_of_nodes())\n",
    "\n",
    "\n",
    "def page_rank(node):\n",
    "    n = graph.number_of_nodes()\n",
    "    damping = 0.85\n",
    "\n",
    "    pr_in = np.array([GLOBAL_PR[remote] for remote, _ in graph.in_edges(node)])\n",
    "    c = np.array([graph.out_degree(remote) for remote, _ in graph.in_edges(node)])\n",
    "    pr_p = ((1 - damping) / n) + (damping * np.sum(pr_in / c))\n",
    "\n",
    "    return pr_p\n",
    "        \n",
    "\n",
    "def compute_page_rank_step(graph):\n",
    "    return np.array([page_rank(n) for n in graph.nodes()])\n",
    "    \n",
    "    \n",
    "def compute_page_rank(graph, no_it=100):\n",
    "    global GLOBAL_PR\n",
    "    if no_it == 'converge':\n",
    "        converged = False\n",
    "        it_count = 0\n",
    "        while not converged:\n",
    "            new_pr = compute_page_rank_step(graph)\n",
    "            converged = np.array_equal(GLOBAL_PR, new_pr)\n",
    "            GLOBAL_PR = new_pr \n",
    "            it_count += 1\n",
    "            \n",
    "        print('It took me {} iterations to converge'.format(it_count))\n",
    "    else:\n",
    "        for idx in range(no_it):\n",
    "            GLOBAL_PR = compute_page_rank_step(graph)\n",
    "            \n",
    "compute_page_rank(graph, no_it='converge')\n",
    "print('The highest PR is {}'.format(GLOBAL_PR[np.argmax(GLOBAL_PR)]))\n",
    "print('The node with the highest PR is {}'.format(np.argmax(GLOBAL_PR)))\n",
    "print('The person with the highest PR is {}'.format(graph.node[np.argmax(GLOBAL_PR)]['name']))\n",
    "print(GLOBAL_PR)"
   ]
  },
  {
   "cell_type": "code",
   "execution_count": null,
   "metadata": {},
   "outputs": [],
   "source": [
    "print(graph.node[27]['name'])"
   ]
  }
 ],
 "metadata": {
  "celltoolbar": "Slideshow",
  "kernelspec": {
   "display_name": "Python 3",
   "language": "python",
   "name": "python3"
  },
  "language_info": {
   "codemirror_mode": {
    "name": "ipython",
    "version": 3
   },
   "file_extension": ".py",
   "mimetype": "text/x-python",
   "name": "python",
   "nbconvert_exporter": "python",
   "pygments_lexer": "ipython3",
   "version": "3.7.4"
  },
  "varInspector": {
   "cols": {
    "lenName": 16,
    "lenType": 16,
    "lenVar": 40
   },
   "kernels_config": {
    "python": {
     "delete_cmd_postfix": "",
     "delete_cmd_prefix": "del ",
     "library": "var_list.py",
     "varRefreshCmd": "print(var_dic_list())"
    },
    "r": {
     "delete_cmd_postfix": ") ",
     "delete_cmd_prefix": "rm(",
     "library": "var_list.r",
     "varRefreshCmd": "cat(var_dic_list()) "
    }
   },
   "types_to_exclude": [
    "module",
    "function",
    "builtin_function_or_method",
    "instance",
    "_Feature"
   ],
   "window_display": false
  }
 },
 "nbformat": 4,
 "nbformat_minor": 2
}
